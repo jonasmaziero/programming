{
 "cells": [
  {
   "cell_type": "markdown",
   "metadata": {},
   "source": [
    "### Universidade Federal de Santa Maria, Departamento de Física <br> FSC 1004 - Computação Básica para a Física - Fortran, Prof. Jonas Maziero <br> Semestre 2018/2, Data: 10 de dezembro de 2018 \n",
    "\n",
    "# Prova II\n",
    "\n"
   ]
  },
  {
   "cell_type": "markdown",
   "metadata": {},
   "source": [
    "Para uma projétil com velocidade inicial $\\vec{v}_{0}=(v_{0x},v_{0y})=(5\\text{ m/s},20\\text{ m/s})$ sujeito a uma força de arrasto proporcinal à velocidade, o tempo necessário para que a partícula esteja na posição de alcance máximo (mesma altura inicial) é dado pela raiz da equação transcendental\n",
    "\\begin{equation}\n",
    "f = \\frac{\\kappa v_{0y}+g}{g\\kappa}(1-e^{-\\kappa T})-T=0,\n",
    "\\end{equation}\n",
    "em que $g = 10\\text{ m/s}^{2}$. Resolva esta equação para $T$ usando o método da bissecção e faça um gráfico do alcance máximo\n",
    "\\begin{equation}\n",
    "R=v_{0x}(1-e^{-\\kappa T})/\\kappa\n",
    "\\end{equation}\n",
    "em função de $\\kappa$. <br>\n",
    "_OBS._ $\\kappa$ não pode ser nulo. <br>\n",
    "_OBS._ Antes de fazer esses cálculos, estude a função da qual queres calcular as raízes fazendo gráficos dela em função de $T$ para alguns valores de $\\kappa$. <br>\n",
    "_OBS._ A estrutura do programa fica a critério de vocês, mas seria pertinente usar o programa já feito para a bissecção. Nesse caso, faça um módulo para compartilhar os valores de $v_{0x},v_{0y}, g, \\kappa$ entre programa principal (ou subrotina) e a função $f$. <br>"
   ]
  },
  {
   "cell_type": "markdown",
   "metadata": {},
   "source": []
  }
 ],
 "metadata": {
  "kernelspec": {
   "display_name": "Python 3",
   "language": "python",
   "name": "python3"
  },
  "language_info": {
   "codemirror_mode": {
    "name": "ipython",
    "version": 3
   },
   "file_extension": ".py",
   "mimetype": "text/x-python",
   "name": "python",
   "nbconvert_exporter": "python",
   "pygments_lexer": "ipython3",
   "version": "3.6.4"
  }
 },
 "nbformat": 4,
 "nbformat_minor": 2
}
