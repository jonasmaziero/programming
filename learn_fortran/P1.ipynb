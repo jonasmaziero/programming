{
 "cells": [
  {
   "cell_type": "markdown",
   "metadata": {},
   "source": [
    "### Universidade Federal de Santa Maria, Departamento de Física <br> FSC 1004 - Computação Básica para a Física - Fortran, Prof. Jonas Maziero <br> Semestre 2018/2, Data: 08 de outubro de 2018 \n",
    "\n",
    "# Prova I\n",
    "\n"
   ]
  },
  {
   "cell_type": "markdown",
   "metadata": {},
   "source": [
    "Para um circuito elétrico capacitor-indutor, a carga elétrica nas placas do capacitor em um instante de tempo $t$ é dada por:\n",
    "\\begin{equation}\n",
    "q=q_{0}\\cos\\omega t,\n",
    "\\end{equation}\n",
    "com\n",
    "\\begin{equation}\n",
    "\\omega=1/\\sqrt{LC}.\n",
    "\\end{equation}\n",
    "Já para um circuito capacitor-indutor-resistor,\n",
    "\\begin{equation}\n",
    "q'=q_{0}e^{-(R/2L)t}\\cos\\omega' t,\n",
    "\\end{equation}\n",
    "onde\n",
    "\\begin{equation}\n",
    "\\omega'=\\sqrt{\\omega^{2}-(R/2L)^{2}}.\n",
    "\\end{equation}\n",
    "Considere que $q_{0}=1\\text{ C}$, $C=10^{-3}\\text{F}$, $R=10^{-3}\\text{}\\Omega$ e $L=10^{-3}\\text{H}$.<br>\n",
    "Faça um programa levando em conta as seguintes instruções. Declare essas constantes como parâmetros. Faça duas funções para calcuçar as frequências $\\omega$ e $\\omega'$. Faça duas subrotinas para retornar os valores de $q$ e $q'$. No programa principal, interrogue o usuário do teu programa se ele que resolver o problema livre (sem $R$) ou o problema amortecido (com $R$). Declare a resposta como uma variável do tipo character, varie o tempo $t$ de $0\\text{ s}$ a $10\\text{ s}$ (com \"passo\" $dt=0.05$) e, condicionado na resposta do usuário, salve os pares _tempo-carga_ em um arquivo (com nome apropriado).<br>\n",
    "Para testar teu programa, gere os dados usando as duas opções do usuário e grafique esses dados usando, no gnuplot: plot \"file1.dat\" w l, \"file2.dat\" w l.  "
   ]
  },
  {
   "cell_type": "code",
   "execution_count": null,
   "metadata": {},
   "outputs": [],
   "source": []
  }
 ],
 "metadata": {
  "kernelspec": {
   "display_name": "Python 3",
   "language": "python",
   "name": "python3"
  },
  "language_info": {
   "codemirror_mode": {
    "name": "ipython",
    "version": 3
   },
   "file_extension": ".py",
   "mimetype": "text/x-python",
   "name": "python",
   "nbconvert_exporter": "python",
   "pygments_lexer": "ipython3",
   "version": "3.6.4"
  }
 },
 "nbformat": 4,
 "nbformat_minor": 2
}
