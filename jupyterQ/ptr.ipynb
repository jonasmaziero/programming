{
 "cells": [
  {
   "cell_type": "code",
   "execution_count": 1,
   "metadata": {},
   "outputs": [
    {
     "ename": "NameError",
     "evalue": "name 'proj_num' is not defined",
     "output_type": "error",
     "traceback": [
      "\u001b[0;31m---------------------------------------------------------------------------\u001b[0m",
      "\u001b[0;31mNameError\u001b[0m                                 Traceback (most recent call last)",
      "\u001b[0;32m~/Dropbox/GitHub/jupyterQ/jupyterQ.ipynb\u001b[0m in \u001b[0;36m<module>\u001b[0;34m\u001b[0m\n\u001b[1;32m      4\u001b[0m         \u001b[0mAexp\u001b[0m \u001b[0;34m+=\u001b[0m \u001b[0mmath\u001b[0m\u001b[0;34m.\u001b[0m\u001b[0mexp\u001b[0m\u001b[0;34m(\u001b[0m\u001b[0meva\u001b[0m\u001b[0;34m[\u001b[0m\u001b[0mj\u001b[0m\u001b[0;34m]\u001b[0m\u001b[0;34m)\u001b[0m\u001b[0;34m*\u001b[0m\u001b[0mproj_num\u001b[0m\u001b[0;34m(\u001b[0m\u001b[0meve\u001b[0m\u001b[0;34m[\u001b[0m\u001b[0;34m:\u001b[0m\u001b[0;34m,\u001b[0m\u001b[0mj\u001b[0m\u001b[0;34m]\u001b[0m\u001b[0;34m)\u001b[0m\u001b[0;34m\u001b[0m\u001b[0;34m\u001b[0m\u001b[0m\n\u001b[1;32m      5\u001b[0m     \u001b[0;32mreturn\u001b[0m \u001b[0mAexp\u001b[0m\u001b[0;34m\u001b[0m\u001b[0;34m\u001b[0m\u001b[0m\n\u001b[0;32m----> 6\u001b[0;31m \u001b[0msimplify\u001b[0m\u001b[0;34m(\u001b[0m\u001b[0mmat_exp_num\u001b[0m\u001b[0;34m(\u001b[0m\u001b[0mZ\u001b[0m\u001b[0;34m)\u001b[0m\u001b[0;34m)\u001b[0m\u001b[0;34m\u001b[0m\u001b[0;34m\u001b[0m\u001b[0m\n\u001b[0m",
      "\u001b[0;32m~/Dropbox/GitHub/jupyterQ/jupyterQ.ipynb\u001b[0m in \u001b[0;36mmat_exp_num\u001b[0;34m(A)\u001b[0m\n\u001b[1;32m      2\u001b[0m     \u001b[0md\u001b[0m \u001b[0;34m=\u001b[0m \u001b[0mA\u001b[0m\u001b[0;34m.\u001b[0m\u001b[0mshape\u001b[0m\u001b[0;34m[\u001b[0m\u001b[0;36m0\u001b[0m\u001b[0;34m]\u001b[0m\u001b[0;34m;\u001b[0m \u001b[0mAexp\u001b[0m \u001b[0;34m=\u001b[0m \u001b[0mnp\u001b[0m\u001b[0;34m.\u001b[0m\u001b[0mzeros\u001b[0m\u001b[0;34m(\u001b[0m\u001b[0;34m(\u001b[0m\u001b[0md\u001b[0m\u001b[0;34m,\u001b[0m\u001b[0md\u001b[0m\u001b[0;34m)\u001b[0m\u001b[0;34m,\u001b[0m \u001b[0mdtype\u001b[0m \u001b[0;34m=\u001b[0m \u001b[0mcomplex\u001b[0m\u001b[0;34m)\u001b[0m\u001b[0;34m;\u001b[0m \u001b[0meva\u001b[0m\u001b[0;34m,\u001b[0m \u001b[0meve\u001b[0m \u001b[0;34m=\u001b[0m \u001b[0mnp\u001b[0m\u001b[0;34m.\u001b[0m\u001b[0mlinalg\u001b[0m\u001b[0;34m.\u001b[0m\u001b[0meig\u001b[0m\u001b[0;34m(\u001b[0m\u001b[0mA\u001b[0m\u001b[0;34m)\u001b[0m\u001b[0;34m\u001b[0m\u001b[0;34m\u001b[0m\u001b[0m\n\u001b[1;32m      3\u001b[0m     \u001b[0;32mfor\u001b[0m \u001b[0mj\u001b[0m \u001b[0;32min\u001b[0m \u001b[0mrange\u001b[0m\u001b[0;34m(\u001b[0m\u001b[0;36m0\u001b[0m\u001b[0;34m,\u001b[0m \u001b[0md\u001b[0m\u001b[0;34m)\u001b[0m\u001b[0;34m:\u001b[0m\u001b[0;34m\u001b[0m\u001b[0;34m\u001b[0m\u001b[0m\n\u001b[0;32m----> 4\u001b[0;31m         \u001b[0mAexp\u001b[0m \u001b[0;34m+=\u001b[0m \u001b[0mmath\u001b[0m\u001b[0;34m.\u001b[0m\u001b[0mexp\u001b[0m\u001b[0;34m(\u001b[0m\u001b[0meva\u001b[0m\u001b[0;34m[\u001b[0m\u001b[0mj\u001b[0m\u001b[0;34m]\u001b[0m\u001b[0;34m)\u001b[0m\u001b[0;34m*\u001b[0m\u001b[0mproj_num\u001b[0m\u001b[0;34m(\u001b[0m\u001b[0meve\u001b[0m\u001b[0;34m[\u001b[0m\u001b[0;34m:\u001b[0m\u001b[0;34m,\u001b[0m\u001b[0mj\u001b[0m\u001b[0;34m]\u001b[0m\u001b[0;34m)\u001b[0m\u001b[0;34m\u001b[0m\u001b[0;34m\u001b[0m\u001b[0m\n\u001b[0m\u001b[1;32m      5\u001b[0m     \u001b[0;32mreturn\u001b[0m \u001b[0mAexp\u001b[0m\u001b[0;34m\u001b[0m\u001b[0;34m\u001b[0m\u001b[0m\n\u001b[1;32m      6\u001b[0m \u001b[0msimplify\u001b[0m\u001b[0;34m(\u001b[0m\u001b[0mmat_exp_num\u001b[0m\u001b[0;34m(\u001b[0m\u001b[0mZ\u001b[0m\u001b[0;34m)\u001b[0m\u001b[0;34m)\u001b[0m\u001b[0;34m\u001b[0m\u001b[0;34m\u001b[0m\u001b[0m\n",
      "\u001b[0;31mNameError\u001b[0m: name 'proj_num' is not defined"
     ]
    },
    {
     "ename": "NameError",
     "evalue": "name 'proj_num' is not defined",
     "output_type": "error",
     "traceback": [
      "\u001b[0;31m---------------------------------------------------------------------------\u001b[0m",
      "\u001b[0;31mNameError\u001b[0m                                 Traceback (most recent call last)",
      "\u001b[0;32m/tmp/ipykernel_37257/4000640150.py\u001b[0m in \u001b[0;36m<module>\u001b[0;34m\u001b[0m\n\u001b[0;32m----> 1\u001b[0;31m \u001b[0mget_ipython\u001b[0m\u001b[0;34m(\u001b[0m\u001b[0;34m)\u001b[0m\u001b[0;34m.\u001b[0m\u001b[0mrun_line_magic\u001b[0m\u001b[0;34m(\u001b[0m\u001b[0;34m'run'\u001b[0m\u001b[0;34m,\u001b[0m \u001b[0;34m'jupyterQ.ipynb'\u001b[0m\u001b[0;34m)\u001b[0m\u001b[0;34m\u001b[0m\u001b[0;34m\u001b[0m\u001b[0m\n\u001b[0m",
      "\u001b[0;32m~/anaconda3/lib/python3.8/site-packages/IPython/core/interactiveshell.py\u001b[0m in \u001b[0;36mrun_line_magic\u001b[0;34m(self, magic_name, line, _stack_depth)\u001b[0m\n\u001b[1;32m   2349\u001b[0m                 \u001b[0mkwargs\u001b[0m\u001b[0;34m[\u001b[0m\u001b[0;34m'local_ns'\u001b[0m\u001b[0;34m]\u001b[0m \u001b[0;34m=\u001b[0m \u001b[0mself\u001b[0m\u001b[0;34m.\u001b[0m\u001b[0mget_local_scope\u001b[0m\u001b[0;34m(\u001b[0m\u001b[0mstack_depth\u001b[0m\u001b[0;34m)\u001b[0m\u001b[0;34m\u001b[0m\u001b[0;34m\u001b[0m\u001b[0m\n\u001b[1;32m   2350\u001b[0m             \u001b[0;32mwith\u001b[0m \u001b[0mself\u001b[0m\u001b[0;34m.\u001b[0m\u001b[0mbuiltin_trap\u001b[0m\u001b[0;34m:\u001b[0m\u001b[0;34m\u001b[0m\u001b[0;34m\u001b[0m\u001b[0m\n\u001b[0;32m-> 2351\u001b[0;31m                 \u001b[0mresult\u001b[0m \u001b[0;34m=\u001b[0m \u001b[0mfn\u001b[0m\u001b[0;34m(\u001b[0m\u001b[0;34m*\u001b[0m\u001b[0margs\u001b[0m\u001b[0;34m,\u001b[0m \u001b[0;34m**\u001b[0m\u001b[0mkwargs\u001b[0m\u001b[0;34m)\u001b[0m\u001b[0;34m\u001b[0m\u001b[0;34m\u001b[0m\u001b[0m\n\u001b[0m\u001b[1;32m   2352\u001b[0m             \u001b[0;32mreturn\u001b[0m \u001b[0mresult\u001b[0m\u001b[0;34m\u001b[0m\u001b[0;34m\u001b[0m\u001b[0m\n\u001b[1;32m   2353\u001b[0m \u001b[0;34m\u001b[0m\u001b[0m\n",
      "\u001b[0;32m~/anaconda3/lib/python3.8/site-packages/decorator.py\u001b[0m in \u001b[0;36mfun\u001b[0;34m(*args, **kw)\u001b[0m\n\u001b[1;32m    230\u001b[0m             \u001b[0;32mif\u001b[0m \u001b[0;32mnot\u001b[0m \u001b[0mkwsyntax\u001b[0m\u001b[0;34m:\u001b[0m\u001b[0;34m\u001b[0m\u001b[0;34m\u001b[0m\u001b[0m\n\u001b[1;32m    231\u001b[0m                 \u001b[0margs\u001b[0m\u001b[0;34m,\u001b[0m \u001b[0mkw\u001b[0m \u001b[0;34m=\u001b[0m \u001b[0mfix\u001b[0m\u001b[0;34m(\u001b[0m\u001b[0margs\u001b[0m\u001b[0;34m,\u001b[0m \u001b[0mkw\u001b[0m\u001b[0;34m,\u001b[0m \u001b[0msig\u001b[0m\u001b[0;34m)\u001b[0m\u001b[0;34m\u001b[0m\u001b[0;34m\u001b[0m\u001b[0m\n\u001b[0;32m--> 232\u001b[0;31m             \u001b[0;32mreturn\u001b[0m \u001b[0mcaller\u001b[0m\u001b[0;34m(\u001b[0m\u001b[0mfunc\u001b[0m\u001b[0;34m,\u001b[0m \u001b[0;34m*\u001b[0m\u001b[0;34m(\u001b[0m\u001b[0mextras\u001b[0m \u001b[0;34m+\u001b[0m \u001b[0margs\u001b[0m\u001b[0;34m)\u001b[0m\u001b[0;34m,\u001b[0m \u001b[0;34m**\u001b[0m\u001b[0mkw\u001b[0m\u001b[0;34m)\u001b[0m\u001b[0;34m\u001b[0m\u001b[0;34m\u001b[0m\u001b[0m\n\u001b[0m\u001b[1;32m    233\u001b[0m     \u001b[0mfun\u001b[0m\u001b[0;34m.\u001b[0m\u001b[0m__name__\u001b[0m \u001b[0;34m=\u001b[0m \u001b[0mfunc\u001b[0m\u001b[0;34m.\u001b[0m\u001b[0m__name__\u001b[0m\u001b[0;34m\u001b[0m\u001b[0;34m\u001b[0m\u001b[0m\n\u001b[1;32m    234\u001b[0m     \u001b[0mfun\u001b[0m\u001b[0;34m.\u001b[0m\u001b[0m__doc__\u001b[0m \u001b[0;34m=\u001b[0m \u001b[0mfunc\u001b[0m\u001b[0;34m.\u001b[0m\u001b[0m__doc__\u001b[0m\u001b[0;34m\u001b[0m\u001b[0;34m\u001b[0m\u001b[0m\n",
      "\u001b[0;32m~/anaconda3/lib/python3.8/site-packages/IPython/core/magic.py\u001b[0m in \u001b[0;36m<lambda>\u001b[0;34m(f, *a, **k)\u001b[0m\n\u001b[1;32m    185\u001b[0m     \u001b[0;31m# but it's overkill for just that one bit of state.\u001b[0m\u001b[0;34m\u001b[0m\u001b[0;34m\u001b[0m\u001b[0;34m\u001b[0m\u001b[0m\n\u001b[1;32m    186\u001b[0m     \u001b[0;32mdef\u001b[0m \u001b[0mmagic_deco\u001b[0m\u001b[0;34m(\u001b[0m\u001b[0marg\u001b[0m\u001b[0;34m)\u001b[0m\u001b[0;34m:\u001b[0m\u001b[0;34m\u001b[0m\u001b[0;34m\u001b[0m\u001b[0m\n\u001b[0;32m--> 187\u001b[0;31m         \u001b[0mcall\u001b[0m \u001b[0;34m=\u001b[0m \u001b[0;32mlambda\u001b[0m \u001b[0mf\u001b[0m\u001b[0;34m,\u001b[0m \u001b[0;34m*\u001b[0m\u001b[0ma\u001b[0m\u001b[0;34m,\u001b[0m \u001b[0;34m**\u001b[0m\u001b[0mk\u001b[0m\u001b[0;34m:\u001b[0m \u001b[0mf\u001b[0m\u001b[0;34m(\u001b[0m\u001b[0;34m*\u001b[0m\u001b[0ma\u001b[0m\u001b[0;34m,\u001b[0m \u001b[0;34m**\u001b[0m\u001b[0mk\u001b[0m\u001b[0;34m)\u001b[0m\u001b[0;34m\u001b[0m\u001b[0;34m\u001b[0m\u001b[0m\n\u001b[0m\u001b[1;32m    188\u001b[0m \u001b[0;34m\u001b[0m\u001b[0m\n\u001b[1;32m    189\u001b[0m         \u001b[0;32mif\u001b[0m \u001b[0mcallable\u001b[0m\u001b[0;34m(\u001b[0m\u001b[0marg\u001b[0m\u001b[0;34m)\u001b[0m\u001b[0;34m:\u001b[0m\u001b[0;34m\u001b[0m\u001b[0;34m\u001b[0m\u001b[0m\n",
      "\u001b[0;32m~/anaconda3/lib/python3.8/site-packages/IPython/core/magics/execution.py\u001b[0m in \u001b[0;36mrun\u001b[0;34m(self, parameter_s, runner, file_finder)\u001b[0m\n\u001b[1;32m    722\u001b[0m             \u001b[0;32mwith\u001b[0m \u001b[0mpreserve_keys\u001b[0m\u001b[0;34m(\u001b[0m\u001b[0mself\u001b[0m\u001b[0;34m.\u001b[0m\u001b[0mshell\u001b[0m\u001b[0;34m.\u001b[0m\u001b[0muser_ns\u001b[0m\u001b[0;34m,\u001b[0m \u001b[0;34m'__file__'\u001b[0m\u001b[0;34m)\u001b[0m\u001b[0;34m:\u001b[0m\u001b[0;34m\u001b[0m\u001b[0;34m\u001b[0m\u001b[0m\n\u001b[1;32m    723\u001b[0m                 \u001b[0mself\u001b[0m\u001b[0;34m.\u001b[0m\u001b[0mshell\u001b[0m\u001b[0;34m.\u001b[0m\u001b[0muser_ns\u001b[0m\u001b[0;34m[\u001b[0m\u001b[0;34m'__file__'\u001b[0m\u001b[0;34m]\u001b[0m \u001b[0;34m=\u001b[0m \u001b[0mfilename\u001b[0m\u001b[0;34m\u001b[0m\u001b[0;34m\u001b[0m\u001b[0m\n\u001b[0;32m--> 724\u001b[0;31m                 \u001b[0mself\u001b[0m\u001b[0;34m.\u001b[0m\u001b[0mshell\u001b[0m\u001b[0;34m.\u001b[0m\u001b[0msafe_execfile_ipy\u001b[0m\u001b[0;34m(\u001b[0m\u001b[0mfilename\u001b[0m\u001b[0;34m,\u001b[0m \u001b[0mraise_exceptions\u001b[0m\u001b[0;34m=\u001b[0m\u001b[0;32mTrue\u001b[0m\u001b[0;34m)\u001b[0m\u001b[0;34m\u001b[0m\u001b[0;34m\u001b[0m\u001b[0m\n\u001b[0m\u001b[1;32m    725\u001b[0m             \u001b[0;32mreturn\u001b[0m\u001b[0;34m\u001b[0m\u001b[0;34m\u001b[0m\u001b[0m\n\u001b[1;32m    726\u001b[0m \u001b[0;34m\u001b[0m\u001b[0m\n",
      "\u001b[0;32m~/anaconda3/lib/python3.8/site-packages/IPython/core/interactiveshell.py\u001b[0m in \u001b[0;36msafe_execfile_ipy\u001b[0;34m(self, fname, shell_futures, raise_exceptions)\u001b[0m\n\u001b[1;32m   2836\u001b[0m                     \u001b[0mresult\u001b[0m \u001b[0;34m=\u001b[0m \u001b[0mself\u001b[0m\u001b[0;34m.\u001b[0m\u001b[0mrun_cell\u001b[0m\u001b[0;34m(\u001b[0m\u001b[0mcell\u001b[0m\u001b[0;34m,\u001b[0m \u001b[0msilent\u001b[0m\u001b[0;34m=\u001b[0m\u001b[0;32mTrue\u001b[0m\u001b[0;34m,\u001b[0m \u001b[0mshell_futures\u001b[0m\u001b[0;34m=\u001b[0m\u001b[0mshell_futures\u001b[0m\u001b[0;34m)\u001b[0m\u001b[0;34m\u001b[0m\u001b[0;34m\u001b[0m\u001b[0m\n\u001b[1;32m   2837\u001b[0m                     \u001b[0;32mif\u001b[0m \u001b[0mraise_exceptions\u001b[0m\u001b[0;34m:\u001b[0m\u001b[0;34m\u001b[0m\u001b[0;34m\u001b[0m\u001b[0m\n\u001b[0;32m-> 2838\u001b[0;31m                         \u001b[0mresult\u001b[0m\u001b[0;34m.\u001b[0m\u001b[0mraise_error\u001b[0m\u001b[0;34m(\u001b[0m\u001b[0;34m)\u001b[0m\u001b[0;34m\u001b[0m\u001b[0;34m\u001b[0m\u001b[0m\n\u001b[0m\u001b[1;32m   2839\u001b[0m                     \u001b[0;32melif\u001b[0m \u001b[0;32mnot\u001b[0m \u001b[0mresult\u001b[0m\u001b[0;34m.\u001b[0m\u001b[0msuccess\u001b[0m\u001b[0;34m:\u001b[0m\u001b[0;34m\u001b[0m\u001b[0;34m\u001b[0m\u001b[0m\n\u001b[1;32m   2840\u001b[0m                         \u001b[0;32mbreak\u001b[0m\u001b[0;34m\u001b[0m\u001b[0;34m\u001b[0m\u001b[0m\n",
      "\u001b[0;32m~/anaconda3/lib/python3.8/site-packages/IPython/core/interactiveshell.py\u001b[0m in \u001b[0;36mraise_error\u001b[0;34m(self)\u001b[0m\n\u001b[1;32m    330\u001b[0m             \u001b[0;32mraise\u001b[0m \u001b[0mself\u001b[0m\u001b[0;34m.\u001b[0m\u001b[0merror_before_exec\u001b[0m\u001b[0;34m\u001b[0m\u001b[0;34m\u001b[0m\u001b[0m\n\u001b[1;32m    331\u001b[0m         \u001b[0;32mif\u001b[0m \u001b[0mself\u001b[0m\u001b[0;34m.\u001b[0m\u001b[0merror_in_exec\u001b[0m \u001b[0;32mis\u001b[0m \u001b[0;32mnot\u001b[0m \u001b[0;32mNone\u001b[0m\u001b[0;34m:\u001b[0m\u001b[0;34m\u001b[0m\u001b[0;34m\u001b[0m\u001b[0m\n\u001b[0;32m--> 332\u001b[0;31m             \u001b[0;32mraise\u001b[0m \u001b[0mself\u001b[0m\u001b[0;34m.\u001b[0m\u001b[0merror_in_exec\u001b[0m\u001b[0;34m\u001b[0m\u001b[0;34m\u001b[0m\u001b[0m\n\u001b[0m\u001b[1;32m    333\u001b[0m \u001b[0;34m\u001b[0m\u001b[0m\n\u001b[1;32m    334\u001b[0m     \u001b[0;32mdef\u001b[0m \u001b[0m__repr__\u001b[0m\u001b[0;34m(\u001b[0m\u001b[0mself\u001b[0m\u001b[0;34m)\u001b[0m\u001b[0;34m:\u001b[0m\u001b[0;34m\u001b[0m\u001b[0;34m\u001b[0m\u001b[0m\n",
      "    \u001b[0;31m[... skipping hidden 1 frame]\u001b[0m\n",
      "\u001b[0;32m/tmp/ipykernel_37257/3324475942.py\u001b[0m in \u001b[0;36m<module>\u001b[0;34m\u001b[0m\n\u001b[1;32m      4\u001b[0m         \u001b[0mAexp\u001b[0m \u001b[0;34m+=\u001b[0m \u001b[0mmath\u001b[0m\u001b[0;34m.\u001b[0m\u001b[0mexp\u001b[0m\u001b[0;34m(\u001b[0m\u001b[0meva\u001b[0m\u001b[0;34m[\u001b[0m\u001b[0mj\u001b[0m\u001b[0;34m]\u001b[0m\u001b[0;34m)\u001b[0m\u001b[0;34m*\u001b[0m\u001b[0mproj_num\u001b[0m\u001b[0;34m(\u001b[0m\u001b[0meve\u001b[0m\u001b[0;34m[\u001b[0m\u001b[0;34m:\u001b[0m\u001b[0;34m,\u001b[0m\u001b[0mj\u001b[0m\u001b[0;34m]\u001b[0m\u001b[0;34m)\u001b[0m\u001b[0;34m\u001b[0m\u001b[0;34m\u001b[0m\u001b[0m\n\u001b[1;32m      5\u001b[0m     \u001b[0;32mreturn\u001b[0m \u001b[0mAexp\u001b[0m\u001b[0;34m\u001b[0m\u001b[0;34m\u001b[0m\u001b[0m\n\u001b[0;32m----> 6\u001b[0;31m \u001b[0msimplify\u001b[0m\u001b[0;34m(\u001b[0m\u001b[0mmat_exp_num\u001b[0m\u001b[0;34m(\u001b[0m\u001b[0mZ\u001b[0m\u001b[0;34m)\u001b[0m\u001b[0;34m)\u001b[0m\u001b[0;34m\u001b[0m\u001b[0;34m\u001b[0m\u001b[0m\n\u001b[0m",
      "\u001b[0;32m/tmp/ipykernel_37257/3324475942.py\u001b[0m in \u001b[0;36mmat_exp_num\u001b[0;34m(A)\u001b[0m\n\u001b[1;32m      2\u001b[0m     \u001b[0md\u001b[0m \u001b[0;34m=\u001b[0m \u001b[0mA\u001b[0m\u001b[0;34m.\u001b[0m\u001b[0mshape\u001b[0m\u001b[0;34m[\u001b[0m\u001b[0;36m0\u001b[0m\u001b[0;34m]\u001b[0m\u001b[0;34m;\u001b[0m \u001b[0mAexp\u001b[0m \u001b[0;34m=\u001b[0m \u001b[0mnp\u001b[0m\u001b[0;34m.\u001b[0m\u001b[0mzeros\u001b[0m\u001b[0;34m(\u001b[0m\u001b[0;34m(\u001b[0m\u001b[0md\u001b[0m\u001b[0;34m,\u001b[0m\u001b[0md\u001b[0m\u001b[0;34m)\u001b[0m\u001b[0;34m,\u001b[0m \u001b[0mdtype\u001b[0m \u001b[0;34m=\u001b[0m \u001b[0mcomplex\u001b[0m\u001b[0;34m)\u001b[0m\u001b[0;34m;\u001b[0m \u001b[0meva\u001b[0m\u001b[0;34m,\u001b[0m \u001b[0meve\u001b[0m \u001b[0;34m=\u001b[0m \u001b[0mnp\u001b[0m\u001b[0;34m.\u001b[0m\u001b[0mlinalg\u001b[0m\u001b[0;34m.\u001b[0m\u001b[0meig\u001b[0m\u001b[0;34m(\u001b[0m\u001b[0mA\u001b[0m\u001b[0;34m)\u001b[0m\u001b[0;34m\u001b[0m\u001b[0;34m\u001b[0m\u001b[0m\n\u001b[1;32m      3\u001b[0m     \u001b[0;32mfor\u001b[0m \u001b[0mj\u001b[0m \u001b[0;32min\u001b[0m \u001b[0mrange\u001b[0m\u001b[0;34m(\u001b[0m\u001b[0;36m0\u001b[0m\u001b[0;34m,\u001b[0m \u001b[0md\u001b[0m\u001b[0;34m)\u001b[0m\u001b[0;34m:\u001b[0m\u001b[0;34m\u001b[0m\u001b[0;34m\u001b[0m\u001b[0m\n\u001b[0;32m----> 4\u001b[0;31m         \u001b[0mAexp\u001b[0m \u001b[0;34m+=\u001b[0m \u001b[0mmath\u001b[0m\u001b[0;34m.\u001b[0m\u001b[0mexp\u001b[0m\u001b[0;34m(\u001b[0m\u001b[0meva\u001b[0m\u001b[0;34m[\u001b[0m\u001b[0mj\u001b[0m\u001b[0;34m]\u001b[0m\u001b[0;34m)\u001b[0m\u001b[0;34m*\u001b[0m\u001b[0mproj_num\u001b[0m\u001b[0;34m(\u001b[0m\u001b[0meve\u001b[0m\u001b[0;34m[\u001b[0m\u001b[0;34m:\u001b[0m\u001b[0;34m,\u001b[0m\u001b[0mj\u001b[0m\u001b[0;34m]\u001b[0m\u001b[0;34m)\u001b[0m\u001b[0;34m\u001b[0m\u001b[0;34m\u001b[0m\u001b[0m\n\u001b[0m\u001b[1;32m      5\u001b[0m     \u001b[0;32mreturn\u001b[0m \u001b[0mAexp\u001b[0m\u001b[0;34m\u001b[0m\u001b[0;34m\u001b[0m\u001b[0m\n\u001b[1;32m      6\u001b[0m \u001b[0msimplify\u001b[0m\u001b[0;34m(\u001b[0m\u001b[0mmat_exp_num\u001b[0m\u001b[0;34m(\u001b[0m\u001b[0mZ\u001b[0m\u001b[0;34m)\u001b[0m\u001b[0;34m)\u001b[0m\u001b[0;34m\u001b[0m\u001b[0;34m\u001b[0m\u001b[0m\n",
      "\u001b[0;31mNameError\u001b[0m: name 'proj_num' is not defined"
     ]
    }
   ],
   "source": [
    "%run jupyterQ.ipynb"
   ]
  },
  {
   "cell_type": "markdown",
   "metadata": {},
   "source": [
    "### Trace\n",
    "\\begin{equation}\n",
    "\\mathrm{Tr}(A) = \\sum_{j=1}^{d}A_{j,j}.\n",
    "\\end{equation}"
   ]
  },
  {
   "cell_type": "code",
   "execution_count": null,
   "metadata": {},
   "outputs": [],
   "source": [
    "def trace(A):\n",
    "    d = A.shape[0]; tr = 0\n",
    "    for j in range(0,d):\n",
    "        tr += A[j,j]\n",
    "    return tr"
   ]
  },
  {
   "cell_type": "markdown",
   "metadata": {},
   "source": [
    "# Partial trace\n",
    "\\begin{align}\n",
    "\\rho_{b}[j,k] & = \\sum_{l=0}^{d_{a}-1}\\rho[(l-1)d_{b}+j,(l-1)d_{b}+k], \\\\\n",
    "\\rho_{a}[j,k] & = \\sum_{l=0}^{d_{b}-1}\\rho[(j-1)d_{b}+l,(k-1)d_{b}+l].\n",
    "\\end{align}"
   ]
  },
  {
   "cell_type": "code",
   "execution_count": 11,
   "metadata": {},
   "outputs": [],
   "source": [
    "# Outside these functions, initialize: rhos = zeros(ds,ds), s=A,B\n",
    "def ptraceA(da, db, rho):\n",
    "    rhoB = zeros(db,db)\n",
    "    for j in range(0, db):\n",
    "        for k in range(0, db):\n",
    "            for l in range(0, da):\n",
    "                rhoB[j,k] += rho[l*db+j,l*db+k]\n",
    "    return rhoB\n",
    "\n",
    "def ptraceB(da, db, rho):\n",
    "    rhoA = zeros(da,da)\n",
    "    for j in range(0, da):\n",
    "        for k in range(0, da):\n",
    "            for l in range(0, db):\n",
    "                rhoA[j,k] += rho[j*db+l,k*db+l]\n",
    "    return rhoA"
   ]
  },
  {
   "cell_type": "code",
   "execution_count": 15,
   "metadata": {},
   "outputs": [
    {
     "data": {
      "image/png": "[encoded data removed]",
      "text/latex": [
       "$\\displaystyle \\left( \\left[\\begin{matrix}r_{11} & r_{12} & r_{13} & r_{14}\\\\r_{21} & r_{22} & r_{23} & r_{24}\\\\r_{31} & r_{32} & r_{33} & r_{34}\\\\r_{41} & r_{42} & r_{43} & r_{44}\\end{matrix}\\right], \\  \\left[\\begin{matrix}r_{11} + r_{22} & r_{13} + r_{24}\\\\r_{31} + r_{42} & r_{33} + r_{44}\\end{matrix}\\right], \\  \\left[\\begin{matrix}r_{11} + r_{33} & r_{12} + r_{34}\\\\r_{21} + r_{43} & r_{22} + r_{44}\\end{matrix}\\right]\\right)$"
      ],
      "text/plain": [
       "⎛⎡r_{11}  r_{12}  r_{13}  r_{14}⎤                                             \n",
       "⎜⎢                              ⎥                                             \n",
       "⎜⎢r_{21}  r_{22}  r_{23}  r_{24}⎥  ⎡r_{11} + r_{22}  r_{13} + r_{24}⎤  ⎡r_{11}\n",
       "⎜⎢                              ⎥, ⎢                                ⎥, ⎢      \n",
       "⎜⎢r_{31}  r_{32}  r_{33}  r_{34}⎥  ⎣r_{31} + r_{42}  r_{33} + r_{44}⎦  ⎣r_{21}\n",
       "⎜⎢                              ⎥                                             \n",
       "⎝⎣r_{41}  r_{42}  r_{43}  r_{44}⎦                                             \n",
       "\n",
       "                           ⎞\n",
       "                           ⎟\n",
       " + r_{33}  r_{12} + r_{34}⎤⎟\n",
       "                          ⎥⎟\n",
       " + r_{43}  r_{22} + r_{44}⎦⎟\n",
       "                           ⎟\n",
       "                           ⎠"
      ]
     },
     "execution_count": 15,
     "metadata": {},
     "output_type": "execute_result"
    }
   ],
   "source": [
    "r11,r22,r33,r44 = symbols('r_{11} r_{22} r_{33} r_{44}', Positive=True)\n",
    "r12,r13,r14,r21,r23,r24 = symbols('r_{12} r_{13} r_{14} r_{21} r_{23} r_{24}')\n",
    "r31,r32,r34,r41,r42,r43 = symbols('r_{31} r_{32} r_{34} r_{41} r_{42} r_{43}')\n",
    "rhoAB = Matrix([[r11,r12,r13,r14],[r21,r22,r23,r24],[r31,r32,r33,r34],[r41,r42,r43,r44]])\n",
    "rhoA = ptraceB(2,2,rhoAB); rhoB = ptraceA(2,2,rhoAB); rhoAB, rhoA, rhoB"
   ]
  },
  {
   "cell_type": "code",
   "execution_count": 9,
   "metadata": {},
   "outputs": [],
   "source": [
    "def pTraceL_num(dl, dr, rhoLR):\n",
    "    # Returns the left partial trace over the 'left' subsystem of rhoLR\n",
    "    rhoR = np.zeros((dr, dr), dtype=complex)\n",
    "    for j in range(0, dr):\n",
    "        for k in range(j, dr):\n",
    "            for l in range(0, dl):\n",
    "                rhoR[j,k] += rhoLR[l*dr+j,l*dr+k]\n",
    "            if j != k:\n",
    "                rhoR[k,j] = np.conj(rhoR[j,k])\n",
    "    return rhoR\n",
    "\n",
    "\n",
    "def pTraceR_num(dl, dr, rhoLR):\n",
    "    # Returns the right partial trace over the 'right' subsystem of rhoLR\n",
    "    rhoL = np.zeros((dl, dl), dtype=complex)\n",
    "    for j in range(0, dl):\n",
    "        for k in range(j, dl):\n",
    "            for l in range(0, dr):\n",
    "                rhoL[j,k] += rhoLR[j*dr+l,k*dr+l]\n",
    "        if j != k:\n",
    "            rhoL[k,j] = np.conj(rhoL[j,k])\n",
    "    return rhoL"
   ]
  },
  {
   "cell_type": "code",
   "execution_count": 21,
   "metadata": {},
   "outputs": [],
   "source": [
    "#%run init.ipynb\n",
    "#psi = bell(0,0); rho = proj(psi); rhor = pTraceR_num(2, 2, rho); print(rhor) # ok!"
   ]
  },
  {
   "cell_type": "code",
   "execution_count": 26,
   "metadata": {},
   "outputs": [],
   "source": [
    "def partial_trace_3_num(rho_abc, da, db, dc):\n",
    "    rho_ac = np.zeros(da*dc*da*dc).reshape(da*dc,da*dc)\n",
    "    for j in range(0,da):\n",
    "        for l in range(0,dc):\n",
    "            cj = j*dc+l\n",
    "            ccj = j*db*dc+l\n",
    "            for m in range(0,da):\n",
    "                for o in range(0,dc):\n",
    "                    ck = m*dc+o\n",
    "                    cck = m*db*dc+o\n",
    "                    for k in range(0,db):\n",
    "                        rho_ac[cj,ck] = rho_ac[cj,ck] + rho_abc[ccj+k*dc,cck+k*dc]\n",
    "    return rho_ac"
   ]
  },
  {
   "cell_type": "code",
   "execution_count": 24,
   "metadata": {},
   "outputs": [
    {
     "name": "stdout",
     "output_type": "stream",
     "text": [
      "[[1/2 0 0 0 0 0 0 1/2]\n",
      " [0 0 0 0 0 0 0 0]\n",
      " [0 0 0 0 0 0 0 0]\n",
      " [0 0 0 0 0 0 0 0]\n",
      " [0 0 0 0 0 0 0 0]\n",
      " [0 0 0 0 0 0 0 0]\n",
      " [0 0 0 0 0 0 0 0]\n",
      " [1/2 0 0 0 0 0 0 1/2]]\n"
     ]
    }
   ],
   "source": [
    "psi_ghz = (1/sqrt(2))*(np.array([[1],[0],[0],[0],[0],[0],[0],[0]])+np.array([[0],[0],[0],[0],[0],[0],[0],[1]]))\n",
    "rho_ghz = psi_ghz*psi_ghz.T\n",
    "print(rho_ghz)"
   ]
  },
  {
   "cell_type": "code",
   "execution_count": 25,
   "metadata": {},
   "outputs": [
    {
     "data": {
      "text/plain": [
       "array([[0.5, 0. , 0. , 0. ],\n",
       "       [0. , 0. , 0. , 0. ],\n",
       "       [0. , 0. , 0. , 0. ],\n",
       "       [0. , 0. , 0. , 0.5]])"
      ]
     },
     "execution_count": 25,
     "metadata": {},
     "output_type": "execute_result"
    }
   ],
   "source": [
    "rho_ac = partial_trace_3(rho_ghz,2,2,2)\n",
    "rho_ac"
   ]
  },
  {
   "cell_type": "code",
   "execution_count": 27,
   "metadata": {},
   "outputs": [
    {
     "name": "stdout",
     "output_type": "stream",
     "text": [
      "[[0 0 0 0 0 0 0 0]\n",
      " [0 1/3 1/3 0 1/3 0 0 0]\n",
      " [0 1/3 1/3 0 1/3 0 0 0]\n",
      " [0 0 0 0 0 0 0 0]\n",
      " [0 1/3 1/3 0 1/3 0 0 0]\n",
      " [0 0 0 0 0 0 0 0]\n",
      " [0 0 0 0 0 0 0 0]\n",
      " [0 0 0 0 0 0 0 0]]\n"
     ]
    }
   ],
   "source": [
    "psi_w = (1/sqrt(3))*(np.array([[0],[1],[0],[0],[0],[0],[0],[0]])\n",
    "                     +np.array([[0],[0],[1],[0],[0],[0],[0],[0]])\n",
    "                    +np.array([[0],[0],[0],[0],[1],[0],[0],[0]]))\n",
    "rho_w = psi_w*psi_w.T\n",
    "print(rho_w)"
   ]
  },
  {
   "cell_type": "code",
   "execution_count": 28,
   "metadata": {},
   "outputs": [
    {
     "data": {
      "text/plain": [
       "array([[0.33333333, 0.        , 0.        , 0.        ],\n",
       "       [0.        , 0.33333333, 0.33333333, 0.        ],\n",
       "       [0.        , 0.33333333, 0.33333333, 0.        ],\n",
       "       [0.        , 0.        , 0.        , 0.        ]])"
      ]
     },
     "execution_count": 28,
     "metadata": {},
     "output_type": "execute_result"
    }
   ],
   "source": [
    "rho_ac = partial_trace_3(rho_w,2,2,2)\n",
    "rho_ac"
   ]
  },
  {
   "cell_type": "markdown",
   "metadata": {},
   "source": [
    "# Transposta parcial\n",
    "Por definição, os elementos da representação matricial de um operador linear $A$ em uma base ortonormal $\\{|\\alpha_{j}\\rangle\\}$ e a matriz transposta associada são relacionados por\n",
    "\\begin{equation}\n",
    "\\langle\\alpha_{j}|A^{T}|\\alpha_{k}\\rangle = \\langle\\alpha_{k}|A|\\alpha_{j}\\rangle.\n",
    "\\end{equation}\n",
    "Para $c_{j,k}$ escalares, podemos obter essa mesma relação definindo a transposta via o seguinte mapa linear [arXiv:1609.00323]:\n",
    "\\begin{equation}\n",
    "T\\left(\\sum_{j,k}c_{j,k}|\\alpha_{j}\\rangle\\langle\\alpha_{k}|\\right):=\\sum_{j,k}c_{j,k}T(|\\alpha_{j}\\rangle\\langle\\alpha_{k}|):=\\sum_{j,k}c_{j,k}|\\alpha_{k}\\rangle\\langle\\alpha_{j}|.\n",
    "\\end{equation}\n",
    "Para verificar essa afirmação, consideramos a representação produto externo $A=\\sum_{j,k}\\langle\\alpha_{j}|A|\\alpha_{k}\\rangle|\\alpha_{j}\\rangle\\langle\\alpha_{k}|$ e atuamos essa função:\n",
    "\\begin{align}\n",
    "T(A) & = T\\left(\\sum_{j,k}\\langle\\alpha_{j}|A|\\alpha_{k}\\rangle|\\alpha_{j}\\rangle\\langle\\alpha_{k}|\\right) = \\sum_{j,k}\\langle\\alpha_{j}|A|\\alpha_{k}\\rangle T(|\\alpha_{j}\\rangle\\langle\\alpha_{k}|)  \\\\\n",
    "& = \\sum_{j,k}\\langle\\alpha_{j}|A|\\alpha_{k}\\rangle |\\alpha_{k}\\rangle\\langle\\alpha_{j}|.\n",
    "\\end{align}\n",
    "Assim,\n",
    "\\begin{align}\n",
    "\\langle\\alpha_{p}|T(A)|\\alpha_{q}\\rangle & = \\sum_{j,k}\\langle\\alpha_{j}|A|\\alpha_{k}\\rangle \\langle\\alpha_{p}|\\alpha_{k}\\rangle\\langle\\alpha_{j}|\\alpha_{q}\\rangle = \\sum_{j,k}\\langle\\alpha_{j}|A|\\alpha_{k}\\rangle \\delta_{p,k}\\delta_{j,q} \\\\\n",
    "& = \\langle\\alpha_{q}|A|\\alpha_{p}\\rangle.\n",
    "\\end{align}\n",
    "\n",
    "_OBS:_ Vimos que os autovalores da transposta são iguais aos autovalores da matriz original. Então, pelo motivo da transposta levar matrizes positivas em matrizes positivas, dizemos que ela é uma __mapa positivo__ (semidefinido). Ou seja,\n",
    "\\begin{equation}\n",
    "T(A)\\ge\\mathbb{0}_{\\mathcal{H}}\\text{ }\\forall A\\ge\\mathbb{0}_{\\mathcal{H}}.\n",
    "\\end{equation}"
   ]
  },
  {
   "cell_type": "markdown",
   "metadata": {},
   "source": [
    "Quando aplicamos a um sistema composto, a função matricial __transposta parcial__ é definida, quando aplicada ao espaço da \"esquerda\", como\n",
    "\\begin{align}\n",
    "T_{e}(C) & := T\\otimes id(C) \\\\\n",
    "& = \\sum_{j,p=1}^{n}\\sum_{k,q=1}^{m}C_{jk,pq}T(|\\alpha_{j}\\rangle\\langle\\alpha_{p}|)\\otimes id(|\\beta_{k}\\rangle\\langle\\beta_{q}|) \\\\\n",
    "& := \\sum_{j,p=1}^{n}\\sum_{k,q=1}^{m}C_{jk,pq}|\\alpha_{p}\\rangle\\langle\\alpha_{j}|)\\otimes |\\beta_{k}\\rangle\\langle\\beta_{q}|.\n",
    "\\end{align}\n",
    "E assim (__exercício__)\n",
    "\\begin{equation}\n",
    "C_{jk,pq}=(T_{e}(C))_{pk,jq}\\therefore(\\langle\\alpha_{p}|\\otimes\\langle\\beta_{k}|)T_{e}(C)(|\\alpha_{j}\\rangle\\otimes|\\beta_{q}\\rangle) = (\\langle\\alpha_{j}|\\otimes\\langle\\beta_{k}|)C(|\\alpha_{p}\\rangle\\otimes|\\beta_{q}\\rangle).\n",
    "\\end{equation}"
   ]
  },
  {
   "cell_type": "markdown",
   "metadata": {},
   "source": [
    "Dizemos que um mapa positivo $M$ é __completamente positivo__ se\n",
    "\\begin{equation}\n",
    "M\\otimes id(C)\\ge\\mathbb{0}\\text{ }\\forall C\\ge\\mathbb{0}$.\n",
    "\\end{equation}\n",
    "Uma propriedade importante da transposta é que esta função _não_ é um mapa completamente positivo. Para verificar essa afirmação, consideremos\n",
    "\\begin{align}\n",
    "T_{e}(P_{\\Psi}) & = 2^{-1}[T(|e_{1}\\rangle\\langle e_{1}|)\\otimes id(|e_{2}\\rangle\\langle e_{2}|) - T(|e_{1}\\rangle\\langle e_{2}|)\\otimes id(|e_{2}\\rangle\\langle e_{1}|)  \\\\ \n",
    "& \\hspace{1cm} - T(|e_{2}\\rangle\\langle e_{1}|)\\otimes id(|e_{1}\\rangle\\langle e_{2}|) + T(|e_{2}\\rangle\\langle e_{2}|)\\otimes id(|e_{1}\\rangle\\langle e_{1}|)] \\\\\n",
    "& = 2^{-1}[|e_{1}\\rangle\\langle e_{1}|\\otimes|e_{2}\\rangle\\langle e_{2}| - |e_{2}\\rangle\\langle e_{1}|\\otimes|e_{2}\\rangle\\langle e_{1}|  - |e_{1}\\rangle\\langle e_{2}|)\\otimes|e_{1}\\rangle\\langle e_{2}| + |e_{2}\\rangle\\langle e_{2}|\\otimes|e_{1}\\rangle\\langle e_{1}|] \\\\\n",
    "& = \\begin{bmatrix} 0&0&0&-1/2 \\\\ 0&1/2&0&0 \\\\ 0&0&1/2&0 \\\\ -1/2&0&0&0 \\end{bmatrix},\n",
    "\\end{align}\n",
    "com a representação matricial feita usando a base $\\{|e_{1}\\rangle\\otimes|e_{1}\\rangle,|e_{1}\\rangle\\otimes|e_{2}\\rangle,|e_{2}\\rangle\\otimes|e_{1}\\rangle,|e_{2}\\rangle\\otimes|e_{2}\\rangle\\}$. Para exemplificar o cálculo dos elementos de matriz, usemos $(A\\otimes B)(C\\otimes D)=AC\\otimes BD$ e consideremos explicitamente\n",
    "\\begin{align}\n",
    "(\\langle e_{1}|\\otimes\\langle e_{1}|)T_{e}(P_{\\Psi})(|e_{1}\\rangle\\otimes|e_{1}\\rangle) =\n",
    "& (\\langle e_{1}|\\otimes\\langle e_{1}|)(|e_{1}\\rangle\\langle e_{1}|\\otimes|e_{2}\\rangle\\langle e_{2}|)(|e_{1}\\rangle\\otimes|e_{1}\\rangle) \n",
    " - (\\langle e_{1}|\\otimes\\langle e_{1}|)(|e_{2}\\rangle\\langle e_{1}|\\otimes|e_{2}\\rangle\\langle e_{1}|)(|e_{1}\\rangle\\otimes|e_{1}\\rangle) \\\\\n",
    "& - (\\langle e_{1}|\\otimes\\langle e_{1}|)(|e_{1}\\rangle\\langle e_{2}|)\\otimes|e_{1}\\rangle\\langle e_{2}|)(|e_{1}\\rangle\\otimes|e_{1}\\rangle) \n",
    " + (\\langle e_{1}|\\otimes\\langle e_{1}|)(|e_{2}\\rangle\\langle e_{2}|\\otimes|e_{1}\\rangle\\langle e_{1}|)(|e_{1}\\rangle\\otimes|e_{1}\\rangle) \\\\\n",
    " = & \\langle e_{1}|e_{1}\\rangle\\langle e_{1}|e_{1}\\rangle\\otimes\\langle e_{1}|e_{2}\\rangle\\langle e_{2}|e_{1}\\rangle \n",
    " - \\langle e_{1}|e_{2}\\rangle\\langle e_{1}|e_{1}\\rangle\\otimes\\langle e_{1}|e_{2}\\rangle\\langle e_{1}||e_{1}\\rangle \\\\\n",
    "& - \\langle e_{1}|e_{1}\\rangle\\langle e_{2}|e_{1}\\rangle\\otimes\\langle e_{1}|e_{1}\\rangle\\langle e_{2}|e_{1}\\rangle \n",
    " + \\langle e_{1}|e_{2}\\rangle\\langle e_{2}|e_{1}\\rangle\\otimes\\langle e_{1}|e_{1}\\rangle\\langle e_{1}|e_{1}\\rangle \\\\\n",
    " &= 0.\n",
    "\\end{align}\n",
    "\n",
    "Como verificado usando o código abaixo, $T_{e}(P_{\\Psi})$ possui um autovalor negativo equanto que os autovalores de $P_{\\Psi}$ são todos positivos ou nulos.\n",
    "\n",
    "__Exercício:__ Obtenha $P_{\\Phi}$ e $T_{d}(P_{\\Phi})$ e calcule seus autovalores."
   ]
  },
  {
   "cell_type": "code",
   "execution_count": 5,
   "metadata": {},
   "outputs": [],
   "source": [
    "def ptranspose(da,db,rho,ssys):\n",
    "    ptp = zeros(da*db,da*db)\n",
    "    if ssys == 'b':\n",
    "        for ja in range(0,da):\n",
    "            for ka in range(0,da):\n",
    "                for jb in range(0,db):\n",
    "                    for kb in range(0,db):\n",
    "                        ptp[ja*db+kb,ka*db+jb] = rho[ja*db+jb,ka*db+kb]\n",
    "    elif ssys == 'a':\n",
    "        for ja in range(0,da):\n",
    "            for ka in range(0,da):\n",
    "                for jb in range(0,db):\n",
    "                    for kb in range(0,db):\n",
    "                        ptp[ka*db+jb,ja*db+kb] = rho[ja*db+jb,ka*db+kb]\n",
    "    return ptp"
   ]
  },
  {
   "cell_type": "code",
   "execution_count": 6,
   "metadata": {},
   "outputs": [
    {
     "data": {
      "image/png": "[encoded data removed]",
      "text/latex": [
       "$$\\left [ \\left ( 0, \\quad 3, \\quad \\left [ \\left[\\begin{matrix}1\\\\0\\\\0\\\\0\\end{matrix}\\right], \\quad \\left[\\begin{matrix}0\\\\1\\\\1\\\\0\\end{matrix}\\right], \\quad \\left[\\begin{matrix}0\\\\0\\\\0\\\\1\\end{matrix}\\right]\\right ]\\right ), \\quad \\left ( 1, \\quad 1, \\quad \\left [ \\left[\\begin{matrix}0\\\\-1\\\\1\\\\0\\end{matrix}\\right]\\right ]\\right )\\right ]$$"
      ],
      "text/plain": [
       "⎡⎛      ⎡⎡1⎤  ⎡0⎤  ⎡0⎤⎤⎞  ⎛      ⎡⎡0 ⎤⎤⎞⎤\n",
       "⎢⎜      ⎢⎢ ⎥  ⎢ ⎥  ⎢ ⎥⎥⎟  ⎜      ⎢⎢  ⎥⎥⎟⎥\n",
       "⎢⎜      ⎢⎢0⎥  ⎢1⎥  ⎢0⎥⎥⎟  ⎜      ⎢⎢-1⎥⎥⎟⎥\n",
       "⎢⎜0, 3, ⎢⎢ ⎥, ⎢ ⎥, ⎢ ⎥⎥⎟, ⎜1, 1, ⎢⎢  ⎥⎥⎟⎥\n",
       "⎢⎜      ⎢⎢0⎥  ⎢1⎥  ⎢0⎥⎥⎟  ⎜      ⎢⎢1 ⎥⎥⎟⎥\n",
       "⎢⎜      ⎢⎢ ⎥  ⎢ ⎥  ⎢ ⎥⎥⎟  ⎜      ⎢⎢  ⎥⎥⎟⎥\n",
       "⎣⎝      ⎣⎣0⎦  ⎣0⎦  ⎣1⎦⎦⎠  ⎝      ⎣⎣0 ⎦⎦⎠⎦"
      ]
     },
     "execution_count": 6,
     "metadata": {},
     "output_type": "execute_result"
    }
   ],
   "source": [
    "# para a matriz P_{Psi}\n",
    "Psi = Matrix([[0],[1/sqrt(2)],[-1/sqrt(2)],[0]])\n",
    "P_Psi = proj(Psi)\n",
    "P_Psi\n",
    "P_Psi.eigenvects()"
   ]
  },
  {
   "cell_type": "code",
   "execution_count": 7,
   "metadata": {},
   "outputs": [
    {
     "data": {
      "image/png": "[encoded data removed]",
      "text/latex": [
       "$$\\left [ \\left ( - \\frac{1}{2}, \\quad 1, \\quad \\left [ \\left[\\begin{matrix}1\\\\0\\\\0\\\\1\\end{matrix}\\right]\\right ]\\right ), \\quad \\left ( \\frac{1}{2}, \\quad 3, \\quad \\left [ \\left[\\begin{matrix}0\\\\1\\\\0\\\\0\\end{matrix}\\right], \\quad \\left[\\begin{matrix}0\\\\0\\\\1\\\\0\\end{matrix}\\right], \\quad \\left[\\begin{matrix}-1\\\\0\\\\0\\\\1\\end{matrix}\\right]\\right ]\\right )\\right ]$$"
      ],
      "text/plain": [
       "⎡⎛         ⎡⎡1⎤⎤⎞  ⎛        ⎡⎡0⎤  ⎡0⎤  ⎡-1⎤⎤⎞⎤\n",
       "⎢⎜         ⎢⎢ ⎥⎥⎟  ⎜        ⎢⎢ ⎥  ⎢ ⎥  ⎢  ⎥⎥⎟⎥\n",
       "⎢⎜         ⎢⎢0⎥⎥⎟  ⎜        ⎢⎢1⎥  ⎢0⎥  ⎢0 ⎥⎥⎟⎥\n",
       "⎢⎜-1/2, 1, ⎢⎢ ⎥⎥⎟, ⎜1/2, 3, ⎢⎢ ⎥, ⎢ ⎥, ⎢  ⎥⎥⎟⎥\n",
       "⎢⎜         ⎢⎢0⎥⎥⎟  ⎜        ⎢⎢0⎥  ⎢1⎥  ⎢0 ⎥⎥⎟⎥\n",
       "⎢⎜         ⎢⎢ ⎥⎥⎟  ⎜        ⎢⎢ ⎥  ⎢ ⎥  ⎢  ⎥⎥⎟⎥\n",
       "⎣⎝         ⎣⎣1⎦⎦⎠  ⎝        ⎣⎣0⎦  ⎣0⎦  ⎣1 ⎦⎦⎠⎦"
      ]
     },
     "execution_count": 7,
     "metadata": {},
     "output_type": "execute_result"
    }
   ],
   "source": [
    "# para a transposta parcial\n",
    "P_Psi_ptp = ptranspose(2,2,P_Psi,'a')\n",
    "P_Psi_ptp\n",
    "P_Psi_ptp.eigenvects()"
   ]
  },
  {
   "cell_type": "code",
   "execution_count": null,
   "metadata": {},
   "outputs": [],
   "source": []
  }
 ],
 "metadata": {
  "kernelspec": {
   "display_name": "Python 3 (ipykernel)",
   "language": "python",
   "name": "python3"
  },
  "language_info": {
   "codemirror_mode": {
    "name": "ipython",
    "version": 3
   },
   "file_extension": ".py",
   "mimetype": "text/x-python",
   "name": "python",
   "nbconvert_exporter": "python",
   "pygments_lexer": "ipython3",
   "version": "3.8.11"
  }
 },
 "nbformat": 4,
 "nbformat_minor": 2
}
