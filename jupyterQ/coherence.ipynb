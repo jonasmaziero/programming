{
 "cells": [
  {
   "cell_type": "code",
   "execution_count": 16,
   "metadata": {},
   "outputs": [],
   "source": [
    "%run init.ipynb\n",
    "%run states.ipynb\n",
    "%run entropy.ipynb"
   ]
  },
  {
   "cell_type": "markdown",
   "metadata": {},
   "source": [
    "## $l_{1}$-norm coherence\n",
    "\\begin{equation}\n",
    "C_{l_{1}}(\\rho_{A}) = \\sum_{j\\ne k}|\\rho^{A}_{j,k}| = 2\\sum_{j<k}|\\rho^{A}_{j,k}|\n",
    "\\end{equation}"
   ]
  },
  {
   "cell_type": "code",
   "execution_count": 9,
   "metadata": {},
   "outputs": [],
   "source": [
    "def coh_l1(rho):\n",
    "    d = rho.shape[0]; C = 0\n",
    "    for j in range(0,d-1):\n",
    "        for k in range(j+1,d):\n",
    "            C += abs(rho[j,k])\n",
    "    return 2*C"
   ]
  },
  {
   "cell_type": "code",
   "execution_count": 12,
   "metadata": {},
   "outputs": [],
   "source": [
    "#r1,r2,r3 = symbols('r_{1} r_{2} r_{3}'); simplify(coh_l1(rho1qb(r1,r2,r3)))"
   ]
  },
  {
   "cell_type": "markdown",
   "metadata": {},
   "source": [
    "## Hilbert-Schmidt coherence\n",
    "\\begin{equation}\n",
    "C_{hs}(\\rho) = \\sum_{j\\ne k}|\\rho_{j,k}|^{2} = 2\\sum_{j<k}|\\rho_{j,k}|^{2}\n",
    "\\end{equation}"
   ]
  },
  {
   "cell_type": "code",
   "execution_count": 13,
   "metadata": {},
   "outputs": [],
   "source": [
    "def coh_hs(rho):\n",
    "    d = rho.shape[0]; C = 0\n",
    "    for j in range(0,d-1):\n",
    "        for k in range(j+1,d):\n",
    "            C += (abs(rho[j,k]))**2\n",
    "    return 2*C"
   ]
  },
  {
   "cell_type": "code",
   "execution_count": 15,
   "metadata": {},
   "outputs": [],
   "source": [
    "#r1,r2,r3 = symbols('r_{1} r_{2} r_{3}'); simplify(coh_hs(rho1qb(r1,r2,r3)))"
   ]
  },
  {
   "cell_type": "markdown",
   "metadata": {},
   "source": [
    "## Wigner-Yanase coherence\n",
    "\\begin{equation}\n",
    "C_{wy}(\\rho) = \\sum_{j\\ne k}|(\\sqrt{\\rho})_{j,k}|^{2} = 2\\sum_{j<k}|(\\sqrt{\\rho})_{j,k}|^{2}\n",
    "\\end{equation}"
   ]
  },
  {
   "cell_type": "code",
   "execution_count": 26,
   "metadata": {},
   "outputs": [],
   "source": [
    "def coh_wy(rho):\n",
    "    d = rho.shape[0]\n",
    "    #rho_sqrt = mat_sqrt(rho) # for symbolics\n",
    "    rho_sqrt = scipy.linalg.sqrtm(rho) # for numerics\n",
    "    C = 0\n",
    "    for j in range(0,d-1):\n",
    "        for k in range(j+1,d):\n",
    "            C += abs(rho_sqrt[j,k])**2\n",
    "    return 2*C"
   ]
  },
  {
   "cell_type": "code",
   "execution_count": 27,
   "metadata": {},
   "outputs": [],
   "source": [
    "#r1,r2,r3 = symbols('r_{1} r_{2} r_{3}'); coh_wy(rho1qb(r1,r2,r3))"
   ]
  },
  {
   "cell_type": "markdown",
   "metadata": {},
   "source": [
    "## Relative entropy coherence\n",
    "\\begin{equation}\n",
    "C_{re}(\\rho_{A}) = S(\\rho^{A}_{diag})-S(\\rho_{A}),\n",
    "\\end{equation}\n",
    "with $\\rho^{A}_{diag}=diag(\\rho^{A}_{1,1},\\rho^{A}_{2,2},\\cdots,\\rho^{A}_{d,d})$."
   ]
  },
  {
   "cell_type": "code",
   "execution_count": 28,
   "metadata": {},
   "outputs": [],
   "source": [
    "def coh_re(rho):\n",
    "    d = rho.shape[0]; pv = np.zeros(d)#; print(rho)\n",
    "    for j in range(0,d):\n",
    "        pv[j] = rho[j,j].real\n",
    "    #pv = np.array(pv).astype(np.double); rho = np.array(rho).astype(np.cdouble)\n",
    "    return shannon_num(pv) - von_neumann_num(rho) # for numerics\n",
    "    #return shannon(pv) - von_neumann(rhoA) # for symbolics"
   ]
  },
  {
   "cell_type": "code",
   "execution_count": 30,
   "metadata": {},
   "outputs": [],
   "source": [
    "#float(coh_re(rho1qb(1/2,1/2,0)))"
   ]
  }
 ],
 "metadata": {
  "kernelspec": {
   "display_name": "Python 3",
   "language": "python",
   "name": "python3"
  },
  "language_info": {
   "codemirror_mode": {
    "name": "ipython",
    "version": 3
   },
   "file_extension": ".py",
   "mimetype": "text/x-python",
   "name": "python",
   "nbconvert_exporter": "python",
   "pygments_lexer": "ipython3",
   "version": "3.8.8"
  }
 },
 "nbformat": 4,
 "nbformat_minor": 2
}
