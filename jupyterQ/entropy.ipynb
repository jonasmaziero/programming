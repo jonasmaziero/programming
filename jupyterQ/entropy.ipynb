{
 "cells": [
  {
   "cell_type": "code",
   "execution_count": 6,
   "metadata": {},
   "outputs": [],
   "source": [
    "%run init.ipynb\n",
    "%run jupyterQ.ipynb\n",
    "import scipy.linalg.lapack as lapak"
   ]
  },
  {
   "cell_type": "markdown",
   "metadata": {},
   "source": [
    "## Linear entropy\n",
    "\\begin{align}\n",
    "S_{L}(\\rho)&=1-Tr(\\rho^{2})=1-\\sum_{j}(\\rho\\rho)_{j,j} = 1 - \\sum_{j,k}\\rho_{j,k}\\rho_{k,j}= 1 - \\sum_{j,k}\\rho_{j,k}\\rho_{j,k}^{*} \\\\\n",
    "&= 1 - \\sum_{j,k}|\\rho_{j,k}|^{2}\n",
    "\\end{align}\n",
    "If $\\rho=|\\psi\\rangle\\langle\\psi|$ then $\\rho^{2}=\\rho$ and $S_{L}(|\\psi\\rangle)=0$. If $\\rho=\\mathbb{I}_{d}/d$ then $\\rho^{2} = \\mathbb{I}_{d}/d^{2}$ and $S_{L}(\\mathbb{I}_{d}/d) = 1-Tr(\\mathbb{I}_{d}/d^{2}) = 1-d/d^{2} = (d-1)/d.$ So $\\bar{S}_{L}(\\rho) = \\frac{d}{d-1}S_{L}(\\rho)\\in[0,1].$"
   ]
  },
  {
   "cell_type": "code",
   "execution_count": 2,
   "metadata": {},
   "outputs": [],
   "source": [
    "def linear_entropy(rho):\n",
    "    d = rho.shape[0]; Sl=0\n",
    "    for j in range(0,d):\n",
    "        for k in range(0,d):\n",
    "            Sl += abs(rho[j,k])**2\n",
    "    return 1-Sl"
   ]
  },
  {
   "cell_type": "code",
   "execution_count": 3,
   "metadata": {},
   "outputs": [],
   "source": [
    "%run states.ipynb"
   ]
  },
  {
   "cell_type": "code",
   "execution_count": null,
   "metadata": {},
   "outputs": [],
   "source": [
    "#r1,r2,r3=symbols('r_{1} r_{2} r_{3}'); simplify(linear_entropy(rho1qb(r1,r2,r3)))"
   ]
  },
  {
   "cell_type": "markdown",
   "metadata": {},
   "source": [
    "### Shannon entropy\n",
    "For a probability vector $\\vec{p}=[p_{1},\\cdots,p_{d}]^{T}$,\n",
    "\\begin{equation}\n",
    "H(\\vec{p}) = -\\sum_{j=1}^{d}p_{j}\\log_{2}(p_{j})\n",
    "\\end{equation}\n",
    "If $p_{j}=1$ for some $j$ then $H(\\{1,0,\\cdots,0\\})=0$. If $p_{j}=1/d\\ \\forall\\ j$ then $H(\\{1/d,\\cdots,1/d\\}) = -\\sum_{j=1}^{d}\\frac{1}{d}\\log_{2}\\frac{1}{d}=d\\frac{1}{d}\\log_{2}(d) = \\log_{2}(d).$ So, if we define $\\bar{H}(\\vec{p}) = \\frac{H(\\vec{p})}{\\log_{2}(d)} \\in [0,1].$"
   ]
  },
  {
   "cell_type": "code",
   "execution_count": 19,
   "metadata": {},
   "outputs": [],
   "source": [
    "def shannon(pv): # for symbolics\n",
    "    d = pv.shape[0]; H = 0\n",
    "    for j in range(0,d):\n",
    "        #if pv[j] > 10**-15 and pv[j] < (1-10**-15):\n",
    "        H -= pv[j]*log(pv[j],2)\n",
    "    return H"
   ]
  },
  {
   "cell_type": "code",
   "execution_count": 21,
   "metadata": {},
   "outputs": [],
   "source": [
    "#a,b=symbols('a b'); shannon(Matrix([[a],[b]]))"
   ]
  },
  {
   "cell_type": "code",
   "execution_count": 8,
   "metadata": {},
   "outputs": [],
   "source": [
    "def shannon_num(pv): # for numerics\n",
    "    d = pv.shape[0]; SE = 0.0; j = -1\n",
    "    while (j < d-1):\n",
    "        j = j + 1\n",
    "        if pv[j] > 10**-15 and pv[j] < (1.0-10**-15):\n",
    "            SE -= pv[j]*math.log(pv[j], 2)\n",
    "    return SE"
   ]
  },
  {
   "cell_type": "code",
   "execution_count": 24,
   "metadata": {},
   "outputs": [],
   "source": [
    "#float(shannon_num(np.array([1/3,2/3])))"
   ]
  },
  {
   "cell_type": "markdown",
   "metadata": {},
   "source": [
    "### von Neumann entropy\n",
    "\\begin{equation}\n",
    "S_{vn}(\\rho) = -Tr(\\rho\\log_{2}(\\rho))\n",
    "\\end{equation}\n",
    "Here $S_{vn}(|\\psi\\rangle)=0$ and $S_{vn}(\\mathbb{I}/d)=\\log_{2}(d)$. So $\\bar{S}_{vn}(\\rho)=\\frac{S_{vn}(\\rho)}{\\log_{2}(d)}\\in[0,1]$."
   ]
  },
  {
   "cell_type": "code",
   "execution_count": 25,
   "metadata": {},
   "outputs": [],
   "source": [
    "def von_neumann(rho): # for symbolics\n",
    "    d = rho.shape[0]; evals = zeros(d,1); ev = eVals(rho)\n",
    "    return shannon(ev)"
   ]
  },
  {
   "cell_type": "code",
   "execution_count": 29,
   "metadata": {},
   "outputs": [],
   "source": [
    "#evals = zeros(2,1); float(von_neumann(Matrix([[1/2,0],[0,1/2]])))"
   ]
  },
  {
   "cell_type": "code",
   "execution_count": 11,
   "metadata": {},
   "outputs": [],
   "source": [
    "def von_neumann_num(rho): # for numerics\n",
    "    d = rho.shape[0]; b = lapak.zheevd(rho)\n",
    "    return shannon_num(b[0])"
   ]
  },
  {
   "cell_type": "code",
   "execution_count": 13,
   "metadata": {},
   "outputs": [],
   "source": [
    "#rho = np.array([[1/3,0.1],[0.1,2/3]]); print(float(von_neumann_num(rho)))"
   ]
  },
  {
   "cell_type": "markdown",
   "metadata": {},
   "source": [
    "### Rényie entropy"
   ]
  },
  {
   "cell_type": "markdown",
   "metadata": {},
   "source": [
    "### Tsállis entropy"
   ]
  },
  {
   "cell_type": "code",
   "execution_count": null,
   "metadata": {},
   "outputs": [],
   "source": []
  }
 ],
 "metadata": {
  "kernelspec": {
   "display_name": "Python 3 (ipykernel)",
   "language": "python",
   "name": "python3"
  },
  "language_info": {
   "codemirror_mode": {
    "name": "ipython",
    "version": 3
   },
   "file_extension": ".py",
   "mimetype": "text/x-python",
   "name": "python",
   "nbconvert_exporter": "python",
   "pygments_lexer": "ipython3",
   "version": "3.8.8"
  }
 },
 "nbformat": 4,
 "nbformat_minor": 2
}
