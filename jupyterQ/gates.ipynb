{
 "cells": [
  {
   "cell_type": "code",
   "execution_count": 1,
   "metadata": {},
   "outputs": [],
   "source": [
    "%run jupyterQ.ipynb"
   ]
  },
  {
   "cell_type": "markdown",
   "metadata": {},
   "source": [
    "### $d\\mathrm{x}d$ identity matrix"
   ]
  },
  {
   "cell_type": "code",
   "execution_count": 2,
   "metadata": {},
   "outputs": [],
   "source": [
    "nx, ny, nz, th, ph, lbd = symbols('n_{x} n_{y} n_{z} theta phi lambda', real=True)"
   ]
  },
  {
   "cell_type": "markdown",
   "metadata": {},
   "source": [
    "## One-qubit rotations\n",
    "\\begin{equation}\n",
    "R_{n}(\\theta) = e^{-i\\theta\\hat{n}\\cdot\\vec{\\sigma}/2} = \\cos\\frac{\\theta}{2}\\sigma_{0} -i\\sin\\frac{\\theta}{2}\\hat{n}\\cdot\\vec{\\sigma}.\n",
    "\\end{equation}"
   ]
  },
  {
   "cell_type": "code",
   "execution_count": 3,
   "metadata": {},
   "outputs": [],
   "source": [
    "def Rn(nx, ny, nz, th):\n",
    "    return cos(th/2)*Pauli(0) - 1j*sin(th/2)*(nx*Pauli(1) + ny*Pauli(2) + nz*Pauli(3))"
   ]
  },
  {
   "cell_type": "markdown",
   "metadata": {},
   "source": [
    "## Pauli gates\n",
    "\\begin{equation}\n",
    "Id = \\begin{bmatrix} 1 & 0 \\\\ 0 & 1 \\end{bmatrix}\\text{, }X = \\begin{bmatrix} 0 & 1 \\\\ 1 & 0 \\end{bmatrix}\\text{, }Y = \\begin{bmatrix} 0 & -i \\\\ i & 0 \\end{bmatrix}\\text{, } Z = \\begin{bmatrix} 1 & 0 \\\\ 0 & -1 \\end{bmatrix}\n",
    "\\end{equation}"
   ]
  },
  {
   "cell_type": "code",
   "execution_count": 4,
   "metadata": {},
   "outputs": [],
   "source": [
    "def Id():\n",
    "    return Matrix([[1,0],[0,1]])\n",
    "def X():\n",
    "    return Matrix([[0,1],[1,0]])\n",
    "def Y():\n",
    "    return Matrix([[0,-1j],[1j,0]])\n",
    "def Z():\n",
    "    return Matrix([[1,0],[0,-1]])"
   ]
  },
  {
   "cell_type": "markdown",
   "metadata": {},
   "source": [
    "## IBM physical gates\n",
    "\\begin{equation}\n",
    "U_{1}(\\lambda) = \\begin{bmatrix} 1 & 0 \\\\ 0 & e^{i\\lambda} \\end{bmatrix}\n",
    "\\end{equation}"
   ]
  },
  {
   "cell_type": "code",
   "execution_count": 5,
   "metadata": {},
   "outputs": [],
   "source": [
    "def U1(lbd):\n",
    "    return Matrix([[1,0],[0,exp(1j*lbd)]])"
   ]
  },
  {
   "cell_type": "markdown",
   "metadata": {},
   "source": [
    "\\begin{equation}\n",
    "U_{2}(\\lambda,\\phi) = \\begin{bmatrix} 1 & -e^{i\\lambda} \\\\ e^{i\\phi} & e^{i(\\lambda+\\phi)} \\end{bmatrix}\n",
    "\\end{equation}"
   ]
  },
  {
   "cell_type": "code",
   "execution_count": 6,
   "metadata": {},
   "outputs": [],
   "source": [
    "def U2(lbd,ph):\n",
    "    return (1/sqrt(2))*Matrix([[1,-exp(1j*lbd)],[exp(1j*ph),exp(1j*(lbd+ph))]])                                                              "
   ]
  },
  {
   "cell_type": "markdown",
   "metadata": {},
   "source": [
    "\\begin{equation}\n",
    "U_{3}(\\lambda,\\phi,\\theta) = \\begin{bmatrix} \\cos(\\theta/2) & -e^{i\\lambda}\\sin(\\theta/2) \\\\ e^{i\\phi}\\sin(\\theta/2) & e^{i(\\lambda+\\phi)}\\cos(\\theta/2) \\end{bmatrix}\n",
    "\\end{equation}"
   ]
  },
  {
   "cell_type": "code",
   "execution_count": 7,
   "metadata": {},
   "outputs": [],
   "source": [
    "def U3(lbd, ph, th):\n",
    "    return Matrix([[cos(th/2),-exp(1j*lbd)*sin(th/2)],[exp(1j*ph)*sin(th/2),exp(1j*(lbd+ph))*cos(th/2)]])"
   ]
  },
  {
   "cell_type": "markdown",
   "metadata": {},
   "source": [
    "## Hadamard\n",
    "\\begin{equation}\n",
    "H = \\frac{1}{\\sqrt{2}}\\begin{bmatrix} 1 & 1 \\\\ 1 & -1 \\end{bmatrix}\n",
    "\\end{equation}"
   ]
  },
  {
   "cell_type": "code",
   "execution_count": 8,
   "metadata": {},
   "outputs": [],
   "source": [
    "def H():\n",
    "    return (1/sqrt(2))*Matrix([[1,1],[1,-1]])"
   ]
  },
  {
   "cell_type": "markdown",
   "metadata": {},
   "source": [
    "## S gate\n",
    "\\begin{equation}\n",
    "S = \\begin{bmatrix} 1 & 0 \\\\ 0 & i \\end{bmatrix}\\text{, } S^{\\dagger} = \\begin{bmatrix} 1 & 0 \\\\ 0 & -i \\end{bmatrix}\n",
    "\\end{equation}"
   ]
  },
  {
   "cell_type": "code",
   "execution_count": 9,
   "metadata": {},
   "outputs": [],
   "source": [
    "def S():\n",
    "    return Matrix([[1,0],[0,1j]])\n",
    "def Sd():\n",
    "    return Matrix([[1,0],[0,-1j]])"
   ]
  },
  {
   "cell_type": "markdown",
   "metadata": {},
   "source": [
    "## T gate\n",
    "\\begin{equation}\n",
    "T = \\begin{bmatrix} 1 & 0 \\\\ 0 & (1+i)/\\sqrt{2} \\end{bmatrix}\\text{, } T^{\\dagger} = \\begin{bmatrix} 1 & 0 \\\\ 0 & (1-i)/\\sqrt{2} \\end{bmatrix}\n",
    "\\end{equation}"
   ]
  },
  {
   "cell_type": "code",
   "execution_count": 10,
   "metadata": {},
   "outputs": [],
   "source": [
    "def T():\n",
    "    return Matrix([[1,0],[0,(1+1j)/sqrt(2)]])\n",
    "def Td():\n",
    "    return Matrix([[1,0],[0,(1-1j)/sqrt(2)]])"
   ]
  },
  {
   "cell_type": "markdown",
   "metadata": {},
   "source": [
    "## Control-NOT\n",
    "\\begin{align}\n",
    "& CNOT_{1\\rightarrow 2} = |0\\rangle\\langle 0|\\otimes \\sigma_{0} + |1\\rangle\\langle 1|\\otimes \\sigma_{1} \\\\\n",
    "& CNOT_{2\\rightarrow 1} = \\sigma_{0}\\otimes|0\\rangle\\langle 0| + \\sigma_{1}\\otimes|1\\rangle\\langle 1|\n",
    "\\end{align}"
   ]
  },
  {
   "cell_type": "code",
   "execution_count": 11,
   "metadata": {},
   "outputs": [],
   "source": [
    "def CNOT12():\n",
    "    return tp(proj(cb(2,0)),Pauli(0)) + tp(proj(cb(2,1)),Pauli(1))\n",
    "def CNOT21():\n",
    "    return tp(Pauli(0),proj(cb(2,0))) + tp(Pauli(1),proj(cb(2,1)))"
   ]
  },
  {
   "cell_type": "markdown",
   "metadata": {},
   "source": [
    "## SWAP\n",
    "\\begin{equation}\n",
    "SWAP = CNOT_{1\\rightarrow 2}CNOT_{2\\rightarrow 1}CNOT_{1\\rightarrow 2} = CNOT_{2\\rightarrow 1}CNOT_{1\\rightarrow 2}CNOT_{2\\rightarrow 1}\n",
    "\\end{equation}"
   ]
  },
  {
   "cell_type": "code",
   "execution_count": 12,
   "metadata": {},
   "outputs": [],
   "source": [
    "def SWAP():\n",
    "    return CNOT12()*CNOT21()*CNOT12()"
   ]
  },
  {
   "cell_type": "markdown",
   "metadata": {},
   "source": [
    "## Toffolli\n",
    "\\begin{equation}\n",
    "Toffoli = |0\\rangle\\langle 0|\\otimes|0\\rangle\\langle 0|\\otimes\\sigma_{0} + |0\\rangle\\langle 0|\\otimes|1\\rangle\\langle 1|\\otimes\\sigma_{0} + |1\\rangle\\langle 1|\\otimes|0\\rangle\\langle 0|\\otimes\\sigma_{0} + |1\\rangle\\langle 1|\\otimes|1\\rangle\\langle 1|\\otimes\\sigma_{1}\n",
    "\\end{equation}"
   ]
  },
  {
   "cell_type": "code",
   "execution_count": 13,
   "metadata": {},
   "outputs": [],
   "source": [
    "def Toffoli():\n",
    "    return tp(tp(proj(cb(2,0)),proj(cb(2,0))),Pauli(0)) + tp(tp(proj(cb(2,0)),proj(cb(2,1))),Pauli(0)) \\\n",
    "           + tp(tp(proj(cb(2,1)),proj(cb(2,0))),Pauli(0)) + tp(tp(proj(cb(2,1)),proj(cb(2,1))),Pauli(1))"
   ]
  },
  {
   "cell_type": "markdown",
   "metadata": {},
   "source": [
    "## Fredkin\n",
    "\\begin{equation}\n",
    "Fredkin = |0\\rangle\\langle 0|\\otimes\\sigma_{0}\\otimes\\sigma_{0} + |1\\rangle\\langle 1|\\otimes SWAP\n",
    "\\end{equation}"
   ]
  },
  {
   "cell_type": "code",
   "execution_count": 14,
   "metadata": {},
   "outputs": [],
   "source": [
    "def Fredkin():\n",
    "    return tp(tp(proj(cb(2,0)),Pauli(0)),Pauli(0)) + tp(proj(cb(2,1)),SWAP())"
   ]
  },
  {
   "cell_type": "code",
   "execution_count": null,
   "metadata": {},
   "outputs": [],
   "source": []
  }
 ],
 "metadata": {
  "kernelspec": {
   "display_name": "Python 3",
   "language": "python",
   "name": "python3"
  },
  "language_info": {
   "codemirror_mode": {
    "name": "ipython",
    "version": 3
   },
   "file_extension": ".py",
   "mimetype": "text/x-python",
   "name": "python",
   "nbconvert_exporter": "python",
   "pygments_lexer": "ipython3",
   "version": "3.6.4"
  }
 },
 "nbformat": 4,
 "nbformat_minor": 2
}
