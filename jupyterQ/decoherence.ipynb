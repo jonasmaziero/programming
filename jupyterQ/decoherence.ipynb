{
 "cells": [
  {
   "cell_type": "code",
   "execution_count": 1,
   "metadata": {},
   "outputs": [],
   "source": [
    "%run jupyterQ.ipynb\n",
    "%run states.ipynb\n",
    "p, g, a = symbols('p \\gamma a', real = True, positive=True)"
   ]
  },
  {
   "cell_type": "markdown",
   "metadata": {},
   "source": [
    "## __One-qubit__ decoherence channels"
   ]
  },
  {
   "cell_type": "markdown",
   "metadata": {},
   "source": [
    "### Bit flip channel\n",
    "Kraus operators\n",
    "\\begin{equation} K_{0}^{bf}=\\sqrt{1-p}\\sigma_{0}\\text{, }K_{1}^{bf}=\\sqrt{p}\\sigma_{1}.\\end{equation}\n",
    "Bloch vector\n",
    "\\begin{equation}\\vec{r}_{bf}(p)=\\left(r_{1},r_{2}(1-2p),r_{3}(1-2p)\\right).\\end{equation}"
   ]
  },
  {
   "cell_type": "code",
   "execution_count": 2,
   "metadata": {},
   "outputs": [],
   "source": [
    "def Kbf(j, p):\n",
    "    if j == 0:\n",
    "        return sqrt(1-p)*Pauli(0)\n",
    "    elif j == 1:\n",
    "        return sqrt(p)*Pauli(1)\n",
    "def BFC(rho, p):\n",
    "    return Kbf(0, p)*rho*Kbf(0, p) + Kbf(1, p)*rho*Kbf(1, p)"
   ]
  },
  {
   "cell_type": "markdown",
   "metadata": {},
   "source": [
    "### Phase flip channel\n",
    "Kraus operators\n",
    "\\begin{equation} K_{0}^{pf}=\\sqrt{1-p}\\sigma_{0}\\text{, }K_{1}^{pf}=\\sqrt{p}\\sigma_{3}.\\end{equation}\n",
    "Bloch vector\n",
    "\\begin{equation}\\vec{r}_{pf}(p)=\\left(r_{1}(1-2p),r_{2}(1-2p),r_{3}\\right).\\end{equation}"
   ]
  },
  {
   "cell_type": "code",
   "execution_count": 4,
   "metadata": {},
   "outputs": [],
   "source": [
    "def Kpf(j, p):\n",
    "    if j == 0:\n",
    "        return sqrt(1-p)*Pauli(0)\n",
    "    elif j == 1:\n",
    "        return sqrt(p)*Pauli(3)\n",
    "def PFC(rho, p):\n",
    "    return Kpf(0, p)*rho*Kpf(0, p) + Kpf(1, p)*rho*Kpf(1, p)"
   ]
  },
  {
   "cell_type": "markdown",
   "metadata": {},
   "source": [
    "### Bit-phase flip channel\n",
    "Kraus operators\n",
    "\\begin{equation} K_{0}^{bpf}=\\sqrt{1-p}\\sigma_{0}\\text{, }K_{1}^{bpf}=\\sqrt{p}\\sigma_{2}.\\end{equation}\n",
    "Bloch vector\n",
    "\\begin{equation}\\vec{r}_{bpf}(p)=\\left(r_{1}(1-2p),r_{2},r_{3}(1-2p)\\right).\\end{equation}"
   ]
  },
  {
   "cell_type": "code",
   "execution_count": 5,
   "metadata": {},
   "outputs": [],
   "source": [
    "def Kbpf(j, p):\n",
    "    if j == 0:\n",
    "        return sqrt(1-p)*Pauli(0)\n",
    "    elif j == 1:\n",
    "        return sqrt(p)*Pauli(2)\n",
    "def BPFC(rho, p):\n",
    "    return Kbpf(0, p)*rho*Kbpf(0, p) + Kbpf(1, p)*rho*Kbpf(1, p)"
   ]
  },
  {
   "cell_type": "markdown",
   "metadata": {},
   "source": [
    "### Depolarizing channel\n",
    "Kraus operators\n",
    "\\begin{equation} K_{0}^{d}=\\sqrt{1-3p/4}\\sigma_{0}\\text{, }K_{1}^{d}=\\sqrt{p/4}\\sigma_{1}\\text{, }K_{2}^{d}=\\sqrt{p/4}\\sigma_{2}\\text{, }K_{3}^{d}=\\sqrt{p/4}\\sigma_{3}.\\end{equation}\n",
    "Bloch vector\n",
    "\\begin{equation}\\vec{r}_{d}(p)=\\left(r_{1}(1-p),r_{2}(1-p),r_{3}(1-p)\\right).\\end{equation}"
   ]
  },
  {
   "cell_type": "code",
   "execution_count": 6,
   "metadata": {},
   "outputs": [],
   "source": [
    "def Kd(j, p):\n",
    "    if j == 0:\n",
    "        return sqrt(1-3*p/4)*Pauli(0)\n",
    "    elif j == 1:\n",
    "        return sqrt(p/4)*Pauli(1)\n",
    "    elif j == 2:\n",
    "        return sqrt(p/4)*Pauli(2)\n",
    "    elif j == 3:\n",
    "        return sqrt(p/4)*Pauli(3)\n",
    "def DC(rho, p):\n",
    "    return Kd(0, p)*rho*Kd(0, p) + Kd(1, p)*rho*Kd(1, p) + Kd(2, p)*rho*Kd(2, p) \n",
    "            + Kd(3, p)*rho*Kd(3, p)"
   ]
  },
  {
   "cell_type": "markdown",
   "metadata": {},
   "source": [
    "### Amplitude damping channel\n",
    "Kraus operators\n",
    "\\begin{equation}K_{0}^{ad} = \\begin{bmatrix} 0 & \\sqrt{\\gamma} \\\\ 0 & 0 \\end{bmatrix}\\text{, } K_{1}^{ad} = \\begin{bmatrix} 1 & 0 \\\\ 0 & \\sqrt{1-\\gamma} \\end{bmatrix}.\\end{equation}\n",
    "Bloch vector\n",
    "\\begin{equation}\\vec{r}_{ad}(\\gamma)=\\left(r_{1}\\sqrt{1-\\gamma},r_{2}\\sqrt{1-\\gamma},r_{3}(1-\\gamma)+\\gamma\\right).\\end{equation}"
   ]
  },
  {
   "cell_type": "code",
   "execution_count": 74,
   "metadata": {},
   "outputs": [],
   "source": [
    "def Kad(j, a):\n",
    "    if j == 0:\n",
    "        return Matrix([[0,sqrt(a)],[0,0]])\n",
    "    elif j == 1:\n",
    "        return Matrix([[1,0],[0,sqrt(1-a)]])\n",
    "def ADC(rho, g):\n",
    "    return Kad(0, g)*rho*(Kad(0, g).T) + Kad(1, g)*rho*Kad(1, g)"
   ]
  },
  {
   "cell_type": "markdown",
   "metadata": {},
   "source": [
    "### Generalized amplitude damping channel\n",
    "Kraus operators\n",
    "\\begin{equation}K_{0}^{gad} = \\sqrt{\\gamma}\\begin{bmatrix} 1 & 0 \\\\ 0 & \\sqrt{1-a} \\end{bmatrix}\\text{, } K_{1}^{gad} = \\sqrt{\\gamma}\\begin{bmatrix} 0 & \\sqrt{a} \\\\ 0 & 0 \\end{bmatrix}\\text{, }K_{2}^{gad} = \\sqrt{1-\\gamma}\\begin{bmatrix} \\sqrt{1-a} & 0 \\\\ 0 & 1 \\end{bmatrix}\\text{, } K_{3}^{gad} = \\sqrt{1-\\gamma}\\begin{bmatrix} 0 & 0 \\\\ \\sqrt{a} & 0 \\end{bmatrix}.\\end{equation}\n",
    "Bloch vector\n",
    "\\begin{equation}\\vec{r}_{gad}(\\gamma)=\\left(r_{1}\\sqrt{1-\\gamma},r_{2}\\sqrt{1-\\gamma},r_{3}(1-\\gamma)+\\gamma(2a-1)\\right).\\end{equation}"
   ]
  },
  {
   "cell_type": "code",
   "execution_count": 8,
   "metadata": {},
   "outputs": [],
   "source": [
    "def Kgad(j, g, a):\n",
    "    if j == 0:\n",
    "        return sqrt(g)*Matrix([[1,0],[0,sqrt(1-a)]])\n",
    "    elif j == 1:\n",
    "        return sqrt(g)*Matrix([[0,sqrt(a)],[0,0]])\n",
    "    elif j == 2:\n",
    "        return sqrt(1-g)*Matrix([[sqrt(1-a),0],[0,1]])\n",
    "    elif j == 3:\n",
    "        return sqrt(1-g)*Matrix([[0,0],[sqrt(a),0]])"
   ]
  },
  {
   "cell_type": "code",
   "execution_count": 9,
   "metadata": {},
   "outputs": [],
   "source": [
    "def GADC(rho, g, a):\n",
    "    return Kgad(0, g, a)*rho*(Kgad(0, g, a).T) + Kgad(1, g, p)*rho*Kgad(1, g, a) \\\n",
    "           + Kgad(2, g, a)*rho*(Kgad(2, g, a).T) + Kgad(3, g, a)*rho*Kgad(3, g, a)"
   ]
  },
  {
   "cell_type": "code",
   "execution_count": 10,
   "metadata": {},
   "outputs": [
    {
     "data": {
      "image/png": "[encoded data removed]",
      "text/latex": [
       "$$\\left[\\begin{matrix}0.5 \\left(\\gamma + \\left(\\gamma - 1\\right) \\left(p - 1\\right)\\right) \\left(r_{3} + 1\\right) & 0.5 \\gamma p r_{1} + 0.5 i \\gamma p r_{2} + 0.5 r_{1} \\sqrt{- p + 1} - 0.5 i r_{2} \\sqrt{- p + 1}\\\\0.5 \\gamma \\sqrt{- p + 1} \\left(r_{1} + i r_{2}\\right) - 0.5 p \\left(\\gamma - 1\\right) \\left(r_{1} - i r_{2}\\right) - 0.5 \\left(\\gamma - 1\\right) \\sqrt{- p + 1} \\left(r_{1} + i r_{2}\\right) & 0.5 \\left(r_{3} - 1\\right) \\left(\\gamma \\left(p - 1\\right) + \\gamma - 1\\right)\\end{matrix}\\right]$$"
      ],
      "text/plain": [
       "⎡                                                                             \n",
       "⎢                                       0.5⋅(\\gamma + (\\gamma - 1)⋅(p - 1))⋅(r\n",
       "⎢                                                                             \n",
       "⎢             ________                                                        \n",
       "⎣0.5⋅\\gamma⋅╲╱ -p + 1 ⋅(r_{1} + ⅈ⋅r_{2}) - 0.5⋅p⋅(\\gamma - 1)⋅(r_{1} - ⅈ⋅r_{2}\n",
       "\n",
       "                                                                              \n",
       "_{3} + 1)                                          0.5⋅\\gamma⋅p⋅r_{1} + 0.5⋅ⅈ⋅\n",
       "                                                                              \n",
       "                       ________                                               \n",
       ") - 0.5⋅(\\gamma - 1)⋅╲╱ -p + 1 ⋅(r_{1} + ⅈ⋅r_{2})                        0.5⋅(\n",
       "\n",
       "                             ________                 ________⎤\n",
       "\\gamma⋅p⋅r_{2} + 0.5⋅r_{1}⋅╲╱ -p + 1  - 0.5⋅ⅈ⋅r_{2}⋅╲╱ -p + 1 ⎥\n",
       "                                                              ⎥\n",
       "                                                              ⎥\n",
       "r_{3} - 1)⋅(\\gamma⋅(p - 1) + \\gamma - 1)                      ⎦"
      ]
     },
     "execution_count": 10,
     "metadata": {},
     "output_type": "execute_result"
    }
   ],
   "source": [
    "rho1qb_gad = GADC(rho1qb(r1, r2, r3), g, p); simplify(rho1qb_gad)"
   ]
  },
  {
   "cell_type": "code",
   "execution_count": 16,
   "metadata": {},
   "outputs": [
    {
     "data": {
      "image/png": "[encoded data removed]",
      "text/latex": [
       "$$1.0 i \\gamma p r_{2} + 0.5 p r_{1} - 0.5 i p r_{2} + 1.0 r_{1} \\sqrt{- p + 1}$$"
      ],
      "text/plain": [
       "                                                            ________\n",
       "1.0⋅ⅈ⋅γ⋅p⋅r_{2} + 0.5⋅p⋅r_{1} - 0.5⋅ⅈ⋅p⋅r_{2} + 1.0⋅r_{1}⋅╲╱ -p + 1 "
      ]
     },
     "execution_count": 16,
     "metadata": {},
     "output_type": "execute_result"
    }
   ],
   "source": [
    "r1t = trace(rho1qb_gad*pauli(1)); simplify(r1t)"
   ]
  },
  {
   "cell_type": "code",
   "execution_count": null,
   "metadata": {},
   "outputs": [],
   "source": []
  },
  {
   "cell_type": "markdown",
   "metadata": {},
   "source": [
    "### Phase damping channel\n",
    "Kraus operators\n",
    "\\begin{equation}\n",
    "K_{0}^{pd} = \\begin{bmatrix}0&0\\\\0&\\sqrt{p}\\end{bmatrix}\\text{, } K_{1}^{pd} = \\begin{bmatrix}1&0\\\\0&\\sqrt{1-p}\\end{bmatrix}.\n",
    "\\end{equation}\n",
    "Bloch vector\n",
    "\\begin{equation}\\vec{r}_{pd}(\\gamma)=\\left(r_{1}(1-\\gamma),r_{2}(1-\\gamma),r_{3}\\right).\\end{equation}"
   ]
  },
  {
   "cell_type": "code",
   "execution_count": 4,
   "metadata": {},
   "outputs": [],
   "source": [
    "def Kpd(j, p):\n",
    "    if j == 0:\n",
    "        return Matrix([[0,0],[0,sqrt(p)]])\n",
    "    elif j == 1:\n",
    "        return Matrix([[1,0],[0,sqrt(1-p)]])"
   ]
  },
  {
   "cell_type": "code",
   "execution_count": 5,
   "metadata": {},
   "outputs": [],
   "source": [
    "#Kpd(0, p)"
   ]
  },
  {
   "cell_type": "markdown",
   "metadata": {},
   "source": [
    "# Channels compositions\n",
    "## Phase damping & generalized amplitude damping"
   ]
  },
  {
   "cell_type": "code",
   "execution_count": 11,
   "metadata": {},
   "outputs": [],
   "source": [
    "def Kpdgad(j,p,g,a):\n",
    "    if j == 0:\n",
    "        return  Kpd(0,p)*Kgad(0,g,a)\n",
    "    elif j == 1:\n",
    "        return  Kpd(0,p)*Kgad(1,g,a)\n",
    "    elif j == 2:\n",
    "        return  Kpd(0,p)*Kgad(2,g,a)\n",
    "    elif j == 3:\n",
    "        return  Kpd(0,p)*Kgad(3,g,a)\n",
    "    elif j == 4:\n",
    "        return  Kpd(1,p)*Kgad(0,g,a)\n",
    "    elif j == 5:\n",
    "        return  Kpd(1,p)*Kgad(1,g,a)\n",
    "    elif j == 6:\n",
    "        return  Kpd(1,p)*Kgad(2,g,a)\n",
    "    elif j == 7:\n",
    "        return  Kpd(1,p)*Kgad(3,g,a)"
   ]
  },
  {
   "cell_type": "code",
   "execution_count": 12,
   "metadata": {},
   "outputs": [
    {
     "data": {
      "image/png": "[encoded data removed]",
      "text/latex": [
       "$$\\left[\\begin{matrix}\\left[\\begin{matrix}0 & 0\\\\0 & \\sqrt{\\gamma} \\sqrt{p} \\sqrt{- a + 1}\\end{matrix}\\right] & \\left[\\begin{matrix}0 & 0\\\\0 & 0\\end{matrix}\\right] & \\left[\\begin{matrix}0 & 0\\\\0 & \\sqrt{p} \\sqrt{- \\gamma + 1}\\end{matrix}\\right] & \\left[\\begin{matrix}0 & 0\\\\\\sqrt{a} \\sqrt{p} \\sqrt{- \\gamma + 1} & 0\\end{matrix}\\right]\\\\\\left[\\begin{matrix}\\sqrt{\\gamma} & 0\\\\0 & \\sqrt{\\gamma} \\sqrt{- a + 1} \\sqrt{- p + 1}\\end{matrix}\\right] & \\left[\\begin{matrix}0 & \\sqrt{\\gamma} \\sqrt{a}\\\\0 & 0\\end{matrix}\\right] & \\left[\\begin{matrix}\\sqrt{- \\gamma + 1} \\sqrt{- a + 1} & 0\\\\0 & \\sqrt{- \\gamma + 1} \\sqrt{- p + 1}\\end{matrix}\\right] & \\left[\\begin{matrix}0 & 0\\\\\\sqrt{a} \\sqrt{- \\gamma + 1} \\sqrt{- p + 1} & 0\\end{matrix}\\right]\\end{matrix}\\right]$$"
      ],
      "text/plain": [
       "⎡        ⎡0             0            ⎤                                        \n",
       "⎢        ⎢                           ⎥                 ⎡0  0⎤                 \n",
       "⎢        ⎢     ________      ________⎥                 ⎢    ⎥                 \n",
       "⎢        ⎣0  ╲╱ \\gamma ⋅√p⋅╲╱ -a + 1 ⎦                 ⎣0  0⎦                 \n",
       "⎢                                                                             \n",
       "⎢⎡  ________                                  ⎤  ⎡     ________   ⎤  ⎡  ______\n",
       "⎢⎢╲╱ \\gamma                  0                ⎥  ⎢0  ╲╱ \\gamma ⋅√a⎥  ⎢╲╱ -\\gam\n",
       "⎢⎢                                            ⎥  ⎢                ⎥  ⎢        \n",
       "⎢⎢              ________   ________   ________⎥  ⎣0        0      ⎦  ⎢        \n",
       "⎣⎣    0       ╲╱ \\gamma ⋅╲╱ -a + 1 ⋅╲╱ -p + 1 ⎦                      ⎣        \n",
       "\n",
       "       ⎡0          0         ⎤                       ⎡          0            0\n",
       "       ⎢                     ⎥                       ⎢                        \n",
       "       ⎢        _____________⎥                       ⎢        _____________   \n",
       "       ⎣0  √p⋅╲╱ -\\gamma + 1 ⎦                       ⎣√a⋅√p⋅╲╱ -\\gamma + 1   0\n",
       "                                                                              \n",
       "_______   ________                            ⎤  ⎡              0             \n",
       "ma + 1 ⋅╲╱ -a + 1               0             ⎥  ⎢                            \n",
       "                                              ⎥  ⎢     _____________   _______\n",
       "                      _____________   ________⎥  ⎣√a⋅╲╱ -\\gamma + 1 ⋅╲╱ -p + 1\n",
       "    0               ╲╱ -\\gamma + 1 ⋅╲╱ -p + 1 ⎦                               \n",
       "\n",
       "⎤    ⎤\n",
       "⎥    ⎥\n",
       "⎥    ⎥\n",
       "⎦    ⎥\n",
       "     ⎥\n",
       "   0⎤⎥\n",
       "    ⎥⎥\n",
       "_   ⎥⎥\n",
       "   0⎦⎥\n",
       "     ⎦"
      ]
     },
     "execution_count": 12,
     "metadata": {},
     "output_type": "execute_result"
    }
   ],
   "source": [
    "Matrix([[Kpdgad(0,p,g,a),Kpdgad(1,p,g,a),Kpdgad(2,p,g,a),Kpdgad(3,p,g,a)],\n",
    "        [Kpdgad(4,p,g,a),Kpdgad(5,p,g,a),Kpdgad(6,p,g,a),Kpdgad(7,p,g,a)]])"
   ]
  },
  {
   "cell_type": "code",
   "execution_count": 13,
   "metadata": {},
   "outputs": [
    {
     "data": {
      "image/png": "[encoded data removed]",
      "text/latex": [
       "$$\\left[\\begin{matrix}- \\frac{1}{4} \\left(w - 1\\right) & 0 & 0 & 0\\\\0 & \\frac{1}{4} \\left(w + 1\\right) & - \\frac{w}{2} & 0\\\\0 & - \\frac{w}{2} & \\frac{1}{4} \\left(w + 1\\right) & 0\\\\0 & 0 & 0 & - \\frac{1}{4} \\left(w - 1\\right)\\end{matrix}\\right]$$"
      ],
      "text/plain": [
       "⎡-(w - 1)                          ⎤\n",
       "⎢─────────    0      0        0    ⎥\n",
       "⎢    4                             ⎥\n",
       "⎢                                  ⎥\n",
       "⎢           w + 1   -w             ⎥\n",
       "⎢    0      ─────   ───       0    ⎥\n",
       "⎢             4      2             ⎥\n",
       "⎢                                  ⎥\n",
       "⎢            -w    w + 1           ⎥\n",
       "⎢    0       ───   ─────      0    ⎥\n",
       "⎢             2      4             ⎥\n",
       "⎢                                  ⎥\n",
       "⎢                         -(w - 1) ⎥\n",
       "⎢    0        0      0    ─────────⎥\n",
       "⎣                             4    ⎦"
      ]
     },
     "execution_count": 13,
     "metadata": {},
     "output_type": "execute_result"
    }
   ],
   "source": [
    "factor(werner(w))"
   ]
  },
  {
   "cell_type": "code",
   "execution_count": 16,
   "metadata": {},
   "outputs": [
    {
     "data": {
      "image/png": "[encoded data removed]",
      "text/latex": [
       "$$\\left[\\begin{matrix}\\frac{1}{4} \\left(2 \\gamma a + a w - a - w + 1\\right) & 0 & 0 & 0\\\\0 & - \\frac{1}{4} \\left(- 2 \\gamma a + a w + a - w - 1\\right) & - \\frac{w}{2} \\sqrt{- a + 1} \\sqrt{- p + 1} & 0\\\\0 & - \\frac{w}{2} \\sqrt{- a + 1} \\sqrt{- p + 1} & - \\frac{1}{4} \\left(2 \\gamma a + a w - a - w - 1\\right) & 0\\\\0 & 0 & 0 & \\frac{1}{4} \\left(- 2 \\gamma a + a w + a - w + 1\\right)\\end{matrix}\\right]$$"
      ],
      "text/plain": [
       "⎡2⋅\\gamma⋅a + a⋅w - a - w + 1                                                 \n",
       "⎢────────────────────────────                  0                              \n",
       "⎢             4                                                               \n",
       "⎢                                                                             \n",
       "⎢                                                                         ____\n",
       "⎢                              -(-2⋅\\gamma⋅a + a⋅w + a - w - 1)      -w⋅╲╱ -a \n",
       "⎢             0                ─────────────────────────────────     ─────────\n",
       "⎢                                              4                              \n",
       "⎢                                                                             \n",
       "⎢                                       ________   ________                   \n",
       "⎢                                  -w⋅╲╱ -a + 1 ⋅╲╱ -p + 1        -(2⋅\\gamma⋅a\n",
       "⎢             0                    ─────────────────────────      ────────────\n",
       "⎢                                              2                              \n",
       "⎢                                                                             \n",
       "⎢                                                                             \n",
       "⎢             0                                0                              \n",
       "⎣                                                                             \n",
       "\n",
       "                                                   ⎤\n",
       "   0                                0              ⎥\n",
       "                                                   ⎥\n",
       "                                                   ⎥\n",
       "____   ________                                    ⎥\n",
       "+ 1 ⋅╲╱ -p + 1                                     ⎥\n",
       "────────────────                    0              ⎥\n",
       "   2                                               ⎥\n",
       "                                                   ⎥\n",
       "                                                   ⎥\n",
       " + a⋅w - a - w - 1)                                ⎥\n",
       "────────────────────                0              ⎥\n",
       "   4                                               ⎥\n",
       "                                                   ⎥\n",
       "                      -2⋅\\gamma⋅a + a⋅w + a - w + 1⎥\n",
       "   0                  ─────────────────────────────⎥\n",
       "                                    4              ⎦"
      ]
     },
     "execution_count": 16,
     "metadata": {},
     "output_type": "execute_result"
    }
   ],
   "source": [
    "def werner_pdgad(w,p,g,a):\n",
    "    A = tp(Kpdgad(0,p,g,a),pauli(0))*werner(w)*tp(Kpdgad(0,p,g,a),pauli(0)) \\\n",
    "    + tp(Kpdgad(2,p,g,a),pauli(0))*werner(w)*tp(Kpdgad(2,p,g,a),pauli(0))\n",
    "    A += tp(Kpdgad(3,p,g,a),pauli(0))*werner(w)*tp(Kpdgad(3,p,g,a).T,pauli(0)) \\\n",
    "    + tp(Kpdgad(4,p,g,a),pauli(0))*werner(w)*tp(Kpdgad(4,p,g,a),pauli(0))\n",
    "    A += tp(Kpdgad(5,p,g,a),pauli(0))*werner(w)*tp(Kpdgad(5,p,g,a).T,pauli(0)) \\\n",
    "    + tp(Kpdgad(6,p,g,a),pauli(0))*werner(w)*tp(Kpdgad(6,p,g,a),pauli(0))\n",
    "    A += tp(Kpdgad(7,p,g,a),pauli(0))*werner(w)*tp(Kpdgad(7,p,g,a).T,pauli(0))\n",
    "    return A\n",
    "factor(werner_pdgad(w,p,g,a))"
   ]
  },
  {
   "cell_type": "markdown",
   "metadata": {},
   "source": [
    "### Composition of phase damping and amplitude damping"
   ]
  },
  {
   "cell_type": "code",
   "execution_count": 75,
   "metadata": {},
   "outputs": [],
   "source": [
    "def Kpdad(j,p,a):\n",
    "    if j == 0:\n",
    "        return  Kpd(0,p)*Kad(0,a)\n",
    "    elif j == 1:\n",
    "        return  Kpd(0,p)*Kad(1,a)\n",
    "    elif j == 2:\n",
    "        return  Kpd(1,p)*Kad(0,a)\n",
    "    elif j == 3:\n",
    "        return  Kpd(1,p)*Kad(1,a)"
   ]
  },
  {
   "cell_type": "code",
   "execution_count": 77,
   "metadata": {},
   "outputs": [
    {
     "data": {
      "image/png": "[encoded data removed]",
      "text/latex": [
       "$$\\left[\\begin{matrix}\\left[\\begin{matrix}0 & 0\\\\0 & 0\\end{matrix}\\right] & \\left[\\begin{matrix}0 & 0\\\\0 & \\sqrt{p} \\sqrt{- a + 1}\\end{matrix}\\right] & \\left[\\begin{matrix}0 & \\sqrt{a}\\\\0 & 0\\end{matrix}\\right] & \\left[\\begin{matrix}1 & 0\\\\0 & \\sqrt{- a + 1} \\sqrt{- p + 1}\\end{matrix}\\right]\\end{matrix}\\right]$$"
      ],
      "text/plain": [
       "⎡        ⎡0        0      ⎤           ⎡1            0          ⎤⎤\n",
       "⎢⎡0  0⎤  ⎢                ⎥  ⎡0  √a⎤  ⎢                        ⎥⎥\n",
       "⎢⎢    ⎥  ⎢        ________⎥  ⎢     ⎥  ⎢     ________   ________⎥⎥\n",
       "⎣⎣0  0⎦  ⎣0  √p⋅╲╱ -a + 1 ⎦  ⎣0  0 ⎦  ⎣0  ╲╱ -a + 1 ⋅╲╱ -p + 1 ⎦⎦"
      ]
     },
     "execution_count": 77,
     "metadata": {},
     "output_type": "execute_result"
    }
   ],
   "source": [
    "p, a = symbols('p a')\n",
    "Matrix([[Kpdad(0,p,a),Kpdad(1,p,a),Kpdad(2,p,a),Kpdad(3,p,a)]])"
   ]
  },
  {
   "cell_type": "code",
   "execution_count": 79,
   "metadata": {},
   "outputs": [
    {
     "data": {
      "image/png": "[encoded data removed]",
      "text/latex": [
       "$$\\left[\\begin{matrix}\\frac{1}{4} \\left(a w + a - w + 1\\right) & 0 & 0 & 0\\\\0 & - \\frac{1}{4} \\left(a w - a - w - 1\\right) & - \\frac{w}{2} \\sqrt{- a + 1} \\sqrt{- p + 1} & 0\\\\0 & - \\frac{w}{2} \\sqrt{- a + 1} \\sqrt{- p + 1} & - \\frac{1}{4} \\left(a - 1\\right) \\left(w + 1\\right) & 0\\\\0 & 0 & 0 & \\frac{1}{4} \\left(a - 1\\right) \\left(w - 1\\right)\\end{matrix}\\right]$$"
      ],
      "text/plain": [
       "⎡a⋅w + a - w + 1                                                              \n",
       "⎢───────────────              0                          0                    \n",
       "⎢       4                                                                     \n",
       "⎢                                                                             \n",
       "⎢                                                 ________   ________         \n",
       "⎢                    -(a⋅w - a - w - 1)      -w⋅╲╱ -a + 1 ⋅╲╱ -p + 1          \n",
       "⎢       0            ───────────────────     ─────────────────────────        \n",
       "⎢                             4                          2                    \n",
       "⎢                                                                             \n",
       "⎢                      ________   ________                                    \n",
       "⎢                 -w⋅╲╱ -a + 1 ⋅╲╱ -p + 1        -(a - 1)⋅(w + 1)             \n",
       "⎢       0         ─────────────────────────      ─────────────────            \n",
       "⎢                             2                          4                    \n",
       "⎢                                                                             \n",
       "⎢                                                                       (a - 1\n",
       "⎢       0                     0                          0              ──────\n",
       "⎣                                                                             \n",
       "\n",
       "         ⎤\n",
       " 0       ⎥\n",
       "         ⎥\n",
       "         ⎥\n",
       "         ⎥\n",
       "         ⎥\n",
       " 0       ⎥\n",
       "         ⎥\n",
       "         ⎥\n",
       "         ⎥\n",
       "         ⎥\n",
       " 0       ⎥\n",
       "         ⎥\n",
       "         ⎥\n",
       ")⋅(w - 1)⎥\n",
       "─────────⎥\n",
       " 4       ⎦"
      ]
     },
     "execution_count": 79,
     "metadata": {},
     "output_type": "execute_result"
    }
   ],
   "source": [
    "def werner_pdad(w,p,A):\n",
    "    A = tp(Kpdad(1,p,a),Pauli(0))*werner(w)*tp(Kpdad(1,p,a),Pauli(0)) + tp(Kpdad(2,p,a),Pauli(0))*werner(w)*tp(Kpdad(2,p,a).T,Pauli(0))\n",
    "    A += tp(Kpdad(3,p,a),Pauli(0))*werner(w)*tp(Kpdad(3,p,a),Pauli(0))\n",
    "    return A\n",
    "factor(werner_pdad(w,p,a))"
   ]
  },
  {
   "cell_type": "markdown",
   "metadata": {},
   "source": [
    "## __Two-qubit__ decoherence channels"
   ]
  },
  {
   "cell_type": "code",
   "execution_count": null,
   "metadata": {},
   "outputs": [],
   "source": [
    "def PDC(rho, g):\n",
    "    return Kpd(0, g)*rho*Kpd(0, g) + Kpd(1, g)*rho*Kpd(1, g) + Kpd(2, g)*rho*Kpd(2, g)"
   ]
  }
 ],
 "metadata": {
  "kernelspec": {
   "display_name": "Python 3",
   "language": "python",
   "name": "python3"
  },
  "language_info": {
   "codemirror_mode": {
    "name": "ipython",
    "version": 3
   },
   "file_extension": ".py",
   "mimetype": "text/x-python",
   "name": "python",
   "nbconvert_exporter": "python",
   "pygments_lexer": "ipython3",
   "version": "3.8.3"
  }
 },
 "nbformat": 4,
 "nbformat_minor": 2
}
