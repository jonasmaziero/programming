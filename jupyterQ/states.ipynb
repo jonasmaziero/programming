{
 "cells": [
  {
   "cell_type": "code",
   "execution_count": 8,
   "metadata": {},
   "outputs": [],
   "source": [
    "def pauli(j):\n",
    "    '''retorna as matrizes de Pauli'''\n",
    "    if j == 1:\n",
    "        return Matrix([[0,1],[1,0]])\n",
    "    elif j == 2:\n",
    "        return Matrix([[0,-1j],[1j,0]])\n",
    "    elif j == 3:\n",
    "        return Matrix([[1,0],[0,-1]])"
   ]
  },
  {
   "cell_type": "markdown",
   "metadata": {},
   "source": [
    "### One-qubit states\n",
    "\\begin{equation}\n",
    "\\rho_{qb} = \\frac{1}{2}\\left(\\sigma_{0}+\\sum_{j=1}r_{j}\\sigma_{j}\\right)\n",
    "= \n",
    "\\frac{1}{2}\n",
    "\\begin{bmatrix}\n",
    "1+r_{3} & r_{1}-ir_{2} \\\\\n",
    "r_{1}+ir_{2} & 1-r_{3}\n",
    "\\end{bmatrix}\n",
    "\\end{equation}"
   ]
  },
  {
   "cell_type": "code",
   "execution_count": 9,
   "metadata": {},
   "outputs": [],
   "source": [
    "def rho1qb(r1, r2, r3):\n",
    "    return (1/2)*(id(2) + r1*pauli(1) + r2*pauli(2) + r3*pauli(3))"
   ]
  },
  {
   "cell_type": "code",
   "execution_count": 10,
   "metadata": {},
   "outputs": [
    {
     "data": {
      "text/latex": [
       "$\\displaystyle \\left[\\begin{matrix}0.5 r_{3} + 0.5 & 0.5 r_{1} - 0.5 i r_{2}\\\\0.5 r_{1} + 0.5 i r_{2} & 0.5 - 0.5 r_{3}\\end{matrix}\\right]$"
      ],
      "text/plain": [
       "⎡    0.5⋅r_{3} + 0.5      0.5⋅r_{1} - 0.5⋅ⅈ⋅r_{2}⎤\n",
       "⎢                                                ⎥\n",
       "⎣0.5⋅r_{1} + 0.5⋅ⅈ⋅r_{2}      0.5 - 0.5⋅r_{3}    ⎦"
      ]
     },
     "execution_count": 10,
     "metadata": {},
     "output_type": "execute_result"
    }
   ],
   "source": [
    "r1,r2,r3 = symbols('r_{1} r_{2} r_{3}', real=True); rho1qb(r1,r2,r3)"
   ]
  },
  {
   "cell_type": "markdown",
   "metadata": {},
   "source": [
    "### Two-qubit states\n",
    "\\begin{align}\n",
    "\\rho & = \\frac{1}{4}\\left(\\sigma_{0}\\otimes\\sigma_{0} + \\sigma_{0}\\otimes\\sum_{k=1}^{3}b_{k}\\sigma_{k} + \\sum_{j=1}^{3}a_{j}\\sigma_{j}\\otimes\\sigma_{0} + \\sum_{j,k=1}^{3}c_{jk}\\sigma_{j}\\otimes\\sigma_{k}\\right) \\\\\n",
    "& = \\frac{1}{4}\n",
    "\\begin{bmatrix}\n",
    "1+a_{3}+b_{3}+c_{33} & b_{1}-ib_{2}+c_{31}-ic_{32} & a_{1}-ia_{2}+c_{13}-ic_{23} & c_{11}-c_{22}-i(c_{12}+c_{21}) \\\\\n",
    "b_{1}+ib_{2}+c_{31}+ic_{32} & 1+a_{3}-b_{3}-c_{33} & c_{11}+c_{22}+i(c_{12}-c_{21}) & a_{1}-ia_{2}-c_{13}+ic_{23} \\\\\n",
    "a_{1}+ia_{2}+c_{13}+ic_{23} & c_{11}+c_{22}-i(c_{12}-c_{21}) & 1-a_{3}+b_{3}-c_{33} & b_{1}-ib_{2}-c_{31}+ic_{32} \\\\\n",
    "c_{11}-c_{22}+i(c_{12}+c_{21}) & a_{1}+ia_{2}-c_{13}-ic_{23} & b_{1}+ib_{2}-c_{31}-ic_{32} & 1-a_{3}-b_{3}+c_{33}\n",
    "\\end{bmatrix} \\\\\n",
    "& = \\frac{1}{4}\\sum_{j,k=0}^{3}c_{j,k}\\sigma_{j}\\otimes\\sigma_{k}\n",
    "\\end{align}"
   ]
  },
  {
   "cell_type": "code",
   "execution_count": 11,
   "metadata": {},
   "outputs": [],
   "source": [
    "def Pauli(j):\n",
    "    if j == 0:\n",
    "        return Matrix([[1,0],[0,1]])\n",
    "    elif j == 1:\n",
    "        return Matrix([[0,1],[1,0]])\n",
    "    elif j == 2:\n",
    "        return Matrix([[0,-1j],[1j,0]])\n",
    "    elif j == 3:\n",
    "        return Matrix([[1,0],[0,-1]])"
   ]
  },
  {
   "cell_type": "code",
   "execution_count": 12,
   "metadata": {},
   "outputs": [],
   "source": [
    "a1,a2,a3,b1,b2,b3 = symbols('a_{1} a_{2} a_{3} b_{1} b_{2} b_{3}', real=True)\n",
    "c11,c12,c13,c21,c22,c23,c31,c32,c33 = symbols('c_{11} c_{12} c_{13} c_{21} c_{22} c_{23} c_{31} c_{32} c_{33}', real=True)\n",
    "def rho2qb(a1, a2, a3, b1, b2, b3, c11, c12, c13, c21, c22, c23, c31, c32, c33):\n",
    "    return (1/4)*(tp(Pauli(0),Pauli(0)) + b1*tp(Pauli(0),Pauli(1)) + b2*tp(Pauli(0),Pauli(2)) + b3*tp(Pauli(0),Pauli(3))\n",
    "           + a1*tp(Pauli(1),Pauli(0)) + c11*tp(Pauli(1),Pauli(1)) + c12*tp(Pauli(1),Pauli(2)) + c13*tp(Pauli(1),Pauli(3))\n",
    "           + a2*tp(Pauli(2),Pauli(0)) + c21*tp(Pauli(2),Pauli(1)) + c22*tp(Pauli(2),Pauli(2)) + c23*tp(Pauli(2),Pauli(3))\n",
    "           + a3*tp(Pauli(3),Pauli(0)) + c31*tp(Pauli(3),Pauli(1)) + c32*tp(Pauli(3),Pauli(2)) + c33*tp(Pauli(3),Pauli(3)))"
   ]
  },
  {
   "cell_type": "code",
   "execution_count": 13,
   "metadata": {
    "scrolled": true
   },
   "outputs": [
    {
     "data": {
      "text/latex": [
       "$\\displaystyle \\left[\\begin{matrix}0.25 a_{3} + 0.25 b_{3} + 0.25 c_{33} + 0.25 & 0.25 b_{1} - 0.25 i b_{2} + 0.25 c_{31} - 0.25 i c_{32} & 0.25 a_{1} - 0.25 i a_{2} + 0.25 c_{13} - 0.25 i c_{23} & 0.25 c_{11} - 0.25 i c_{12} - 0.25 i c_{21} - 0.25 c_{22}\\\\0.25 b_{1} + 0.25 i b_{2} + 0.25 c_{31} + 0.25 i c_{32} & 0.25 a_{3} - 0.25 b_{3} - 0.25 c_{33} + 0.25 & 0.25 c_{11} + 0.25 i c_{12} - 0.25 i c_{21} + 0.25 c_{22} & 0.25 a_{1} - 0.25 i a_{2} - 0.25 c_{13} + 0.25 i c_{23}\\\\0.25 a_{1} + 0.25 i a_{2} + 0.25 c_{13} + 0.25 i c_{23} & 0.25 c_{11} - 0.25 i c_{12} + 0.25 i c_{21} + 0.25 c_{22} & - 0.25 a_{3} + 0.25 b_{3} - 0.25 c_{33} + 0.25 & 0.25 b_{1} - 0.25 i b_{2} - 0.25 c_{31} + 0.25 i c_{32}\\\\0.25 c_{11} + 0.25 i c_{12} + 0.25 i c_{21} - 0.25 c_{22} & 0.25 a_{1} + 0.25 i a_{2} - 0.25 c_{13} - 0.25 i c_{23} & 0.25 b_{1} + 0.25 i b_{2} - 0.25 c_{31} - 0.25 i c_{32} & - 0.25 a_{3} - 0.25 b_{3} + 0.25 c_{33} + 0.25\\end{matrix}\\right]$"
      ],
      "text/plain": [
       "⎡      0.25⋅a_{3} + 0.25⋅b_{3} + 0.25⋅c_{33} + 0.25          0.25⋅b_{1} - 0.25\n",
       "⎢                                                                             \n",
       "⎢ 0.25⋅b_{1} + 0.25⋅ⅈ⋅b_{2} + 0.25⋅c_{31} + 0.25⋅ⅈ⋅c_{32}         0.25⋅a_{3} -\n",
       "⎢                                                                             \n",
       "⎢ 0.25⋅a_{1} + 0.25⋅ⅈ⋅a_{2} + 0.25⋅c_{13} + 0.25⋅ⅈ⋅c_{23}   0.25⋅c_{11} - 0.25\n",
       "⎢                                                                             \n",
       "⎣0.25⋅c_{11} + 0.25⋅ⅈ⋅c_{12} + 0.25⋅ⅈ⋅c_{21} - 0.25⋅c_{22}   0.25⋅a_{1} + 0.25\n",
       "\n",
       "⋅ⅈ⋅b_{2} + 0.25⋅c_{31} - 0.25⋅ⅈ⋅c_{32}    0.25⋅a_{1} - 0.25⋅ⅈ⋅a_{2} + 0.25⋅c_{\n",
       "                                                                              \n",
       " 0.25⋅b_{3} - 0.25⋅c_{33} + 0.25         0.25⋅c_{11} + 0.25⋅ⅈ⋅c_{12} - 0.25⋅ⅈ⋅\n",
       "                                                                              \n",
       "⋅ⅈ⋅c_{12} + 0.25⋅ⅈ⋅c_{21} + 0.25⋅c_{22}        -0.25⋅a_{3} + 0.25⋅b_{3} - 0.25\n",
       "                                                                              \n",
       "⋅ⅈ⋅a_{2} - 0.25⋅c_{13} - 0.25⋅ⅈ⋅c_{23}    0.25⋅b_{1} + 0.25⋅ⅈ⋅b_{2} - 0.25⋅c_{\n",
       "\n",
       "13} - 0.25⋅ⅈ⋅c_{23}   0.25⋅c_{11} - 0.25⋅ⅈ⋅c_{12} - 0.25⋅ⅈ⋅c_{21} - 0.25⋅c_{22\n",
       "                                                                              \n",
       "c_{21} + 0.25⋅c_{22}   0.25⋅a_{1} - 0.25⋅ⅈ⋅a_{2} - 0.25⋅c_{13} + 0.25⋅ⅈ⋅c_{23}\n",
       "                                                                              \n",
       "⋅c_{33} + 0.25         0.25⋅b_{1} - 0.25⋅ⅈ⋅b_{2} - 0.25⋅c_{31} + 0.25⋅ⅈ⋅c_{32}\n",
       "                                                                              \n",
       "31} - 0.25⋅ⅈ⋅c_{32}         -0.25⋅a_{3} - 0.25⋅b_{3} + 0.25⋅c_{33} + 0.25     \n",
       "\n",
       "}⎤\n",
       " ⎥\n",
       " ⎥\n",
       " ⎥\n",
       " ⎥\n",
       " ⎥\n",
       " ⎦"
      ]
     },
     "execution_count": 13,
     "metadata": {},
     "output_type": "execute_result"
    }
   ],
   "source": [
    "rho2qb(a1, a2, a3, b1, b2, b3, c11, c12, c13, c21, c22, c23, c31, c32, c33)"
   ]
  },
  {
   "cell_type": "code",
   "execution_count": null,
   "metadata": {},
   "outputs": [],
   "source": [
    "def rho2qb(CM):\n",
    "    return (1/4)*(tp(id(2),id(2)) + CM[0,1]*tp(id(2),pauli(1)) + CM[0,2]*tp(id(2),pauli(2)) + CM[0,3]*tp(Pauli(0),Pauli(3))\n",
    "           + CM[1,0]*tp(Pauli(1),Pauli(0)) + CM[1,1]*tp(Pauli(1),Pauli(1)) + CM[1,2]*tp(Pauli(1),Pauli(2)) + CM[1,3]*tp(Pauli(1),Pauli(3))\n",
    "           + CM[2,0]*tp(Pauli(2),Pauli(0)) + CM[2,1]*tp(Pauli(2),Pauli(1)) + CM[2,2]*tp(Pauli(2),Pauli(2)) + CM[2,3]*tp(Pauli(2),Pauli(3))\n",
    "           + CM[3,0]*tp(Pauli(3),Pauli(0)) + CM[3,1]*tp(Pauli(3),Pauli(1)) + CM[3,2]*tp(Pauli(3),Pauli(2)) + CM[3,3]*tp(Pauli(3),Pauli(3)))"
   ]
  },
  {
   "cell_type": "markdown",
   "metadata": {},
   "source": [
    "### Estado X real"
   ]
  },
  {
   "cell_type": "code",
   "execution_count": 30,
   "metadata": {},
   "outputs": [
    {
     "data": {
      "text/latex": [
       "$\\displaystyle \\left[\\begin{matrix}0.25 a_{3} + 0.25 b_{3} + 0.25 c_{3} + 0.25 & 0 & 0 & 0.25 c_{1} - 0.25 c_{2}\\\\0 & - 0.25 a_{3} + 0.25 b_{3} - 0.25 c_{3} + 0.25 & 0.25 c_{1} + 0.25 c_{2} & 0\\\\0 & 0.25 c_{1} + 0.25 c_{2} & 0.25 a_{3} - 0.25 b_{3} - 0.25 c_{3} + 0.25 & 0\\\\0.25 c_{1} - 0.25 c_{2} & 0 & 0 & - 0.25 a_{3} - 0.25 b_{3} + 0.25 c_{3} + 0.25\\end{matrix}\\right]$"
      ],
      "text/plain": [
       "⎡0.25⋅a₃ + 0.25⋅b₃ + 0.25⋅c_{3} + 0.25                    0                   \n",
       "⎢                                                                             \n",
       "⎢                  0                    -0.25⋅a₃ + 0.25⋅b₃ - 0.25⋅c_{3} + 0.25\n",
       "⎢                                                                             \n",
       "⎢                  0                           0.25⋅c_{1} + 0.25⋅c_{2}        \n",
       "⎢                                                                             \n",
       "⎣       0.25⋅c_{1} - 0.25⋅c_{2}                           0                   \n",
       "\n",
       "                    0                           0.25⋅c_{1} - 0.25⋅c_{2}       \n",
       "                                                                              \n",
       "         0.25⋅c_{1} + 0.25⋅c_{2}                           0                  \n",
       "                                                                              \n",
       "  0.25⋅a₃ - 0.25⋅b₃ - 0.25⋅c_{3} + 0.25                    0                  \n",
       "                                                                              \n",
       "                    0                    -0.25⋅a₃ - 0.25⋅b₃ + 0.25⋅c_{3} + 0.2\n",
       "\n",
       " ⎤\n",
       " ⎥\n",
       " ⎥\n",
       " ⎥\n",
       " ⎥\n",
       " ⎥\n",
       "5⎦"
      ]
     },
     "execution_count": 30,
     "metadata": {},
     "output_type": "execute_result"
    }
   ],
   "source": [
    "def rho_x(c1,c2,c3,a3,b3):\n",
    "    return (1/4)*(tp(id(2),id(2))+c1*tp(pauli(1),pauli(1))+c2*tp(pauli(2),pauli(2))+c3*tp(pauli(3),pauli(3))\n",
    "                  +a3*tp(id(2),pauli(3))+b3*tp(pauli(3),id(2)))\n",
    "c1, c2, c3, a3, b3 = symbols('c_{1} c_{2} c_{3} a_3 b_3', real=True)\n",
    "rhox = rho_x(c1,c2,c3,a3,b3); rhox"
   ]
  },
  {
   "cell_type": "code",
   "execution_count": 27,
   "metadata": {},
   "outputs": [],
   "source": [
    "#rhox.eigenvects()"
   ]
  },
  {
   "cell_type": "markdown",
   "metadata": {},
   "source": [
    "### X simplificado"
   ]
  },
  {
   "cell_type": "code",
   "execution_count": 61,
   "metadata": {},
   "outputs": [
    {
     "data": {
      "text/latex": [
       "$\\displaystyle \\left[\\begin{matrix}0.75 c_{1} + 0.25 & 0 & 0 & 0\\\\0 & 0.25 - 0.25 c_{1} & 0.5 c_{1} & 0\\\\0 & 0.5 c_{1} & 0.25 - 0.25 c_{1} & 0\\\\0 & 0 & 0 & 0.25 - 0.25 c_{1}\\end{matrix}\\right]$"
      ],
      "text/plain": [
       "⎡0.75⋅c_{1} + 0.25          0                  0                  0        ⎤\n",
       "⎢                                                                          ⎥\n",
       "⎢        0          0.25 - 0.25⋅c_{1}      0.5⋅c_{1}              0        ⎥\n",
       "⎢                                                                          ⎥\n",
       "⎢        0              0.5⋅c_{1}      0.25 - 0.25⋅c_{1}          0        ⎥\n",
       "⎢                                                                          ⎥\n",
       "⎣        0                  0                  0          0.25 - 0.25⋅c_{1}⎦"
      ]
     },
     "execution_count": 61,
     "metadata": {},
     "output_type": "execute_result"
    }
   ],
   "source": [
    "def rho_bd_x(c1,c2,c3,a1,b1,a3,b3):\n",
    "    return (1/4)*(tp(id(2),id(2))+c1*tp(pauli(1),pauli(1))+c2*tp(pauli(2),pauli(2))+c3*tp(pauli(3),pauli(3))\n",
    "                  +b1*tp(id(2),pauli(1))+a1*tp(pauli(1),id(2))+b3*tp(id(2),pauli(3))+a3*tp(pauli(3),id(2)))\n",
    "c1, c2, c3, a1, b1, a3, b3 = symbols('c_{1} c_{2} c_{3} a_1 b_1 a_3 b_3', real=True)\n",
    "rho_bd_x = rho_bd_x(c1,c1,c1,0,0,c1,c1); rho_bd_x"
   ]
  },
  {
   "cell_type": "code",
   "execution_count": 62,
   "metadata": {},
   "outputs": [
    {
     "data": {
      "text/latex": [
       "$\\displaystyle \\left[ \\left( 0.25 - 0.75 c_{1}, \\  1, \\  \\left[ \\left[\\begin{matrix}0\\\\-1.0\\\\1.0\\\\0\\end{matrix}\\right]\\right]\\right), \\  \\left( 0.25 - 0.25 c_{1}, \\  1, \\  \\left[ \\left[\\begin{matrix}0\\\\0\\\\0\\\\1.0\\end{matrix}\\right]\\right]\\right), \\  \\left( 0.25 c_{1} + 0.25, \\  1, \\  \\left[ \\left[\\begin{matrix}0\\\\1.0\\\\1.0\\\\0\\end{matrix}\\right]\\right]\\right), \\  \\left( 0.75 c_{1} + 0.25, \\  1, \\  \\left[ \\left[\\begin{matrix}1.0\\\\0\\\\0\\\\0\\end{matrix}\\right]\\right]\\right)\\right]$"
      ],
      "text/plain": [
       "⎡⎛                      ⎡⎡ 0  ⎤⎤⎞  ⎛                      ⎡⎡ 0 ⎤⎤⎞  ⎛         \n",
       "⎢⎜                      ⎢⎢    ⎥⎥⎟  ⎜                      ⎢⎢   ⎥⎥⎟  ⎜         \n",
       "⎢⎜                      ⎢⎢-1.0⎥⎥⎟  ⎜                      ⎢⎢ 0 ⎥⎥⎟  ⎜         \n",
       "⎢⎜0.25 - 0.75⋅c_{1}, 1, ⎢⎢    ⎥⎥⎟, ⎜0.25 - 0.25⋅c_{1}, 1, ⎢⎢   ⎥⎥⎟, ⎜0.25⋅c_{1\n",
       "⎢⎜                      ⎢⎢1.0 ⎥⎥⎟  ⎜                      ⎢⎢ 0 ⎥⎥⎟  ⎜         \n",
       "⎢⎜                      ⎢⎢    ⎥⎥⎟  ⎜                      ⎢⎢   ⎥⎥⎟  ⎜         \n",
       "⎣⎝                      ⎣⎣ 0  ⎦⎦⎠  ⎝                      ⎣⎣1.0⎦⎦⎠  ⎝         \n",
       "\n",
       "             ⎡⎡ 0 ⎤⎤⎞  ⎛                      ⎡⎡1.0⎤⎤⎞⎤\n",
       "             ⎢⎢   ⎥⎥⎟  ⎜                      ⎢⎢   ⎥⎥⎟⎥\n",
       "             ⎢⎢1.0⎥⎥⎟  ⎜                      ⎢⎢ 0 ⎥⎥⎟⎥\n",
       "} + 0.25, 1, ⎢⎢   ⎥⎥⎟, ⎜0.75⋅c_{1} + 0.25, 1, ⎢⎢   ⎥⎥⎟⎥\n",
       "             ⎢⎢1.0⎥⎥⎟  ⎜                      ⎢⎢ 0 ⎥⎥⎟⎥\n",
       "             ⎢⎢   ⎥⎥⎟  ⎜                      ⎢⎢   ⎥⎥⎟⎥\n",
       "             ⎣⎣ 0 ⎦⎦⎠  ⎝                      ⎣⎣ 0 ⎦⎦⎠⎦"
      ]
     },
     "execution_count": 62,
     "metadata": {},
     "output_type": "execute_result"
    }
   ],
   "source": [
    "rho_bd_x.eigenvects()"
   ]
  },
  {
   "cell_type": "markdown",
   "metadata": {},
   "source": [
    "### Bell-diagonal states\n",
    "\\begin{align}\n",
    "\\rho & = \\frac{1}{4}\\left(\\sigma_{0}\\otimes\\sigma_{0} + \\sum_{j=1}^{3}c_{j}\\sigma_{j}\\otimes\\sigma_{j}\\right) \\\\\n",
    "& = \\frac{1}{4}\n",
    "\\begin{bmatrix}\n",
    "1+c_{3} & 0 & 0 & c_{1}-c_{2} \\\\\n",
    "0 & 1-c_{3} & c_{1}+c_{2} & 0 \\\\\n",
    "0 & c_{1}+c_{2} & 1-c_{3} & 0 \\\\\n",
    "c_{1}-c_{2} & 0 & 0 & 1+c_{3}\n",
    "\\end{bmatrix}\n",
    "\\end{align}"
   ]
  },
  {
   "cell_type": "code",
   "execution_count": 23,
   "metadata": {},
   "outputs": [
    {
     "data": {
      "text/latex": [
       "$\\displaystyle \\left[\\begin{matrix}0.25 c_{3} + 0.25 & 0 & 0 & 0.25 c_{1} - 0.25 c_{2}\\\\0 & 0.25 - 0.25 c_{3} & 0.25 c_{1} + 0.25 c_{2} & 0\\\\0 & 0.25 c_{1} + 0.25 c_{2} & 0.25 - 0.25 c_{3} & 0\\\\0.25 c_{1} - 0.25 c_{2} & 0 & 0 & 0.25 c_{3} + 0.25\\end{matrix}\\right]$"
      ],
      "text/plain": [
       "⎡   0.25⋅c_{3} + 0.25                0                        0             0.\n",
       "⎢                                                                             \n",
       "⎢           0                0.25 - 0.25⋅c_{3}     0.25⋅c_{1} + 0.25⋅c_{2}    \n",
       "⎢                                                                             \n",
       "⎢           0             0.25⋅c_{1} + 0.25⋅c_{2}     0.25 - 0.25⋅c_{3}       \n",
       "⎢                                                                             \n",
       "⎣0.25⋅c_{1} - 0.25⋅c_{2}             0                        0               \n",
       "\n",
       "25⋅c_{1} - 0.25⋅c_{2}⎤\n",
       "                     ⎥\n",
       "         0           ⎥\n",
       "                     ⎥\n",
       "         0           ⎥\n",
       "                     ⎥\n",
       " 0.25⋅c_{3} + 0.25   ⎦"
      ]
     },
     "execution_count": 23,
     "metadata": {},
     "output_type": "execute_result"
    }
   ],
   "source": [
    "def bds(c1,c2,c3):\n",
    "    return (1/4)*(tp(id(2),id(2))+c1*tp(pauli(1),pauli(1))+c2*tp(pauli(2),pauli(2))+c3*tp(pauli(3),pauli(3)))\n",
    "c1, c2, c3 = symbols('c_{1} c_{2} c_{3}', real=True)\n",
    "rhobd = bds(c1,c2,c3); rhobd\n",
    "#bds(-1,-1,-1)=psi-,  bds(-1,1,1)=phi-,  bds(1,1,-1)=psi+,  bds(1,-1,1)=phi+"
   ]
  },
  {
   "cell_type": "code",
   "execution_count": 24,
   "metadata": {},
   "outputs": [
    {
     "data": {
      "text/latex": [
       "$\\displaystyle \\left[ \\left( - 0.25 c_{1} - 0.25 c_{2} - 0.25 c_{3} + 0.25, \\  1, \\  \\left[ \\left[\\begin{matrix}0\\\\-1.0\\\\1.0\\\\0\\end{matrix}\\right]\\right]\\right), \\  \\left( - 0.25 c_{1} + 0.25 c_{2} + 0.25 c_{3} + 0.25, \\  1, \\  \\left[ \\left[\\begin{matrix}-1.0\\\\0\\\\0\\\\1.0\\end{matrix}\\right]\\right]\\right), \\  \\left( 0.25 c_{1} - 0.25 c_{2} + 0.25 c_{3} + 0.25, \\  1, \\  \\left[ \\left[\\begin{matrix}1.0\\\\0\\\\0\\\\1.0\\end{matrix}\\right]\\right]\\right), \\  \\left( 0.25 c_{1} + 0.25 c_{2} - 0.25 c_{3} + 0.25, \\  1, \\  \\left[ \\left[\\begin{matrix}0\\\\1.0\\\\1.0\\\\0\\end{matrix}\\right]\\right]\\right)\\right]$"
      ],
      "text/plain": [
       "⎡⎛                                                 ⎡⎡ 0  ⎤⎤⎞  ⎛               \n",
       "⎢⎜                                                 ⎢⎢    ⎥⎥⎟  ⎜               \n",
       "⎢⎜                                                 ⎢⎢-1.0⎥⎥⎟  ⎜               \n",
       "⎢⎜-0.25⋅c_{1} - 0.25⋅c_{2} - 0.25⋅c_{3} + 0.25, 1, ⎢⎢    ⎥⎥⎟, ⎜-0.25⋅c_{1} + 0\n",
       "⎢⎜                                                 ⎢⎢1.0 ⎥⎥⎟  ⎜               \n",
       "⎢⎜                                                 ⎢⎢    ⎥⎥⎟  ⎜               \n",
       "⎣⎝                                                 ⎣⎣ 0  ⎦⎦⎠  ⎝               \n",
       "\n",
       "                                  ⎡⎡-1.0⎤⎤⎞  ⎛                                \n",
       "                                  ⎢⎢    ⎥⎥⎟  ⎜                                \n",
       "                                  ⎢⎢ 0  ⎥⎥⎟  ⎜                                \n",
       ".25⋅c_{2} + 0.25⋅c_{3} + 0.25, 1, ⎢⎢    ⎥⎥⎟, ⎜0.25⋅c_{1} - 0.25⋅c_{2} + 0.25⋅c\n",
       "                                  ⎢⎢ 0  ⎥⎥⎟  ⎜                                \n",
       "                                  ⎢⎢    ⎥⎥⎟  ⎜                                \n",
       "                                  ⎣⎣1.0 ⎦⎦⎠  ⎝                                \n",
       "\n",
       "                ⎡⎡1.0⎤⎤⎞  ⎛                                                ⎡⎡ \n",
       "                ⎢⎢   ⎥⎥⎟  ⎜                                                ⎢⎢ \n",
       "                ⎢⎢ 0 ⎥⎥⎟  ⎜                                                ⎢⎢1\n",
       "_{3} + 0.25, 1, ⎢⎢   ⎥⎥⎟, ⎜0.25⋅c_{1} + 0.25⋅c_{2} - 0.25⋅c_{3} + 0.25, 1, ⎢⎢ \n",
       "                ⎢⎢ 0 ⎥⎥⎟  ⎜                                                ⎢⎢1\n",
       "                ⎢⎢   ⎥⎥⎟  ⎜                                                ⎢⎢ \n",
       "                ⎣⎣1.0⎦⎦⎠  ⎝                                                ⎣⎣ \n",
       "\n",
       "0 ⎤⎤⎞⎤\n",
       "  ⎥⎥⎟⎥\n",
       ".0⎥⎥⎟⎥\n",
       "  ⎥⎥⎟⎥\n",
       ".0⎥⎥⎟⎥\n",
       "  ⎥⎥⎟⎥\n",
       "0 ⎦⎦⎠⎦"
      ]
     },
     "execution_count": 24,
     "metadata": {},
     "output_type": "execute_result"
    }
   ],
   "source": [
    "rhobd.eigenvects()"
   ]
  },
  {
   "cell_type": "markdown",
   "metadata": {},
   "source": [
    "### Werner state\n",
    "\\begin{equation}\n",
    "\\rho_{w} = (1-w)\\frac{\\mathbb{I}_{4}}{4} + w|\\Psi_{-}\\rangle\\langle\\Psi_{-}|\n",
    "\\end{equation}"
   ]
  },
  {
   "cell_type": "code",
   "execution_count": 17,
   "metadata": {},
   "outputs": [],
   "source": [
    "def proj(psi): \n",
    "    '''retorna o projeto no vetor psi'''\n",
    "    d = psi.shape[0]\n",
    "    P = zeros(d,d)\n",
    "    for j in range(0,d):\n",
    "        for k in range(0,d):\n",
    "            P[j,k] = psi[j]*conjugate(psi[k])\n",
    "    return P"
   ]
  },
  {
   "cell_type": "code",
   "execution_count": 19,
   "metadata": {},
   "outputs": [],
   "source": [
    "def bell(j,k):\n",
    "    if j == 0 and k == 0:\n",
    "        return (1/sqrt(2))*(tp(cb(2,0),cb(2,0))+tp(cb(2,1),cb(2,1)))\n",
    "    elif j == 0 and k == 1:\n",
    "        return (1/sqrt(2))*(tp(cb(2,0),cb(2,1))+tp(cb(2,1),cb(2,0)))\n",
    "    elif j == 1 and k == 0:\n",
    "        return (1/sqrt(2))*(tp(cb(2,0),cb(2,1))-tp(cb(2,1),cb(2,0)))\n",
    "    elif j == 1 and k == 1:\n",
    "        return (1/sqrt(2))*(tp(cb(2,0),cb(2,0))-tp(cb(2,1),cb(2,1)))"
   ]
  },
  {
   "cell_type": "code",
   "execution_count": 21,
   "metadata": {},
   "outputs": [
    {
     "data": {
      "text/latex": [
       "$\\displaystyle \\left[\\begin{matrix}\\frac{1}{4} - \\frac{w}{4} & 0 & 0 & 0\\\\0 & \\frac{w}{4} + \\frac{1}{4} & - \\frac{w}{2} & 0\\\\0 & - \\frac{w}{2} & \\frac{w}{4} + \\frac{1}{4} & 0\\\\0 & 0 & 0 & \\frac{1}{4} - \\frac{w}{4}\\end{matrix}\\right]$"
      ],
      "text/plain": [
       "⎡1   w                     ⎤\n",
       "⎢─ - ─    0      0      0  ⎥\n",
       "⎢4   4                     ⎥\n",
       "⎢                          ⎥\n",
       "⎢       w   1   -w         ⎥\n",
       "⎢  0    ─ + ─   ───     0  ⎥\n",
       "⎢       4   4    2         ⎥\n",
       "⎢                          ⎥\n",
       "⎢        -w    w   1       ⎥\n",
       "⎢  0     ───   ─ + ─    0  ⎥\n",
       "⎢         2    4   4       ⎥\n",
       "⎢                          ⎥\n",
       "⎢                     1   w⎥\n",
       "⎢  0      0      0    ─ - ─⎥\n",
       "⎣                     4   4⎦"
      ]
     },
     "execution_count": 21,
     "metadata": {},
     "output_type": "execute_result"
    }
   ],
   "source": [
    "def werner(w):\n",
    "    return (((1-w)/4)*id(4) + w*proj(bell(1,0)))\n",
    "w = symbols('w', real=True, positive=True)\n",
    "#bds(-w,-w,-w)-werner(w)\n",
    "werner(w)"
   ]
  },
  {
   "cell_type": "code",
   "execution_count": null,
   "metadata": {},
   "outputs": [],
   "source": []
  }
 ],
 "metadata": {
  "kernelspec": {
   "display_name": "Python 3 (ipykernel)",
   "language": "python",
   "name": "python3"
  },
  "language_info": {
   "codemirror_mode": {
    "name": "ipython",
    "version": 3
   },
   "file_extension": ".py",
   "mimetype": "text/x-python",
   "name": "python",
   "nbconvert_exporter": "python",
   "pygments_lexer": "ipython3",
   "version": "3.9.13"
  }
 },
 "nbformat": 4,
 "nbformat_minor": 2
}
