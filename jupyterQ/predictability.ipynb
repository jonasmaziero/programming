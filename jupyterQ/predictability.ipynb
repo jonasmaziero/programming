{
 "cells": [
  {
   "cell_type": "code",
   "execution_count": 4,
   "id": "b39fb1ee",
   "metadata": {},
   "outputs": [],
   "source": [
    "%run init.ipynb\n",
    "%run states.ipynb"
   ]
  },
  {
   "cell_type": "markdown",
   "id": "5a8ec273",
   "metadata": {},
   "source": [
    "## $l_{1}$-norm predictability\n",
    "\\begin{equation}\n",
    "P_{l_{1}}(\\rho_{A}) = d-1-\\sum_{j\\ne k}\\sqrt{\\rho^{A}_{j,j}\\rho^{A}_{k,k}}= d-1-2\\sum_{j<k}\\sqrt{\\rho^{A}_{j,j}\\rho_{k,k}}\n",
    "\\end{equation}"
   ]
  },
  {
   "cell_type": "code",
   "execution_count": 5,
   "id": "1c9e947e",
   "metadata": {},
   "outputs": [],
   "source": [
    "def predict_l1(rho):\n",
    "    d=rho.shape[0]; P = 0\n",
    "    for j in range(0,d-1):\n",
    "        for k in range(j+1,d):\n",
    "            P += sqrt(rho[j,j]*rho[k,k])\n",
    "    return d-1-2*P"
   ]
  },
  {
   "cell_type": "code",
   "execution_count": 7,
   "id": "78e045e4",
   "metadata": {},
   "outputs": [],
   "source": [
    "#r1,r2,r3 = symbols('r_{1} r_{2} r_{3}'); simplify(predict_l1(rho1qb(r1,r2,r3)))"
   ]
  },
  {
   "cell_type": "markdown",
   "id": "88b14ff7",
   "metadata": {},
   "source": [
    "## Hilbert-Schmidt-linear predictability\n",
    "\\begin{equation}\n",
    "P_{hs}(\\rho) = \\sum_{j}(\\rho_{j,j})^{2}-1/d_{A}\n",
    "\\end{equation}"
   ]
  },
  {
   "cell_type": "code",
   "execution_count": 8,
   "id": "c17ad91f",
   "metadata": {},
   "outputs": [],
   "source": [
    "def predict_hs(rho):\n",
    "    d=rho.shape[0]; P = 0\n",
    "    for j in range(0,d):\n",
    "        P += abs(rho[j,j])**2\n",
    "    return P-1/d"
   ]
  },
  {
   "cell_type": "code",
   "execution_count": 10,
   "id": "82d09c81",
   "metadata": {},
   "outputs": [],
   "source": [
    "#r1,r2,r3 = symbols('r_{1} r_{2} r_{3}'); simplify(predict_hs(rho1qb(r1,r2,r3)))"
   ]
  },
  {
   "cell_type": "markdown",
   "id": "4bfd1882",
   "metadata": {},
   "source": [
    "## Wigner-Yanase predictability\n",
    "It is the same as $P_{hs}$."
   ]
  },
  {
   "cell_type": "markdown",
   "id": "fbea1ff9",
   "metadata": {},
   "source": [
    "## von Neumann predictability\n",
    "\\begin{equation}\n",
    "P_{vn}(\\rho) = \\log_{2}(d)+\\sum_{j=1}^{d}\\rho_{jj}\\log_{2}(\\rho_{jj}) = \\log_{2}(d) - S_{vn}(\\rho_{diag})\n",
    "\\end{equation}\n",
    "is complementar to relative entropy coherence."
   ]
  },
  {
   "cell_type": "code",
   "execution_count": 17,
   "id": "8495425a",
   "metadata": {},
   "outputs": [],
   "source": [
    "def predict_vn(rho):\n",
    "    d = rho.shape[0]; P = 0\n",
    "    for j in range(0,d):\n",
    "        if rho[j,j] > 10**-15 and rho[j,j] < (1.0-10**-15):\n",
    "            P += np.absolute(rho[j,j])*math.log2(np.absolute(rho[j,j])) # for numerics\n",
    "            #P += rho[j,j].real*log(rho[j,j].real,2) # is not working\n",
    "    return log(d,2) + P"
   ]
  },
  {
   "cell_type": "code",
   "execution_count": 23,
   "id": "99da6c9a",
   "metadata": {},
   "outputs": [],
   "source": [
    "#predict_vn(rho1qb(0,1,0)) # ok!"
   ]
  },
  {
   "cell_type": "code",
   "execution_count": null,
   "id": "662fafc9",
   "metadata": {},
   "outputs": [],
   "source": []
  }
 ],
 "metadata": {
  "kernelspec": {
   "display_name": "Python 3 (ipykernel)",
   "language": "python",
   "name": "python3"
  },
  "language_info": {
   "codemirror_mode": {
    "name": "ipython",
    "version": 3
   },
   "file_extension": ".py",
   "mimetype": "text/x-python",
   "name": "python",
   "nbconvert_exporter": "python",
   "pygments_lexer": "ipython3",
   "version": "3.8.8"
  }
 },
 "nbformat": 4,
 "nbformat_minor": 5
}
