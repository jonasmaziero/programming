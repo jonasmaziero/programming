{
 "cells": [
  {
   "cell_type": "code",
   "execution_count": 2,
   "metadata": {},
   "outputs": [],
   "source": [
    "%run jupyterQ.ipynb\n",
    "%run states.ipynb"
   ]
  },
  {
   "cell_type": "markdown",
   "metadata": {},
   "source": [
    "## Bell-diagonal states"
   ]
  },
  {
   "cell_type": "code",
   "execution_count": 4,
   "metadata": {},
   "outputs": [
    {
     "data": {
      "text/latex": [
       "$\\displaystyle \\left( \\left[\\begin{matrix}0.25 c_{3} + 0.25 & 0 & 0 & 0.25 c_{1} - 0.25 c_{2}\\\\0 & 0.25 - 0.25 c_{3} & 0.25 c_{1} + 0.25 c_{2} & 0\\\\0 & 0.25 c_{1} + 0.25 c_{2} & 0.25 - 0.25 c_{3} & 0\\\\0.25 c_{1} - 0.25 c_{2} & 0 & 0 & 0.25 c_{3} + 0.25\\end{matrix}\\right], \\  \\left[\\begin{matrix}0.5 & 0 & 0 & 0\\\\0 & 0 & 0.5 & 0\\\\0 & 0.5 & 0 & 0\\\\0 & 0 & 0 & 0.5\\end{matrix}\\right], \\  \\left[\\begin{matrix}0 & 0 & 0 & 0\\\\0 & 0.5 & -0.5 & 0\\\\0 & -0.5 & 0.5 & 0\\\\0 & 0 & 0 & 0\\end{matrix}\\right]\\right)$"
      ],
      "text/plain": [
       "⎛⎡   0.25⋅c_{3} + 0.25                0                        0             0\n",
       "⎜⎢                                                                            \n",
       "⎜⎢           0                0.25 - 0.25⋅c_{3}     0.25⋅c_{1} + 0.25⋅c_{2}   \n",
       "⎜⎢                                                                            \n",
       "⎜⎢           0             0.25⋅c_{1} + 0.25⋅c_{2}     0.25 - 0.25⋅c_{3}      \n",
       "⎜⎢                                                                            \n",
       "⎝⎣0.25⋅c_{1} - 0.25⋅c_{2}             0                        0              \n",
       "\n",
       ".25⋅c_{1} - 0.25⋅c_{2}⎤  ⎡0.5   0    0    0 ⎤  ⎡0   0     0    0⎤⎞\n",
       "                      ⎥  ⎢                  ⎥  ⎢                ⎥⎟\n",
       "          0           ⎥  ⎢ 0    0   0.5   0 ⎥  ⎢0  0.5   -0.5  0⎥⎟\n",
       "                      ⎥, ⎢                  ⎥, ⎢                ⎥⎟\n",
       "          0           ⎥  ⎢ 0   0.5   0    0 ⎥  ⎢0  -0.5  0.5   0⎥⎟\n",
       "                      ⎥  ⎢                  ⎥  ⎢                ⎥⎟\n",
       "  0.25⋅c_{3} + 0.25   ⎦  ⎣ 0    0    0   0.5⎦  ⎣0   0     0    0⎦⎠"
      ]
     },
     "execution_count": 4,
     "metadata": {},
     "output_type": "execute_result"
    }
   ],
   "source": [
    "c1,c2,c3=symbols(\"c_{1} c_{2} c_{3}\"); bds(c1,c2,c3), bds(1,1,1), bds(-1,-1,-1)"
   ]
  },
  {
   "cell_type": "markdown",
   "metadata": {},
   "source": [
    "# Entanglement distribution with discord\n",
    "Two parties, Alice and Bob, want to share pairs of entangled quantons. We can separate the protocols they can use to do that in two main categories: direct communication and indirect communication."
   ]
  },
  {
   "cell_type": "markdown",
   "metadata": {},
   "source": [
    "## Direct entanglement communication\n",
    "In this case, Alice prepares two quantons A and B in an (maximally) entangled state $|\\psi\\rangle_{AB}$ and sends the quanton B to Bob. This quanton suffers the influence of the noisy communication channel $\\Lambda.$ At the end of the protocol, they will have shared a quantum state $$\\rho_{AB}=id_{A}\\otimes\\Lambda_{B}(|\\psi\\rangle_{AB}\\langle\\psi|).$$"
   ]
  },
  {
   "cell_type": "markdown",
   "metadata": {},
   "source": [
    "### Phase damping channel (PDC)\n",
    "Kraus operators\n",
    "\\begin{equation}\n",
    "K_{0} = K_{0}^{\\dagger} = \\begin{bmatrix}0&0\\\\0&\\sqrt{p}\\end{bmatrix}\\text{, } K_{1} =  K_{1}^{\\dagger} = \\begin{bmatrix}1&0\\\\0&\\sqrt{1-p}\\end{bmatrix},\n",
    "\\end{equation}\n",
    "where $p\\in[0,1]$ is the probability for the phase error to occur.\n",
    "\n",
    "For $\\Lambda_{B}$ being the PDC, we shall have\n",
    "\\begin{align}\n",
    "\\rho_{AB} = id_{A}\\otimes\\Lambda_{B}(|\\psi\\rangle_{AB}\\langle\\psi|) = \\sum_{j}\\mathbb{I}_{A}\\otimes K_{j}|\\psi\\rangle_{AB}\\langle\\psi|\\mathbb{I}_{A}\\otimes K_{j}^{\\dagger}\n",
    "\\end{align}"
   ]
  },
  {
   "cell_type": "markdown",
   "metadata": {},
   "source": [
    "## Indirect entanglement communication\n",
    "In this kind of protocol, Alice prepares two quantons A and C in a quantum state $\\rho_{AC}$, via an encoding quantum operation. Alice sends the quanton C to Bob, who applies a decoding quantum operation $\\Delta$. At the end of the protocol, after discarding C, Alice and Bob share the state $$\\rho_{AB}=Tr_{C}\\big(id_{A}\\otimes\\Delta_{CB}(id_{A}\\otimes\\Lambda_{C}\\otimes id_{B}(\\rho_{AC}\\otimes\\rho_{B}))\\big).$$"
   ]
  },
  {
   "cell_type": "code",
   "execution_count": 32,
   "metadata": {},
   "outputs": [
    {
     "data": {
      "text/latex": [
       "$\\displaystyle \\left[\\begin{matrix}0.25 c_{3} + 0.25 & 0 & 0 & 0.25 \\sqrt{1 - p} \\left(c_{1} - c_{2}\\right)\\\\0 & 0.25 - 0.25 c_{3} & 0.25 \\sqrt{1 - p} \\left(c_{1} + c_{2}\\right) & 0\\\\0 & 0.25 \\sqrt{1 - p} \\left(c_{1} + c_{2}\\right) & 0.25 - 0.25 c_{3} & 0\\\\0.25 \\sqrt{1 - p} \\left(c_{1} - c_{2}\\right) & 0 & 0 & 0.25 c_{3} + 0.25\\end{matrix}\\right]$"
      ],
      "text/plain": [
       "⎡                                                                             \n",
       "⎢      0.25⋅c_{3} + 0.25                       0                              \n",
       "⎢                                                                             \n",
       "⎢                                                                       ______\n",
       "⎢              0                       0.25 - 0.25⋅c_{3}         0.25⋅╲╱ 1 - p\n",
       "⎢                                                                             \n",
       "⎢                                       _______                               \n",
       "⎢              0                 0.25⋅╲╱ 1 - p ⋅(c_{1} + c_{2})        0.25 - \n",
       "⎢                                                                             \n",
       "⎢       _______                                                               \n",
       "⎣0.25⋅╲╱ 1 - p ⋅(c_{1} - c_{2})                0                              \n",
       "\n",
       "                          _______                ⎤\n",
       " 0                 0.25⋅╲╱ 1 - p ⋅(c_{1} - c_{2})⎥\n",
       "                                                 ⎥\n",
       "_                                                ⎥\n",
       " ⋅(c_{1} + c_{2})                0               ⎥\n",
       "                                                 ⎥\n",
       "                                                 ⎥\n",
       "0.25⋅c_{3}                       0               ⎥\n",
       "                                                 ⎥\n",
       "                                                 ⎥\n",
       " 0                       0.25⋅c_{3} + 0.25       ⎦"
      ]
     },
     "execution_count": 32,
     "metadata": {},
     "output_type": "execute_result"
    }
   ],
   "source": [
    "K0 = Matrix([[0,0],[0,sqrt(p)]]); K1 = Matrix([[1,0],[0,sqrt(1-p)]])\n",
    "#tp(id(2),K0), tp(id(2),K1)\n",
    "def rhoPD(p):\n",
    "    return tp(id(2),K0)*bds(c1,c2,c3)*tp(id(2),K0) + tp(id(2),K1)*bds(c1,c2,c3)*tp(id(2),K1)\n",
    "simplify(rhoPD(p))"
   ]
  },
  {
   "cell_type": "code",
   "execution_count": 4,
   "metadata": {},
   "outputs": [
    {
     "data": {
      "text/plain": [
       "1110.0"
      ]
     },
     "execution_count": 4,
     "metadata": {},
     "output_type": "execute_result"
    }
   ],
   "source": [
    "((4+12+12+9)*4.5*20)/3"
   ]
  },
  {
   "cell_type": "code",
   "execution_count": null,
   "metadata": {},
   "outputs": [],
   "source": []
  }
 ],
 "metadata": {
  "kernelspec": {
   "display_name": "Python 3",
   "language": "python",
   "name": "python3"
  },
  "language_info": {
   "codemirror_mode": {
    "name": "ipython",
    "version": 3
   },
   "file_extension": ".py",
   "mimetype": "text/x-python",
   "name": "python",
   "nbconvert_exporter": "python",
   "pygments_lexer": "ipython3",
   "version": "3.8.11"
  }
 },
 "nbformat": 4,
 "nbformat_minor": 4
}
