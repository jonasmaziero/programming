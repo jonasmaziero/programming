{
 "cells": [
  {
   "cell_type": "code",
   "execution_count": null,
   "id": "2b921bed",
   "metadata": {},
   "outputs": [],
   "source": [
    "%run init.ipynb"
   ]
  },
  {
   "cell_type": "code",
   "execution_count": null,
   "id": "de9154ac",
   "metadata": {},
   "outputs": [],
   "source": [
    "from sympy import*\n",
    "from sympy import oo\n",
    "import sympy as sym\n",
    "sympy.init_printing()\n",
    "import sympy.printing as printing\n",
    "import rewrite"
   ]
  },
  {
   "cell_type": "markdown",
   "id": "889489ec",
   "metadata": {},
   "source": [
    "# Escrevendo simbolicamente"
   ]
  },
  {
   "cell_type": "code",
   "execution_count": 99,
   "id": "037f16e7",
   "metadata": {},
   "outputs": [],
   "source": [
    "x = sympy.Symbol('x')"
   ]
  },
  {
   "cell_type": "code",
   "execution_count": 100,
   "id": "d2ce1fe3",
   "metadata": {},
   "outputs": [],
   "source": [
    "y, z0 = sympy.symbols(('y', 'z_0'))"
   ]
  },
  {
   "cell_type": "code",
   "execution_count": 101,
   "id": "a73b6eea",
   "metadata": {},
   "outputs": [
    {
     "name": "stdout",
     "output_type": "stream",
     "text": [
      "a=x + y. b=y*z_0.\n"
     ]
    }
   ],
   "source": [
    "a = x + y\n",
    "b = y * z0\n",
    "print(\"a={}. b={}.\".format(a, b))"
   ]
  },
  {
   "cell_type": "code",
   "execution_count": 102,
   "id": "c79e416a",
   "metadata": {},
   "outputs": [
    {
     "data": {
      "image/png": "[encoded data removed]",
      "text/latex": [
       "$\\displaystyle x + y$"
      ],
      "text/plain": [
       "x + y"
      ]
     },
     "execution_count": 102,
     "metadata": {},
     "output_type": "execute_result"
    }
   ],
   "source": [
    "a"
   ]
  },
  {
   "cell_type": "code",
   "execution_count": 103,
   "id": "2b343d53",
   "metadata": {},
   "outputs": [
    {
     "data": {
      "image/png": "[encoded data removed]",
      "text/latex": [
       "$\\displaystyle y z_{0}$"
      ],
      "text/plain": [
       "y⋅z₀"
      ]
     },
     "execution_count": 103,
     "metadata": {},
     "output_type": "execute_result"
    }
   ],
   "source": [
    "b"
   ]
  },
  {
   "cell_type": "code",
   "execution_count": 104,
   "id": "74427a45",
   "metadata": {},
   "outputs": [],
   "source": [
    "c = sympy.sin(x)**2 + sympy.cos(x)**2"
   ]
  },
  {
   "cell_type": "code",
   "execution_count": 105,
   "id": "495445dc",
   "metadata": {},
   "outputs": [
    {
     "data": {
      "image/png": "[encoded data removed]",
      "text/latex": [
       "$\\displaystyle \\sin^{2}{\\left(x \\right)} + \\cos^{2}{\\left(x \\right)}$"
      ],
      "text/plain": [
       "   2         2   \n",
       "sin (x) + cos (x)"
      ]
     },
     "execution_count": 105,
     "metadata": {},
     "output_type": "execute_result"
    }
   ],
   "source": [
    "c"
   ]
  },
  {
   "cell_type": "code",
   "execution_count": 106,
   "id": "c1cd2dab",
   "metadata": {},
   "outputs": [
    {
     "data": {
      "image/png": "[encoded data removed]",
      "text/latex": [
       "$\\displaystyle 1$"
      ],
      "text/plain": [
       "1"
      ]
     },
     "execution_count": 106,
     "metadata": {},
     "output_type": "execute_result"
    }
   ],
   "source": [
    "c.simplify()"
   ]
  },
  {
   "cell_type": "markdown",
   "id": "c6625871",
   "metadata": {},
   "source": [
    "# Convertendo exponencial imaginária para funções trigonométricas"
   ]
  },
  {
   "cell_type": "code",
   "execution_count": 107,
   "id": "799e999c",
   "metadata": {},
   "outputs": [
    {
     "data": {
      "image/png": "[encoded data removed]",
      "text/latex": [
       "$\\displaystyle \\phi$"
      ],
      "text/plain": [
       "φ"
      ]
     },
     "execution_count": 107,
     "metadata": {},
     "output_type": "execute_result"
    }
   ],
   "source": [
    "phi = sympy.symbols('phi', real = True)\n",
    "phi"
   ]
  },
  {
   "cell_type": "code",
   "execution_count": 108,
   "id": "f2a87495",
   "metadata": {},
   "outputs": [
    {
     "data": {
      "text/plain": [
       "True"
      ]
     },
     "execution_count": 108,
     "metadata": {},
     "output_type": "execute_result"
    }
   ],
   "source": [
    "phi.is_real"
   ]
  },
  {
   "cell_type": "code",
   "execution_count": 109,
   "id": "94a9d4ef",
   "metadata": {},
   "outputs": [],
   "source": [
    "eip = sympy.exp(1j*phi)"
   ]
  },
  {
   "cell_type": "code",
   "execution_count": 110,
   "id": "9d0125ea",
   "metadata": {},
   "outputs": [
    {
     "data": {
      "image/png": "[encoded data removed]",
      "text/latex": [
       "$\\displaystyle e^{1.0 i \\phi}$"
      ],
      "text/plain": [
       " 1.0⋅ⅈ⋅φ\n",
       "ℯ       "
      ]
     },
     "execution_count": 110,
     "metadata": {},
     "output_type": "execute_result"
    }
   ],
   "source": [
    "eip"
   ]
  },
  {
   "cell_type": "code",
   "execution_count": 111,
   "id": "60205140",
   "metadata": {},
   "outputs": [],
   "source": [
    "x = eip.rewrite(cos)"
   ]
  },
  {
   "cell_type": "code",
   "execution_count": 112,
   "id": "132354d2",
   "metadata": {},
   "outputs": [
    {
     "data": {
      "image/png": "[encoded data removed]",
      "text/latex": [
       "$\\displaystyle i \\sin{\\left(1.0 \\phi \\right)} + \\cos{\\left(1.0 \\phi \\right)}$"
      ],
      "text/plain": [
       "ⅈ⋅sin(1.0⋅φ) + cos(1.0⋅φ)"
      ]
     },
     "execution_count": 112,
     "metadata": {},
     "output_type": "execute_result"
    }
   ],
   "source": [
    "x"
   ]
  },
  {
   "cell_type": "code",
   "execution_count": 113,
   "id": "5711e270",
   "metadata": {},
   "outputs": [
    {
     "data": {
      "image/png": "[encoded data removed]",
      "text/latex": [
       "$\\displaystyle \\cos{\\left(1.0 \\phi \\right)}$"
      ],
      "text/plain": [
       "cos(1.0⋅φ)"
      ]
     },
     "execution_count": 113,
     "metadata": {},
     "output_type": "execute_result"
    }
   ],
   "source": [
    "re(x).simplify()"
   ]
  },
  {
   "cell_type": "code",
   "execution_count": 114,
   "id": "fbff748d",
   "metadata": {},
   "outputs": [
    {
     "data": {
      "image/png": "[encoded data removed]",
      "text/latex": [
       "$\\displaystyle \\sin{\\left(1.0 \\phi \\right)}$"
      ],
      "text/plain": [
       "sin(1.0⋅φ)"
      ]
     },
     "execution_count": 114,
     "metadata": {},
     "output_type": "execute_result"
    }
   ],
   "source": [
    "im(x).simplify()"
   ]
  },
  {
   "cell_type": "markdown",
   "id": "333f4d29",
   "metadata": {},
   "source": [
    "# Integração"
   ]
  },
  {
   "cell_type": "code",
   "execution_count": 250,
   "id": "7e515cfd",
   "metadata": {},
   "outputs": [
    {
     "data": {
      "image/png": "[encoded data removed]",
      "text/latex": [
       "$\\displaystyle \\left( a, \\  n\\right)$"
      ],
      "text/plain": [
       "(a, n)"
      ]
     },
     "execution_count": 250,
     "metadata": {},
     "output_type": "execute_result"
    }
   ],
   "source": [
    "a = sympy.symbols('a', real = True)\n",
    "n = sympy.symbols('n', real = True, positive = True, integer = True)\n",
    "a, n"
   ]
  },
  {
   "cell_type": "code",
   "execution_count": 251,
   "id": "63710f36",
   "metadata": {},
   "outputs": [
    {
     "data": {
      "image/png": "[encoded data removed]",
      "text/latex": [
       "$\\displaystyle \\infty$"
      ],
      "text/plain": [
       "∞"
      ]
     },
     "execution_count": 251,
     "metadata": {},
     "output_type": "execute_result"
    }
   ],
   "source": [
    "sympy.oo + 1"
   ]
  },
  {
   "cell_type": "code",
   "execution_count": 259,
   "id": "da9f9b25",
   "metadata": {},
   "outputs": [],
   "source": [
    "x = symbols('x')"
   ]
  },
  {
   "cell_type": "code",
   "execution_count": 260,
   "id": "f65f12c0",
   "metadata": {},
   "outputs": [
    {
     "data": {
      "image/png": "[encoded data removed]",
      "text/latex": [
       "$\\displaystyle \\log{\\left(x + 1 \\right)} + \\frac{1}{x + 1}$"
      ],
      "text/plain": [
       "               1  \n",
       "log(x + 1) + ─────\n",
       "             x + 1"
      ]
     },
     "execution_count": 260,
     "metadata": {},
     "output_type": "execute_result"
    }
   ],
   "source": [
    "integrate(x/(x**2+2*x+1), x)"
   ]
  },
  {
   "cell_type": "code",
   "execution_count": 261,
   "id": "b133b395",
   "metadata": {},
   "outputs": [
    {
     "data": {
      "image/png": "[encoded data removed]",
      "text/latex": [
       "$\\displaystyle \\begin{cases} \\frac{\\sqrt{\\pi}}{\\sqrt{a}} & \\text{for}\\: \\left|{\\arg{\\left(a \\right)}}\\right| \\leq \\frac{\\pi}{2} \\\\\\int\\limits_{-\\infty}^{\\infty} e^{- a x^{2}}\\, dx & \\text{otherwise} \\end{cases}$"
      ],
      "text/plain": [
       "⎧     √π                      π\n",
       "⎪     ──       for │arg(a)│ ≤ ─\n",
       "⎪     √a                      2\n",
       "⎪                              \n",
       "⎪∞                             \n",
       "⎨⌠                             \n",
       "⎪⎮       2                     \n",
       "⎪⎮   -a⋅x                      \n",
       "⎪⎮  ℯ      dx     otherwise    \n",
       "⎪⌡                             \n",
       "⎩-∞                            "
      ]
     },
     "execution_count": 261,
     "metadata": {},
     "output_type": "execute_result"
    }
   ],
   "source": [
    "sympy.integrate(sympy.exp(-a*x**2), (x, -sympy.oo, sympy.oo))"
   ]
  },
  {
   "cell_type": "markdown",
   "id": "53263499",
   "metadata": {},
   "source": [
    "### Trocando variáveis por outros valores"
   ]
  },
  {
   "cell_type": "code",
   "execution_count": 15,
   "id": "dc6b9791",
   "metadata": {},
   "outputs": [
    {
     "data": {
      "image/png": "[encoded data removed]",
      "text/latex": [
       "$\\displaystyle x^{2} + 1$"
      ],
      "text/plain": [
       " 2    \n",
       "x  + 1"
      ]
     },
     "execution_count": 15,
     "metadata": {},
     "output_type": "execute_result"
    }
   ],
   "source": [
    "x, y = symbols('x y')\n",
    "exp = x**2 + 1\n",
    "exp"
   ]
  },
  {
   "cell_type": "code",
   "execution_count": 16,
   "id": "b7b34d19",
   "metadata": {},
   "outputs": [
    {
     "data": {
      "image/png": "[encoded data removed]",
      "text/latex": [
       "$\\displaystyle y^{2} + 1$"
      ],
      "text/plain": [
       " 2    \n",
       "y  + 1"
      ]
     },
     "execution_count": 16,
     "metadata": {},
     "output_type": "execute_result"
    }
   ],
   "source": [
    "# Use sympy.subs() method\n",
    "res_exp = exp.subs(x, y) \n",
    "res_exp"
   ]
  },
  {
   "cell_type": "code",
   "execution_count": 19,
   "id": "de318590",
   "metadata": {},
   "outputs": [
    {
     "data": {
      "image/png": "[encoded data removed]",
      "text/latex": [
       "$\\displaystyle x^{2} + 1$"
      ],
      "text/plain": [
       " 2    \n",
       "x  + 1"
      ]
     },
     "execution_count": 19,
     "metadata": {},
     "output_type": "execute_result"
    }
   ],
   "source": [
    "exp = x**2 + 1\n",
    "exp"
   ]
  },
  {
   "cell_type": "code",
   "execution_count": 20,
   "id": "6a4e62d6",
   "metadata": {},
   "outputs": [
    {
     "data": {
      "image/png": "[encoded data removed]",
      "text/latex": [
       "$\\displaystyle 5$"
      ],
      "text/plain": [
       "5"
      ]
     },
     "execution_count": 20,
     "metadata": {},
     "output_type": "execute_result"
    }
   ],
   "source": [
    "exp_value = exp.subs(x, 2)\n",
    "exp_value"
   ]
  },
  {
   "cell_type": "code",
   "execution_count": 1,
   "id": "40eeec2b",
   "metadata": {},
   "outputs": [
    {
     "ename": "NameError",
     "evalue": "name 'sympy' is not defined",
     "output_type": "error",
     "traceback": [
      "\u001b[1;31m---------------------------------------------------------------------------\u001b[0m",
      "\u001b[1;31mNameError\u001b[0m                                 Traceback (most recent call last)",
      "\u001b[1;32m<ipython-input-1-2691d1b68757>\u001b[0m in \u001b[0;36m<module>\u001b[1;34m\u001b[0m\n\u001b[1;32m----> 1\u001b[1;33m \u001b[0mT_H\u001b[0m\u001b[1;33m,\u001b[0m \u001b[0mT_V\u001b[0m\u001b[1;33m,\u001b[0m \u001b[0mR_H\u001b[0m\u001b[1;33m,\u001b[0m \u001b[0mR_V\u001b[0m \u001b[1;33m=\u001b[0m \u001b[0msympy\u001b[0m\u001b[1;33m.\u001b[0m\u001b[0msymbols\u001b[0m\u001b[1;33m(\u001b[0m\u001b[1;34m'T_H T_V R_H R_V'\u001b[0m\u001b[1;33m)\u001b[0m\u001b[1;33m\u001b[0m\u001b[1;33m\u001b[0m\u001b[0m\n\u001b[0m\u001b[0;32m      2\u001b[0m \u001b[0mT_H\u001b[0m \u001b[1;33m=\u001b[0m \u001b[1;33m-\u001b[0m\u001b[0mR_V\u001b[0m\u001b[1;33m\u001b[0m\u001b[1;33m\u001b[0m\u001b[0m\n\u001b[0;32m      3\u001b[0m \u001b[0mR_H\u001b[0m \u001b[1;33m=\u001b[0m \u001b[1;33m-\u001b[0m\u001b[0mT_V\u001b[0m\u001b[1;33m\u001b[0m\u001b[1;33m\u001b[0m\u001b[0m\n\u001b[0;32m      4\u001b[0m \u001b[0mT_Vc\u001b[0m \u001b[1;33m=\u001b[0m \u001b[0mconjugate\u001b[0m\u001b[1;33m(\u001b[0m\u001b[0mT_V\u001b[0m\u001b[1;33m)\u001b[0m\u001b[1;33m\u001b[0m\u001b[1;33m\u001b[0m\u001b[0m\n\u001b[0;32m      5\u001b[0m \u001b[0mR_Vc\u001b[0m \u001b[1;33m=\u001b[0m \u001b[0mconjugate\u001b[0m\u001b[1;33m(\u001b[0m\u001b[0mR_V\u001b[0m\u001b[1;33m)\u001b[0m\u001b[1;33m\u001b[0m\u001b[1;33m\u001b[0m\u001b[0m\n",
      "\u001b[1;31mNameError\u001b[0m: name 'sympy' is not defined"
     ]
    }
   ],
   "source": [
    "T_H, T_V, R_H, R_V = sympy.symbols('T_H T_V R_H R_V')\n",
    "T_H = -R_V\n",
    "R_H = -T_V\n",
    "T_Vc = conjugate(T_V)\n",
    "R_Vc = conjugate(R_V)\n",
    "T_H, T_V, R_H, R_V, T_Vc, R_Vc"
   ]
  },
  {
   "cell_type": "code",
   "execution_count": 4,
   "id": "25223411",
   "metadata": {},
   "outputs": [
    {
     "data": {
      "image/png": "[encoded data removed]",
      "text/latex": [
       "$\\displaystyle \\left[\\begin{matrix}0.5 R_{V} \\overline{R_{V}} + 0.5 T_{V} \\overline{T_{V}} & 0.5 i \\left(- R_{V} \\overline{T_{V}} + T_{V} \\overline{R_{V}}\\right)\\\\0.5 i \\left(- R_{V} \\overline{T_{V}} + T_{V} \\overline{R_{V}}\\right) & 0.5 R_{V} \\overline{R_{V}} + 0.5 T_{V} \\overline{T_{V}}\\end{matrix}\\right]$"
      ],
      "text/plain": [
       "⎡         ___           ___         ⎛      ___       ___⎞⎤\n",
       "⎢ 0.5⋅R_V⋅R_V + 0.5⋅T_V⋅T_V   0.5⋅ⅈ⋅⎝- R_V⋅T_V + T_V⋅R_V⎠⎥\n",
       "⎢                                                        ⎥\n",
       "⎢      ⎛      ___       ___⎞           ___           ___ ⎥\n",
       "⎣0.5⋅ⅈ⋅⎝- R_V⋅T_V + T_V⋅R_V⎠   0.5⋅R_V⋅R_V + 0.5⋅T_V⋅T_V ⎦"
      ]
     },
     "execution_count": 4,
     "metadata": {},
     "output_type": "execute_result"
    }
   ],
   "source": [
    "psi2 = (T_H + T_V)*cb(2,0) + 1j*(R_H - R_V)*cb(2,1)\n",
    "phi2 = (T_H - T_V)*cb(2,0) + 1j*(R_H + R_V)*cb(2,1)\n",
    "rho2Bp = (1/4)*(proj(psi2) + proj(phi2))\n",
    "simplify(rho2Bp)"
   ]
  },
  {
   "cell_type": "code",
   "execution_count": 5,
   "id": "2ff42c1b",
   "metadata": {},
   "outputs": [
    {
     "data": {
      "image/png": "[encoded data removed]",
      "text/latex": [
       "$\\displaystyle \\left[\\begin{matrix}0.5 & 0.5 i \\left(- R_{V} \\overline{T_{V}} + T_{V} \\overline{R_{V}}\\right)\\\\0.5 i \\left(- R_{V} \\overline{T_{V}} + T_{V} \\overline{R_{V}}\\right) & 0.5\\end{matrix}\\right]$"
      ],
      "text/plain": [
       "⎡                                   ⎛      ___       ___⎞⎤\n",
       "⎢            0.5              0.5⋅ⅈ⋅⎝- R_V⋅T_V + T_V⋅R_V⎠⎥\n",
       "⎢                                                        ⎥\n",
       "⎢      ⎛      ___       ___⎞                             ⎥\n",
       "⎣0.5⋅ⅈ⋅⎝- R_V⋅T_V + T_V⋅R_V⎠              0.5            ⎦"
      ]
     },
     "execution_count": 5,
     "metadata": {},
     "output_type": "execute_result"
    }
   ],
   "source": [
    "simplify(rho2Bp).subs(0.5*R_V*R_Vc + 0.5*T_V*T_Vc, 0.5)"
   ]
  },
  {
   "cell_type": "code",
   "execution_count": null,
   "id": "85af5877",
   "metadata": {},
   "outputs": [],
   "source": []
  }
 ],
 "metadata": {
  "kernelspec": {
   "display_name": "Python 3",
   "language": "python",
   "name": "python3"
  },
  "language_info": {
   "codemirror_mode": {
    "name": "ipython",
    "version": 3
   },
   "file_extension": ".py",
   "mimetype": "text/x-python",
   "name": "python",
   "nbconvert_exporter": "python",
   "pygments_lexer": "ipython3",
   "version": "3.8.8"
  }
 },
 "nbformat": 4,
 "nbformat_minor": 5
}
