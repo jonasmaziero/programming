{
 "cells": [
  {
   "cell_type": "code",
   "execution_count": 1,
   "metadata": {},
   "outputs": [
    {
     "name": "stderr",
     "output_type": "stream",
     "text": [
      "C:\\Users\\Usuário\\AppData\\Local\\Temp\\ipykernel_3204\\1833980435.py:15: DeprecationWarning: Importing display from IPython.core.display is deprecated since IPython 7.14, please import from IPython display\n",
      "  from IPython.core.display import display, HTML, clear_output\n",
      "C:\\Users\\Usuário\\AppData\\Local\\Temp\\ipykernel_3204\\1833980435.py:15: DeprecationWarning: Importing clear_output from IPython.core.display is deprecated since IPython 7.14, please import from IPython display\n",
      "  from IPython.core.display import display, HTML, clear_output\n"
     ]
    }
   ],
   "source": [
    "%run init.ipynb"
   ]
  },
  {
   "cell_type": "code",
   "execution_count": 2,
   "metadata": {},
   "outputs": [],
   "source": [
    "from sympy import *"
   ]
  },
  {
   "cell_type": "markdown",
   "metadata": {},
   "source": [
    "## Trace\n",
    "\\begin{equation}\n",
    "Tr(A) := \\sum_{j}A_{j,j}\n",
    "\\end{equation}"
   ]
  },
  {
   "cell_type": "code",
   "execution_count": 2,
   "metadata": {},
   "outputs": [],
   "source": [
    "def trace(A):\n",
    "    d = A.shape[0]; tr = 0.0\n",
    "    for j in range(0,d):\n",
    "        tr += A[j,j]\n",
    "    return tr"
   ]
  },
  {
   "cell_type": "code",
   "execution_count": 3,
   "metadata": {},
   "outputs": [
    {
     "data": {
      "image/png": "[encoded data removed]",
      "text/latex": [
       "$\\displaystyle 2.0$"
      ],
      "text/plain": [
       "2.00000000000000"
      ]
     },
     "execution_count": 3,
     "metadata": {},
     "output_type": "execute_result"
    }
   ],
   "source": [
    "#trace(pauli(1)**2)"
   ]
  },
  {
   "cell_type": "markdown",
   "metadata": {},
   "source": [
    "### Eigenvalues"
   ]
  },
  {
   "cell_type": "code",
   "execution_count": 3,
   "metadata": {},
   "outputs": [],
   "source": [
    "# Outside this function, initialize: evals = zeros(d,1)\n",
    "def eVals(A):\n",
    "    d = A.shape[0]; evals = zeros(d,1)\n",
    "    eig = A.eigenvects()\n",
    "    ne = 0\n",
    "    j = 0\n",
    "    lk = 0\n",
    "    while ne < d:\n",
    "        mult = eig[j][1]\n",
    "        ne += mult\n",
    "        nk = lk + mult\n",
    "        for k in range(lk,nk):\n",
    "            evals[k] = eig[j][0]\n",
    "        lk = nk\n",
    "        j += 1\n",
    "    return evals"
   ]
  },
  {
   "cell_type": "code",
   "execution_count": 7,
   "metadata": {},
   "outputs": [],
   "source": [
    "#eVals(pauli(1))"
   ]
  },
  {
   "cell_type": "markdown",
   "metadata": {},
   "source": [
    "### Square root of an Hermitian matrix\n",
    "\\begin{equation}\n",
    "\\sqrt{A}=\\sum_{j=1}^{d}\\sqrt{a_{j}}|a_{j}\\rangle\\langle a_{j}|\n",
    "\\end{equation}"
   ]
  },
  {
   "cell_type": "code",
   "execution_count": 5,
   "metadata": {},
   "outputs": [
    {
     "data": {
      "image/png": "[encoded data removed]",
      "text/latex": [
       "$\\displaystyle \\left[\\begin{matrix}\\frac{1}{2} + \\frac{i}{2} & \\frac{1}{2} - \\frac{i}{2}\\\\\\frac{1}{2} - \\frac{i}{2} & \\frac{1}{2} + \\frac{i}{2}\\end{matrix}\\right]$"
      ],
      "text/plain": [
       "⎡1   ⅈ  1   ⅈ⎤\n",
       "⎢─ + ─  ─ - ─⎥\n",
       "⎢2   2  2   2⎥\n",
       "⎢            ⎥\n",
       "⎢1   ⅈ  1   ⅈ⎥\n",
       "⎢─ - ─  ─ + ─⎥\n",
       "⎣2   2  2   2⎦"
      ]
     },
     "execution_count": 5,
     "metadata": {},
     "output_type": "execute_result"
    }
   ],
   "source": [
    "def mat_sqrt(A):\n",
    "    d = A.shape[0]; eig = A.eigenvects(); Asqrt = zeros(d,d); ne = 0; j = 0; lk = 0\n",
    "    while ne < d:\n",
    "        mult = eig[j][1]; ne += mult\n",
    "        for k in range(0,mult):\n",
    "            Proj = proj(eig[j][2][k]); Asqrt += sqrt(eig[j][0])*(Proj/trace(Proj))\n",
    "        j += 1\n",
    "    return Asqrt\n",
    "mat_sqrt(pauli(1))"
   ]
  },
  {
   "cell_type": "markdown",
   "metadata": {},
   "source": [
    "### Exponential of an Hermitian matrix\n",
    "\\begin{equation}\n",
    "e^{A}=\\sum_{j=1}^{d}e^{a_{j}}|a_{j}\\rangle\\langle a_{j}|\n",
    "\\end{equation}"
   ]
  },
  {
   "cell_type": "code",
   "execution_count": null,
   "metadata": {},
   "outputs": [],
   "source": [
    "def mat_exp(A):\n",
    "    d = A.shape[0]; eig = A.eigenvects(); Aexp = zeros(d,d); ne = 0; j = 0; lk = 0\n",
    "    while ne < d:\n",
    "        mult = eig[j][1]; ne += mult\n",
    "        for k in range(0,mult):\n",
    "            Proj = proj(eig[j][2][k]); Aexp += exp(eig[j][0])*(Proj/trace(Proj))\n",
    "        j += 1\n",
    "    return Aexp\n",
    "#simplify(mat_exp(pauli(1)))"
   ]
  },
  {
   "cell_type": "code",
   "execution_count": 14,
   "metadata": {},
   "outputs": [
    {
     "data": {
      "text/plain": [
       "(array([ 1., -1.]),\n",
       " array([[ 0.70710678, -0.70710678],\n",
       "        [ 0.70710678,  0.70710678]]))"
      ]
     },
     "execution_count": 14,
     "metadata": {},
     "output_type": "execute_result"
    }
   ],
   "source": [
    "I = np.array([[1,0],[0,1]]); X = np.array([[0,1],[1,0]])\n",
    "Y = np.array([[0,-1j],[1j,0]]); Z = np.array([[1,0],[0,-1]])\n",
    "eva, eve = np.linalg.eig(X); eva, eve"
   ]
  },
  {
   "cell_type": "code",
   "execution_count": 17,
   "metadata": {},
   "outputs": [
    {
     "data": {
      "image/png": "[encoded data removed]",
      "text/latex": [
       "$\\displaystyle \\left[\\begin{matrix}2.71828182845905 & 0\\\\0 & 0.367879441171442\\end{matrix}\\right]$"
      ],
      "text/plain": [
       "⎡2.71828182845905          0        ⎤\n",
       "⎢                                   ⎥\n",
       "⎣       0          0.367879441171442⎦"
      ]
     },
     "execution_count": 17,
     "metadata": {},
     "output_type": "execute_result"
    }
   ],
   "source": [
    "def mat_exp_num(A):\n",
    "    d = A.shape[0]; Aexp = np.zeros((d,d), dtype = complex); eva, eve = np.linalg.eig(A)\n",
    "    for j in range(0, d):\n",
    "        Aexp += math.exp(eva[j])*proj_num(eve[:,j])\n",
    "    return Aexp\n",
    "simplify(mat_exp_num(Z))"
   ]
  },
  {
   "cell_type": "markdown",
   "metadata": {},
   "source": [
    "### Trace norm\n",
    "\\begin{equation}\n",
    "||A||_{tr} = \\mathrm{Tr}\\sqrt{A^{\\dagger}A} = \\sum_{j}|a_{j}|,\n",
    "\\end{equation}\n",
    "for $A=\\sum_{j}a_{j}|a_{j}\\rangle\\langle a_{j}|$."
   ]
  },
  {
   "cell_type": "code",
   "execution_count": 10,
   "metadata": {},
   "outputs": [],
   "source": [
    "def norm_tr(A):\n",
    "    d = A.shape[0]; eva = eVals(A)\n",
    "    TrNorm = 0\n",
    "    for j in range(0,d):\n",
    "        TrNorm += abs(eva[j])\n",
    "    return TrNorm"
   ]
  },
  {
   "cell_type": "code",
   "execution_count": 12,
   "metadata": {},
   "outputs": [],
   "source": [
    "#norm_tr(pauli(3))"
   ]
  },
  {
   "cell_type": "markdown",
   "metadata": {},
   "source": [
    "## Projector\n",
    "\\begin{align}\n",
    "\\Pi_{\\psi} = |\\psi\\rangle\\langle\\psi|\n",
    "\\end{align}"
   ]
  },
  {
   "cell_type": "code",
   "execution_count": 8,
   "metadata": {},
   "outputs": [],
   "source": [
    "def proj_num(psi): \n",
    "    return np.outer(psi, np.ndarray.conjugate(psi))\n",
    "#proj_num(np.array([[1,1/5]]))"
   ]
  },
  {
   "cell_type": "code",
   "execution_count": 4,
   "metadata": {},
   "outputs": [],
   "source": [
    "def proj_s(psi): # simbolic projector\n",
    "    d = psi.shape[0]\n",
    "    proj = zeros(d,d)\n",
    "    for j in range(0,d):\n",
    "        for k in range(0,d):\n",
    "            proj[j,k] = psi[j]*conjugate(psi[k])\n",
    "    return proj"
   ]
  },
  {
   "cell_type": "code",
   "execution_count": 6,
   "metadata": {},
   "outputs": [
    {
     "data": {
      "text/latex": [
       "$\\displaystyle \\left[\\begin{matrix}\\frac{1}{2} & - 0.5 i\\\\0.5 i & 0.5\\end{matrix}\\right]$"
      ],
      "text/plain": [
       "Matrix([\n",
       "[  1/2, -0.5*I],\n",
       "[0.5*I,    0.5]])"
      ]
     },
     "execution_count": 6,
     "metadata": {},
     "output_type": "execute_result"
    }
   ],
   "source": [
    "psi = (1/sqrt(2))*Matrix([1,1j])\n",
    "proj = proj_s(psi); proj"
   ]
  },
  {
   "cell_type": "markdown",
   "metadata": {},
   "source": [
    "## Operator representation in a given basis\n",
    "Consider an operator $O$, initially represented in the standard basis by $O_{j,k}$. Let's regard an arbitrary basis\n",
    "$$|b^{j}\\rangle = \\begin{bmatrix} b_{1}^{j} \\\\ \\vdots \\\\ b_{d}^{j} \\end{bmatrix} \\equiv \\begin{bmatrix} b_{1,j} \\\\ \\vdots \\\\ b_{d,j} \\end{bmatrix}.$$\n",
    "The vectors of this basis will be placed as the column vectors of a matrix\n",
    "$$B = \\begin{bmatrix} |b^{1}\\rangle & \\cdots & |b^{d}\\rangle \\end{bmatrix}.$$\n",
    "Thus\n",
    "\\begin{align}\n",
    "O_{b^{j},b^{k}} &= \\langle b^{j}|O|b^{k}\\rangle = \\begin{bmatrix} b_{1,j}^{*} & \\cdots & b_{d,j}^{*}\\end{bmatrix}\\begin{bmatrix} O_{1,1} & \\cdots & O_{1,d} \\\\ \\vdots & \\ddots & \\vdots \\\\ O_{d,1} & \\cdots & O_{d,d} \\end{bmatrix}\\begin{bmatrix} b_{1,k} \\\\ \\cdots \\\\ b_{d,k} \\end{bmatrix} \\\\\n",
    "& = \\begin{bmatrix} b_{1,j}^{*} & \\cdots & b_{d,j}^{*}\\end{bmatrix}\\begin{bmatrix} \\sum_{l}O_{1,l}b_{l,k} \\\\ \\cdots \\\\ \\sum_{l}O_{d,l}b_{l,k} \\end{bmatrix} = \\sum_{m,l}b_{m,j}^{*}O_{m,l}b_{l,k}.\n",
    "\\end{align}"
   ]
  },
  {
   "cell_type": "code",
   "execution_count": 24,
   "metadata": {},
   "outputs": [],
   "source": [
    "def basis_rep(O, B):\n",
    "    # input O represented in the standard basis\n",
    "    # input B, the new basis vectors as the columns of B\n",
    "    d = O.shape[0]; OB = np.zeros((d,d), dtype='complex')\n",
    "    for j in range(0, d):\n",
    "        for k in range(0, d):\n",
    "            for l in range(0, d):\n",
    "                for m in range(0, d):\n",
    "                    OB[j,k] += B[m,j].conjugate()*O[m,l]*B[l,k]\n",
    "    return OB"
   ]
  },
  {
   "cell_type": "code",
   "execution_count": 27,
   "metadata": {},
   "outputs": [],
   "source": [
    "#Sx = np.array([[0,1],[1,0]]); B = (1/sqrt(2))*np.array([[1,1],[1,-1]]); OB = basis_rep(Sx, B); Sx, OB"
   ]
  },
  {
   "cell_type": "code",
   "execution_count": null,
   "metadata": {},
   "outputs": [],
   "source": []
  }
 ],
 "metadata": {
  "kernelspec": {
   "display_name": "Python 3 (ipykernel)",
   "language": "python",
   "name": "python3"
  },
  "language_info": {
   "codemirror_mode": {
    "name": "ipython",
    "version": 3
   },
   "file_extension": ".py",
   "mimetype": "text/x-python",
   "name": "python",
   "nbconvert_exporter": "python",
   "pygments_lexer": "ipython3",
   "version": "3.11.1"
  }
 },
 "nbformat": 4,
 "nbformat_minor": 4
}
