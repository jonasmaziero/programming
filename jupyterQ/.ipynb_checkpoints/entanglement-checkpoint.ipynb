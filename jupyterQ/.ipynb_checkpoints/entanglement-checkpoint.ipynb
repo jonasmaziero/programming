{
 "cells": [
  {
   "cell_type": "code",
   "execution_count": 13,
   "metadata": {},
   "outputs": [],
   "source": [
    "%run init.ipynb\n",
    "%run ptr.ipynb\n",
    "%run jupyterQ.ipynb"
   ]
  },
  {
   "cell_type": "markdown",
   "metadata": {},
   "source": [
    "# Entanglement functions"
   ]
  },
  {
   "cell_type": "markdown",
   "metadata": {},
   "source": [
    "## Negativity\n",
    "\\begin{equation}\n",
    "E_{n}(\\rho) = \\frac{||T_{s}(\\rho)||_{tr}-1}{2},\n",
    "\\end{equation}\n",
    "where $T_{s} (s= a,b)$ is the partial tranpose of the state $\\rho$."
   ]
  },
  {
   "cell_type": "code",
   "execution_count": 4,
   "metadata": {},
   "outputs": [],
   "source": [
    "# outside this function, initialize: rhoTb = zeros(4,4); evals = zeros(4,1)\n",
    "def negativity(da, db, rho):\n",
    "    d = da*db\n",
    "    rhoTb = pTransposeB(da, db, rho)\n",
    "    En = (normTr(d,rhoTb) - 1)/2\n",
    "    return En"
   ]
  },
  {
   "cell_type": "markdown",
   "metadata": {},
   "source": [
    "## Concurrence\n",
    "\\begin{equation}\n",
    "C(\\rho) = \\max\\left(0,2\\sqrt{\\lambda_{\\max}} - \\sum_{j=0}^{3}\\sqrt{\\lambda_{j}}\\right),\n",
    "\\end{equation}\n",
    "with $\\lambda_{j}$ being the eigenvalues of \n",
    "\\begin{equation}\n",
    "\\rho\\tilde{\\rho} = \\rho\\sigma_{2}\\otimes\\sigma_{2}\\rho^{*}\\sigma_{2}\\otimes\\sigma_{2}\n",
    "\\end{equation}\n",
    "and $\\rho^{*}$ is the complex conjugate of rho when represented in the standard basis."
   ]
  },
  {
   "cell_type": "code",
   "execution_count": 28,
   "metadata": {},
   "outputs": [],
   "source": [
    "def concurrence(rho):\n",
    "    R = rho*tp(pauli(2),pauli(2))*conjugate(rho)*tp(pauli(2),pauli(2))\n",
    "    evals = zeros(4,1)\n",
    "    ev = eVals(4, R)\n",
    "    evm = max(abs(ev[0]), abs(ev[1]), abs(ev[2]), abs(ev[3]))\n",
    "    C = 2.0*sqrt(abs(evm)) - sqrt(abs(ev[0])) - sqrt(abs(ev[1])) - sqrt(abs(ev[2])) - sqrt(abs(ev[3]))\n",
    "    if C < 0.0:\n",
    "        C = 0.0\n",
    "    return C"
   ]
  },
  {
   "cell_type": "code",
   "execution_count": 29,
   "metadata": {},
   "outputs": [],
   "source": [
    "%run states.ipynb\n",
    "%run gates.ipynb"
   ]
  },
  {
   "cell_type": "code",
   "execution_count": 31,
   "metadata": {},
   "outputs": [
    {
     "data": {
      "image/png": "[encoded data removed]",
      "text/latex": [
       "$$1.0$$"
      ],
      "text/plain": [
       "1.00000000000000"
      ]
     },
     "execution_count": 31,
     "metadata": {},
     "output_type": "execute_result"
    }
   ],
   "source": [
    "concurrence(proj(Bell(0,0)))\n",
    "#concurrence(werner(w))"
   ]
  },
  {
   "cell_type": "code",
   "execution_count": 43,
   "metadata": {},
   "outputs": [
    {
     "data": {
      "image/png": "[encoded data removed]",
      "text/latex": [
       "$$\\left[\\begin{matrix}l_{1}^{2} + l_{2}^{2} & l_{1} l_{3} & l_{1} l_{4} & l_{2} l_{5}\\\\l_{1} l_{3} & l_{3}^{2} & l_{3} l_{4} & 0\\\\l_{1} l_{4} & l_{3} l_{4} & l_{4}^{2} & 0\\\\l_{2} l_{5} & 0 & 0 & l_{5}^{2}\\end{matrix}\\right]$$"
      ],
      "text/plain": [
       "⎡  2     2                     ⎤\n",
       "⎢l₁  + l₂   l₁⋅l₃  l₁⋅l₄  l₂⋅l₅⎥\n",
       "⎢                              ⎥\n",
       "⎢              2               ⎥\n",
       "⎢  l₁⋅l₃     l₃    l₃⋅l₄    0  ⎥\n",
       "⎢                              ⎥\n",
       "⎢                     2        ⎥\n",
       "⎢  l₁⋅l₄    l₃⋅l₄   l₄      0  ⎥\n",
       "⎢                              ⎥\n",
       "⎢                            2 ⎥\n",
       "⎣  l₂⋅l₅      0      0     l₅  ⎦"
      ]
     },
     "execution_count": 43,
     "metadata": {},
     "output_type": "execute_result"
    }
   ],
   "source": [
    "l1, l2, l3, l4, l5 = symbols('l_1 l_2 l_3 l_4 l_5', real=True) \n",
    "rho = Matrix([[l1**2+l2**2,l1*l3,l1*l4,l2*l5],[l1*l3,l3**2,l3*l4,0],[l1*l4,l3*l4,l4**2,0],[l2*l5,0,0,l5**2]])\n",
    "rho"
   ]
  },
  {
   "cell_type": "code",
   "execution_count": 46,
   "metadata": {},
   "outputs": [
    {
     "data": {
      "image/png": "[encoded data removed]",
      "text/latex": [
       "$$\\left[\\begin{matrix}1.0 l_{5}^{2} \\left(l_{1}^{2} + 2 l_{2}^{2}\\right) & l_{1} l_{4} \\left(- 1.0 l_{2} l_{5} + 2.0 l_{3} l_{4}\\right) & l_{1} l_{3} \\left(- 1.0 l_{2} l_{5} + 2.0 l_{3} l_{4}\\right) & - 2.0 l_{1}^{2} l_{3} l_{4} + 2.0 l_{2} l_{5} \\left(l_{1}^{2} + l_{2}^{2}\\right)\\\\1.0 l_{1} l_{3} l_{5}^{2} & 2.0 l_{3}^{2} l_{4}^{2} & 2.0 l_{3}^{3} l_{4} & l_{1} l_{3} \\left(1.0 l_{2} l_{5} - 2.0 l_{3} l_{4}\\right)\\\\1.0 l_{1} l_{4} l_{5}^{2} & 2.0 l_{3} l_{4}^{3} & 2.0 l_{3}^{2} l_{4}^{2} & l_{1} l_{4} \\left(1.0 l_{2} l_{5} - 2.0 l_{3} l_{4}\\right)\\\\2.0 l_{2} l_{5}^{3} & - 1.0 l_{1} l_{4} l_{5}^{2} & - 1.0 l_{1} l_{3} l_{5}^{2} & 1.0 l_{5}^{2} \\left(l_{1}^{2} + 2 l_{2}^{2}\\right)\\end{matrix}\\right]$$"
      ],
      "text/plain": [
       "⎡      2 ⎛  2       2⎞                                                        \n",
       "⎢1.0⋅l₅ ⋅⎝l₁  + 2⋅l₂ ⎠  l₁⋅l₄⋅(-1.0⋅l₂⋅l₅ + 2.0⋅l₃⋅l₄)  l₁⋅l₃⋅(-1.0⋅l₂⋅l₅ + 2.\n",
       "⎢                                                                             \n",
       "⎢                2                     2   2                            3     \n",
       "⎢    1.0⋅l₁⋅l₃⋅l₅                2.0⋅l₃ ⋅l₄                       2.0⋅l₃ ⋅l₄  \n",
       "⎢                                                                             \n",
       "⎢                2                         3                           2   2  \n",
       "⎢    1.0⋅l₁⋅l₄⋅l₅                 2.0⋅l₃⋅l₄                      2.0⋅l₃ ⋅l₄   \n",
       "⎢                                                                             \n",
       "⎢              3                             2                               2\n",
       "⎣     2.0⋅l₂⋅l₅                 -1.0⋅l₁⋅l₄⋅l₅                   -1.0⋅l₁⋅l₃⋅l₅ \n",
       "\n",
       "                  2                   ⎛  2     2⎞⎤\n",
       "0⋅l₃⋅l₄)  - 2.0⋅l₁ ⋅l₃⋅l₄ + 2.0⋅l₂⋅l₅⋅⎝l₁  + l₂ ⎠⎥\n",
       "                                                 ⎥\n",
       "                                                 ⎥\n",
       "               l₁⋅l₃⋅(1.0⋅l₂⋅l₅ - 2.0⋅l₃⋅l₄)     ⎥\n",
       "                                                 ⎥\n",
       "                                                 ⎥\n",
       "               l₁⋅l₄⋅(1.0⋅l₂⋅l₅ - 2.0⋅l₃⋅l₄)     ⎥\n",
       "                                                 ⎥\n",
       "                         2 ⎛  2       2⎞         ⎥\n",
       "                   1.0⋅l₅ ⋅⎝l₁  + 2⋅l₂ ⎠         ⎦"
      ]
     },
     "execution_count": 46,
     "metadata": {},
     "output_type": "execute_result"
    }
   ],
   "source": [
    "R = rho*tp(pauli(2),pauli(2))*conjugate(rho)*tp(pauli(2),pauli(2))\n",
    "simplify(R)\n",
    "#eVals(4, R)"
   ]
  },
  {
   "cell_type": "code",
   "execution_count": null,
   "metadata": {},
   "outputs": [],
   "source": []
  }
 ],
 "metadata": {
  "kernelspec": {
   "display_name": "Python 3 (ipykernel)",
   "language": "python",
   "name": "python3"
  },
  "language_info": {
   "codemirror_mode": {
    "name": "ipython",
    "version": 3
   },
   "file_extension": ".py",
   "mimetype": "text/x-python",
   "name": "python",
   "nbconvert_exporter": "python",
   "pygments_lexer": "ipython3",
   "version": "3.8.8"
  }
 },
 "nbformat": 4,
 "nbformat_minor": 2
}
