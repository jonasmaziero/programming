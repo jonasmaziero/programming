{
 "cells": [
  {
   "cell_type": "code",
   "execution_count": 2,
   "metadata": {},
   "outputs": [],
   "source": [
    "import platform\n",
    "if platform.system() == 'Linux':\n",
    "    %run '/home/jonasmaziero/Dropbox/GitHub/jupyterQ/jupyterQ.ipynb'\n",
    "    %run '/home/jonasmaziero/Dropbox/GitHub/jupyterQ/gellmann.ipynb'\n",
    "    %run '/home/jonasmaziero/Dropbox/GitHub/jupyterQ/ptr.ipynb'\n",
    "    %run '/home/jonasmaziero/Dropbox/GitHub/jupyterQ/states.ipynb'\n",
    "else:\n",
    "    %run '/Users/jonasmaziero/Dropbox/GitHub/jupyterQ/jupyterQ.ipynb'\n",
    "    %run '/Users/jonasmaziero/Dropbox/GitHub/jupyterQ/gellmann.ipynb'\n",
    "    %run '/Users/jonasmaziero/Dropbox/GitHub/jupyterQ/ptr.ipynb'\n",
    "    %run '/Users/jonasmaziero/Dropbox/GitHub/jupyterQ/states.ipynb'"
   ]
  },
  {
   "cell_type": "markdown",
   "metadata": {},
   "source": [
    "## Trace distance discord\n"
   ]
  },
  {
   "cell_type": "markdown",
   "metadata": {},
   "source": [
    "### Hellinger discord (https://arxiv.org/abs/1510.06995)\n",
    "For a qubit-qudit system with ($d_{a}=2$), for $Tr(\\gamma_{j}\\gamma_{k})=d\\delta_{j,k}$, and for\n",
    "\\begin{equation}\n",
    "\\sqrt{\\rho} = \\frac{1}{\\sqrt{d_{a}d_{b}}}\\left(t_{0}\\mathbb{I}_{a}\\otimes\\mathbb{I}_{b}+\\vec{x}\\cdot\\vec{\\sigma}\\otimes\\mathbb{I}_{b}+\\mathbb{I}_{a}\\otimes\\vec{y}\\cdot\\vec{\\gamma}+\\sum_{j=1}^{d_{a}^{2}-1}\\sum_{k=1}^{d_{b}^{2}-1}T_{j,k}\\sigma_{j}\\otimes\\Gamma_{k}\\right)\n",
    "\\end{equation}\n",
    "we have\n",
    "\\begin{equation}\n",
    "D_{he}(\\rho)=2-2\\sqrt{t_{0}^{2}+||\\vec{y}||^{2}+k_{\\max}},\n",
    "\\end{equation}\n",
    "with $k_{\\max}$ being the largest eigenvalue of $K=\\vec{x}\\vec{x}^{T}+TT^{T}$. To get $D_{he}(\\rho)\\in[0,1]$ we divide the expression above by its maximum value $2-2\\sqrt{d_{a}}$."
   ]
  },
  {
   "cell_type": "code",
   "execution_count": 48,
   "metadata": {},
   "outputs": [],
   "source": [
    "def hellinger(da,db,rho):\n",
    "    M = mat_sqrt(da*db,rho)\n",
    "    A = ptraceB(da,db,M)\n",
    "    bva = bloch_vector(da,A)/sqrt(2*db)\n",
    "    B = ptraceA(da,db,M)\n",
    "    bvb = bloch_vector(db,B)/2\n",
    "    cm = corr_mat(da,db,M)/2\n",
    "    ev = eVals(da**2-1, bva*bva.T+cm*cm.T)\n",
    "    return (1-sqrt((trace(da,A)/sqrt(2*db))**2+(bvb.norm())**2+max(ev)))/(1-1/sqrt(da))"
   ]
  },
  {
   "cell_type": "code",
   "execution_count": 50,
   "metadata": {},
   "outputs": [],
   "source": [
    "#hellinger(2,2,werner(1))"
   ]
  },
  {
   "cell_type": "markdown",
   "metadata": {},
   "source": [
    "### Mutual information\n",
    "Is a quatifier for the total correlations in a quantum states defined as:\n",
    "\\begin{equation}\n",
    "I(\\rho_{ab}) = S(\\rho_{a}) + S(\\rho_{b}) - S(\\rho_{ab}).\n",
    "\\end{equation}"
   ]
  },
  {
   "cell_type": "code",
   "execution_count": 64,
   "metadata": {},
   "outputs": [],
   "source": [
    "def mutual_info(da,db,rho):\n",
    "    rhoa = ptraceB(da, db, rho)\n",
    "    Sa = von_neumann(da,rhoa)\n",
    "    rhob = ptraceA(da, db, rho)\n",
    "    Sb = von_neumann(db,rhob)\n",
    "    S = von_neumann(da*db,rho) \n",
    "    return Sa+Sb-S"
   ]
  },
  {
   "cell_type": "markdown",
   "metadata": {},
   "source": [
    "## Zurek's discord for 2 qubits\n"
   ]
  },
  {
   "cell_type": "code",
   "execution_count": 5,
   "metadata": {},
   "outputs": [
    {
     "data": {
      "image/png": "[encoded data removed]",
      "text/latex": [
       "$$\\left[\\begin{matrix}\\sin{\\left (\\frac{\\theta}{2} \\right )}\\\\- e^{1.0 i \\phi} \\cos{\\left (\\frac{\\theta}{2} \\right )}\\end{matrix}\\right]$$"
      ],
      "text/plain": [
       "⎡        ⎛θ⎞     ⎤\n",
       "⎢     sin⎜─⎟     ⎥\n",
       "⎢        ⎝2⎠     ⎥\n",
       "⎢                ⎥\n",
       "⎢  1.0⋅ⅈ⋅φ    ⎛θ⎞⎥\n",
       "⎢-ℯ       ⋅cos⎜─⎟⎥\n",
       "⎣             ⎝2⎠⎦"
      ]
     },
     "execution_count": 5,
     "metadata": {},
     "output_type": "execute_result"
    }
   ],
   "source": [
    "th, ph = symbols(\"theta phi\")\n",
    "psi1 = Matrix([[cos(th/2)],[exp(1j*ph)*sin(th/2)]])\n",
    "psi2 = Matrix([[sin(th/2)],[-exp(1j*ph)*cos(th/2)]])\n",
    "psi2"
   ]
  },
  {
   "cell_type": "code",
   "execution_count": 14,
   "metadata": {},
   "outputs": [
    {
     "data": {
      "image/png": "[encoded data removed]",
      "text/latex": [
       "$$\\left[\\begin{matrix}0 & 0\\\\0 & 0\\end{matrix}\\right]$$"
      ],
      "text/plain": [
       "⎡0  0⎤\n",
       "⎢    ⎥\n",
       "⎣0  0⎦"
      ]
     },
     "execution_count": 14,
     "metadata": {},
     "output_type": "execute_result"
    }
   ],
   "source": [
    "P1 = Matrix([[cos(th/2)**2,exp(-1j*ph)*sin(th/2)*cos(th/2)],[exp(1j*ph)*sin(th/2)*cos(th/2),sin(th/2)**2]])\n",
    "P2 = Matrix([[sin(th/2)**2,-exp(-1j*ph)*sin(th/2)*cos(th/2)],[-exp(1j*ph)*sin(th/2)*cos(th/2),cos(th/2)**2]])\n",
    "simplify(P1*P2)"
   ]
  },
  {
   "cell_type": "code",
   "execution_count": 16,
   "metadata": {},
   "outputs": [
    {
     "data": {
      "image/png": "[encoded data removed]",
      "text/latex": [
       "$$\\left[\\begin{matrix}r_{11} & r_{12} & r_{13} & r_{14}\\\\r_{21} & r_{22} & r_{23} & r_{24}\\\\r_{31} & r_{32} & r_{33} & r_{34}\\\\r_{41} & r_{42} & r_{43} & r_{44}\\end{matrix}\\right]$$"
      ],
      "text/plain": [
       "⎡r₁₁  r₁₂  r₁₃  r₁₄⎤\n",
       "⎢                  ⎥\n",
       "⎢r₂₁  r₂₂  r₂₃  r₂₄⎥\n",
       "⎢                  ⎥\n",
       "⎢r₃₁  r₃₂  r₃₃  r₃₄⎥\n",
       "⎢                  ⎥\n",
       "⎣r₄₁  r₄₂  r₄₃  r₄₄⎦"
      ]
     },
     "execution_count": 16,
     "metadata": {},
     "output_type": "execute_result"
    }
   ],
   "source": [
    "r11,r12,r13,r14,r21,r22,r23,r24,r31,r32,r33,r34,r41,r42,r43,r44 = symbols(\"r11 r12 r13 r14 r21 r22 r23 r24 r31 r32 r33 r34 r41 r42 r43 r44\")\n",
    "rho = Matrix([[r11,r12,r13,r14],[r21,r22,r23,r24],[r31,r32,r33,r34],[r41,r42,r43,r44]])\n",
    "rho"
   ]
  },
  {
   "cell_type": "code",
   "execution_count": 20,
   "metadata": {},
   "outputs": [
    {
     "data": {
      "image/png": "[encoded data removed]",
      "text/latex": [
       "$$\\frac{r_{11}}{4} \\cos{\\left (2 \\theta \\right )} + \\frac{3 r_{11}}{4} + \\frac{r_{12}}{4} e^{1.0 i \\phi} \\sin{\\left (2 \\theta \\right )} + \\frac{r_{21}}{4} e^{- 1.0 i \\phi} \\sin{\\left (2 \\theta \\right )} - \\frac{r_{22}}{4} \\cos{\\left (2 \\theta \\right )} + \\frac{r_{22}}{4}$$"
      ],
      "text/plain": [
       "                            1.0⋅ⅈ⋅φ                 -1.0⋅ⅈ⋅φ                  \n",
       "r₁₁⋅cos(2⋅θ)   3⋅r₁₁   r₁₂⋅ℯ       ⋅sin(2⋅θ)   r₂₁⋅ℯ        ⋅sin(2⋅θ)   r₂₂⋅co\n",
       "──────────── + ───── + ───────────────────── + ────────────────────── - ──────\n",
       "     4           4               4                       4                   4\n",
       "\n",
       "            \n",
       "s(2⋅θ)   r₂₂\n",
       "────── + ───\n",
       "          4 "
      ]
     },
     "execution_count": 20,
     "metadata": {},
     "output_type": "execute_result"
    }
   ],
   "source": [
    "rhoMb = tp(Pauli(0),P1)*rho*tp(Pauli(0),P1) + tp(Pauli(0),P2)*rho*tp(Pauli(0),P2)\n",
    "simplify(rhoMb[0,0])"
   ]
  },
  {
   "cell_type": "code",
   "execution_count": null,
   "metadata": {},
   "outputs": [],
   "source": []
  }
 ],
 "metadata": {
  "kernelspec": {
   "display_name": "Python 3 (ipykernel)",
   "language": "python",
   "name": "python3"
  },
  "language_info": {
   "codemirror_mode": {
    "name": "ipython",
    "version": 3
   },
   "file_extension": ".py",
   "mimetype": "text/x-python",
   "name": "python",
   "nbconvert_exporter": "python",
   "pygments_lexer": "ipython3",
   "version": "3.8.11"
  }
 },
 "nbformat": 4,
 "nbformat_minor": 2
}
